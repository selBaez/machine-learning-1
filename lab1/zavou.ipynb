{
 "cells": [
  {
   "cell_type": "markdown",
   "metadata": {},
   "source": [
    "# Lab 1: Linear Regression and Overfitting\n",
    "\n",
    "### Machine Learning and Pattern Recognition, September 2015\n",
    "\n",
    "* The lab exercises should be made in groups of two or three people.\n",
    "* The deadline is sunday September 20, 23:59.\n",
    "* Assignment should be sent to Philip Versteeg. (p.j.j.p.versteeg@uva.nl) The subject line of your email should be \"\\#lab\\_lastname1\\_lastname2\\_lastname3\".\n",
    "* Put your and your teammates' names in the body of the email\n",
    "* Attach the .IPYNB (IPython Notebook) file containing your code and answers. Naming of the file follows the same rule as the subject line. For example, if the subject line is \"lab01\\_Kingma\\_Hu\", the attached file should be \"lab01\\_Kingma\\_Hu.ipynb\". Only use underscores (\"\\_\") to connect names, otherwise the files cannot be parsed.\n",
    "* Make sure we can run your notebook / scripts!\n",
    "\n",
    "Notes on implementation:\n",
    "\n",
    "* You should write your code and answers in this IPython Notebook: http://ipython.org/notebook.html. If you have problems, please contact me.\n",
    "* Please write your answers right below the questions.\n",
    "* Among the first lines of your notebook should be \"%pylab inline\". This imports all required modules, and your plots will appear inline.\n",
    "* Refer to last week's lab notes, i.e. http://docs.scipy.org/doc/, if you are unsure about what function to use. There are different correct ways to implement each problem!\n",
    "* For this lab, your regression solutions should be in closed form, i.e., should not perform iterative gradient-based optimization but find the exact optimum directly."
   ]
  },
  {
   "cell_type": "markdown",
   "metadata": {},
   "source": [
    "$\\newcommand{\\bPhi}{\\mathbf{\\Phi}}$\n",
    "$\\newcommand{\\bx}{\\mathbf{x}}$\n",
    "$\\newcommand{\\bw}{\\mathbf{w}}$\n",
    "$\\newcommand{\\bt}{\\mathbf{t}}$\n",
    "$\\newcommand{\\by}{\\mathbf{y}}$\n",
    "$\\newcommand{\\bm}{\\mathbf{m}}$\n",
    "$\\newcommand{\\bS}{\\mathbf{S}}$\n",
    "$\\newcommand{\\bI}{\\mathbf{I}}$\n",
    "\n",
    "## Part 1: Polynomial Regression"
   ]
  },
  {
   "cell_type": "markdown",
   "metadata": {},
   "source": [
    "### 1.1. Generate sinusoidal data (5 points)\n",
    "Write a method `gen_sinusoidal(N)` that generates toy data like in fig 1.2 of the MLPR book. The method should have a parameter $N$, and should return $N$-dimensional vectors $\\bx$ and $\\bt$, where $\\bx$ contains evenly spaced values from 0 to (including) 2$\\pi$, and the elements $t_i$ of $\\bt$ are distributed according to:\n",
    "\n",
    "$$t_i \\sim \\mathcal{N}(\\mu_i, \\sigma^2)$$\n",
    "\n",
    "where $x_i$ is the $i$-th elements of $\\bf{x}$, the mean $\\mu_i = sin(x_i)$ and the standard deviation $\\sigma = 0.2$.\n"
   ]
  },
  {
   "cell_type": "code",
   "execution_count": 1,
   "metadata": {
    "collapsed": false
   },
   "outputs": [
    {
     "name": "stdout",
     "output_type": "stream",
     "text": [
      "Populating the interactive namespace from numpy and matplotlib\n"
     ]
    }
   ],
   "source": [
    "%pylab inline\n",
    "import numpy as np\n",
    "def gen_sinusoidal(N):\n",
    "    x = np.linspace(0,2*np.pi,N)\n",
    "    sigma = 0.2\n",
    "    t = np.zeros(N)\n",
    "    R = []\n",
    "    for i in range(N):\n",
    "        t[i] = np.random.normal(np.sin(x[i]),sigma*sigma)\n",
    "        R.append([x[i], t[i]])\n",
    "    return R\n",
    "    "
   ]
  },
  {
   "cell_type": "markdown",
   "metadata": {},
   "source": [
    "### 1.2 Polynomial regression (15 points)\n",
    "\n",
    "Write a method `fit_polynomial(x, t, M)` that finds the maximum-likelihood solution of an _unregularized_ $M$-th order polynomial for some dataset `x`. The error function to minimize w.r.t. $\\bw$ is:\n",
    "\n",
    "$E(\\bw) = \\frac{1}{2} (\\bPhi\\bw - \\bt)^T(\\bPhi\\bw - \\bt)$\n",
    "\n",
    "where $\\bPhi$ is the _feature matrix_ (or _design matrix_) as explained in the MLPR book at section 3.1.1, $\\bt$ is the vector of target values. Your method should return a vector $\\bw$ with the maximum-likelihood parameter estimates. "
   ]
  },
  {
   "cell_type": "code",
   "execution_count": 2,
   "metadata": {
    "collapsed": false
   },
   "outputs": [],
   "source": [
    "import numpy as np\n",
    "def fit_polynomial(x, t, M):\n",
    "    N = len(x)\n",
    "    Phi = np.zeros((N,M+1))\n",
    "    for i in range(M+1):\n",
    "        xi = np.power(x,i)\n",
    "        Phi[:,i] = np.transpose(xi)\n",
    "    PhiT = np.transpose(Phi)\n",
    "    w = np.dot(np.dot(np.linalg.inv(np.dot(PhiT,Phi)),PhiT),t)\n",
    "    return w\n"
   ]
  },
  {
   "cell_type": "markdown",
   "metadata": {},
   "source": [
    "### 1.3 Plot (5 points)\n",
    "Sample a dataset with $N=9$, and fit four polynomials with $M \\in (0, 1, 3, 9)$.\n",
    "For each value of $M$, plot the prediction function, along with the data and the original sine function. The resulting figure should look similar to fig 1.4 of the MLPR book. Note that you can use matplotlib's `plt.pyplot(.)` functionality for creating grids of figures."
   ]
  },
  {
   "cell_type": "code",
   "execution_count": 3,
   "metadata": {
    "collapsed": false
   },
   "outputs": [
    {
     "data": {
      "image/png": "[encoded data removed]",
      "text/plain": [
       "<matplotlib.figure.Figure at 0x4177a90>"
      ]
     },
     "metadata": {},
     "output_type": "display_data"
    },
    {
     "data": {
      "image/png": "[encoded data removed]",
      "text/plain": [
       "<matplotlib.figure.Figure at 0xa387b38>"
      ]
     },
     "metadata": {},
     "output_type": "display_data"
    },
    {
     "data": {
      "image/png": "[encoded data removed]",
      "text/plain": [
       "<matplotlib.figure.Figure at 0xa50d940>"
      ]
     },
     "metadata": {},
     "output_type": "display_data"
    },
    {
     "data": {
      "image/png": "[encoded data removed]",
      "text/plain": [
       "<matplotlib.figure.Figure at 0xa6816d8>"
      ]
     },
     "metadata": {},
     "output_type": "display_data"
    }
   ],
   "source": [
    "import numpy as np\n",
    "import matplotlib.pyplot as plt\n",
    "def gen_sinusoidal(N):\n",
    "    x = np.linspace(0,2*np.pi,N)\n",
    "    sigma = 0.2\n",
    "    t = np.zeros(N)\n",
    "    R = []\n",
    "    for i in range(N):\n",
    "        t[i] = np.random.normal(np.sin(x[i]),sigma*sigma)\n",
    "        R.append([x[i], t[i]])\n",
    "    return R\n",
    "def fit_polynomial(x, t, M):\n",
    "    N = len(x)\n",
    "    Phi = np.zeros((N,M+1))\n",
    "    for i in range(M+1):\n",
    "        xi = np.power(x,i)\n",
    "        Phi[:,i] = np.transpose(xi)\n",
    "    PhiT = np.transpose(Phi)\n",
    "    w = np.dot(np.dot(np.linalg.inv(np.dot(PhiT,Phi)),PhiT),t)\n",
    "    return w    \n",
    "N = 9\n",
    "M = [0,1,3,9]    \n",
    "k = gen_sinusoidal(N)\n",
    "x = np.zeros(N)\n",
    "t = np.zeros(N)\n",
    "for i in range(N):\n",
    "    x[i] = k[i][0]\n",
    "    t[i] = k[i][1]\n",
    "s = np.linspace(0,2*np.pi,30)\n",
    "for j in M:\n",
    "    w = fit_polynomial(x,t,j)\n",
    "    plt.figure(j)\n",
    "    plt.axis([0.0,2*np.pi,-1.5,1.5])\n",
    "    plt.plot(x,t,\"o\")\n",
    "    plt.plot(s,np.sin(s))\n",
    "    p = np.poly1d(w)\n",
    "    plt.plot(np.polynomial.polynomial.polyval(s,p))\n"
   ]
  },
  {
   "cell_type": "markdown",
   "metadata": {},
   "source": [
    "### 1.4 Regularized linear regression (10 points)\n",
    "\n",
    "Write a method `fit_polynomial_reg(x, t, M, lamb)` that fits a _regularized_ $M$-th order polynomial to the sinusoidal data, as discussed in the lectures, where `lamb` is the regularization term _lambda_. (Note that 'lambda' cannot be used as a variable name in Python since it has a special meaning). The error function to minimize w.r.t. $\\bw$:\n",
    "\n",
    "$E(\\bw) = \\frac{1}{2} (\\bPhi\\bw - \\bt)^T(\\bPhi\\bw - \\bt) + \\frac{\\lambda}{2} \\mathbf{w}^T \\mathbf{w}$\n",
    "\n",
    "For background, see section 3.1.4 of the MLPR book."
   ]
  },
  {
   "cell_type": "code",
   "execution_count": 4,
   "metadata": {
    "collapsed": false
   },
   "outputs": [],
   "source": [
    "import numpy as np\n",
    "def fit_polynomial_reg(x, t, M, lamb):\n",
    "    N = len(x)\n",
    "    Phi = np.zeros((N,M+1))\n",
    "    eye = np.identity(M+1)\n",
    "    for i in range(M+1):\n",
    "        xi = np.power(x,i)\n",
    "        Phi[:,i] = np.transpose(xi)\n",
    "    PhiT = np.transpose(Phi)\n",
    "    w = np.dot(np.dot(np.linalg.inv(lamb*eye + np.dot(PhiT,Phi)),PhiT),t)\n",
    "    return w"
   ]
  },
  {
   "cell_type": "markdown",
   "metadata": {},
   "source": [
    "\n",
    "\n",
    "\n",
    "\n",
    "\n",
    "### 1.5 Model selection by cross-validation (10 points)\n",
    "Use cross-validation to find a good choice of $M$ and $\\lambda$, given a dataset of $N=9$ datapoints generated with `gen_sinusoidal(9)`. You should write a function that tries (loops over) a reasonable range of choices of $M$ and $\\lambda$, and returns the choice with the best cross-validation error. In this case you can use $K=9$ folds, corresponding to _leave-one-out_ crossvalidation.\n",
    "\n",
    "You can let $M \\in (0, 1, ..., 10)$, and let $\\lambda \\in (e^{-10}, e^{-9}, ..., e^{0})$.\n",
    "\n",
    "To get you started, here's a method you can use to generate indices of cross-validation folds."
   ]
  },
  {
   "cell_type": "code",
   "execution_count": 5,
   "metadata": {
    "collapsed": false
   },
   "outputs": [],
   "source": [
    "import numpy as np\n",
    "\n",
    "def gen_sinusoidal(N):\n",
    "    x = np.linspace(0,2*np.pi,N)\n",
    "    sigma = 0.2\n",
    "    t = np.zeros(N)\n",
    "    R = []\n",
    "    for i in range(N):\n",
    "        t[i] = np.random.normal(np.sin(x[i]),sigma*sigma)\n",
    "        R.append([x[i], t[i]])\n",
    "    return R\n",
    "\n",
    "def fit_polynomial_reg(x, t, M, lamb):\n",
    "    N = len(x)\n",
    "    Phi = np.zeros((N,M+1))\n",
    "    eye = np.identity(M+1)\n",
    "    for i in range(M+1):\n",
    "        xi = np.power(x,i)\n",
    "        Phi[:,i] = np.transpose(xi)\n",
    "    \n",
    "    PhiT = np.transpose(Phi)\n",
    "    w = np.dot(np.dot(np.linalg.inv(lamb*eye + np.dot(PhiT,Phi)),PhiT),t)\n",
    "    Err = (1./2.)*np.dot(np.transpose(np.dot(Phi,w)-t),(np.dot(Phi,w)-t)) + (lamb/2.)*(np.dot(np.transpose(w),w))\n",
    "\n",
    "    return w,Err\n",
    "\n",
    "def kfold_indices(N, k):\n",
    "    all_indices = np.arange(N,dtype=int)\n",
    "    np.random.shuffle(all_indices)\n",
    "    idx = np.floor(np.linspace(0,N,k+1))\n",
    "    train_folds = []\n",
    "    valid_folds = []\n",
    "    for fold in range(k):\n",
    "        valid_indices = all_indices[idx[fold]:idx[fold+1]]\n",
    "        valid_folds.append(valid_indices)\n",
    "        train_folds.append(np.setdiff1d(all_indices, valid_indices))\n",
    "    return train_folds, valid_folds\n",
    "\n",
    "def crossvalid(N,K):\n",
    "\n",
    "    sinx = gen_sinusoidal(N)\n",
    "    M = range(11)\n",
    "    x = np.zeros(N)\n",
    "    t = np.zeros(N)\n",
    "    for i in range(N):\n",
    "        x[i] = sinx[i][0]\n",
    "        t[i] = sinx[i][1]\n",
    "    lambs = range(11)\n",
    "    train,valid = kfold_indices(N,K)\n",
    "    minerr = []\n",
    "    for i in M:\n",
    "        for j in lambs:\n",
    "            for h in range(K):\n",
    "                itx = []\n",
    "                itt = []\n",
    "                kerr = 0\n",
    "                for l in train[h]:\n",
    "                    itx.append(x[l])\n",
    "                    itt.append(t[l]) \n",
    "                w,err = fit_polynomial_reg(itx,itt,i,np.exp(-j))\n",
    "                kerr = kerr + err\n",
    "            iterr = kerr/K\n",
    "            \n",
    "            if minerr == []:\n",
    "                minerr = [iterr,i,j]\n",
    "            else:\n",
    "                if iterr < minerr[0]:\n",
    "                    minerr = [iterr,i,j]\n",
    "\n",
    "    return minerr\n"
   ]
  },
  {
   "cell_type": "markdown",
   "metadata": {},
   "source": [
    "Create a comprehensible plot of the cross-validation error for each choice of $M$ and $\\lambda$. Highlight the best choice. \n",
    "\n",
    "_Question_: Explain over-fitting and underfitting, illuminated by your plot. Explain the relationship with model bias and model variance."
   ]
  },
  {
   "cell_type": "markdown",
   "metadata": {},
   "source": [
    "Answer: Over-fitting is the effect of overtraining your model to approximate a non-linear function like sinus in this case. As we can see in the plot for M = 9, the model learns the noise of the training data making fit perfectly to this data but new data points would be missrepresented with this model. Underfitting is the oposite problem, polynomials with lower degree (as we can see for M = 0,1; are not sufficient to fit the training data. Related to model bias and variance, bias is error consequence of wrong assumptions during the learning process, missing important relationships beteween the training data; an underfit model will have high bias. Variance is the measure of how spread out are the training points, high variance in the training data can cause overfitting."
   ]
  },
  {
   "cell_type": "markdown",
   "metadata": {},
   "source": [
    "### 1.6 Plot best cross-validated fit (5 points)\n",
    "\n",
    "For some dataset with $N = 9$, plot the model with the optimal $M$ and $\\lambda$ according to the cross-validation error, using the method you just wrote. Let the plot make clear which $M$ and $\\lambda$ were found."
   ]
  },
  {
   "cell_type": "code",
   "execution_count": 6,
   "metadata": {
    "collapsed": false
   },
   "outputs": [
    {
     "data": {
      "image/png": "[encoded data removed]",
      "text/plain": [
       "<matplotlib.figure.Figure at 0xa1e50b8>"
      ]
     },
     "metadata": {},
     "output_type": "display_data"
    }
   ],
   "source": [
    "import numpy as np\n",
    "import matplotlib.pyplot as plt\n",
    "def gen_sinusoidal(N):\n",
    "    x = np.linspace(0,2*np.pi,N)\n",
    "    sigma = 0.2\n",
    "    t = np.zeros(N)\n",
    "    R = []\n",
    "    for i in range(N):\n",
    "        t[i] = np.random.normal(np.sin(x[i]),sigma*sigma)\n",
    "        R.append([x[i], t[i]])\n",
    "    return R\n",
    "\n",
    "def fit_polynomial_reg(x, t, M, lamb):\n",
    "    N = len(x)\n",
    "    Phi = np.zeros((N,M+1))\n",
    "    eye = np.identity(M+1)\n",
    "    for i in range(M+1):\n",
    "        xi = np.power(x,i)\n",
    "        Phi[:,i] = np.transpose(xi)\n",
    "    \n",
    "    PhiT = np.transpose(Phi)\n",
    "    w = np.dot(np.dot(np.linalg.inv(lamb*eye + np.dot(PhiT,Phi)),PhiT),t)\n",
    "    Err = (1./2.)*np.dot(np.transpose(np.dot(Phi,w)-t),(np.dot(Phi,w)-t)) + (lamb/2.)*(np.dot(np.transpose(w),w))\n",
    "\n",
    "    return w,Err\n",
    "\n",
    "def kfold_indices(N, k):\n",
    "    all_indices = np.arange(N,dtype=int)\n",
    "    np.random.shuffle(all_indices)\n",
    "    idx = np.floor(np.linspace(0,N,k+1))\n",
    "    train_folds = []\n",
    "    valid_folds = []\n",
    "    for fold in range(k):\n",
    "        valid_indices = all_indices[idx[fold]:idx[fold+1]]\n",
    "        valid_folds.append(valid_indices)\n",
    "        train_folds.append(np.setdiff1d(all_indices, valid_indices))\n",
    "    return train_folds, valid_folds\n",
    "\n",
    "def crossvalid(N,K):\n",
    "\n",
    "    sinx = gen_sinusoidal(N)\n",
    "    M = range(11)\n",
    "    x = np.zeros(N)\n",
    "    t = np.zeros(N)\n",
    "    for i in range(N):\n",
    "        x[i] = sinx[i][0]\n",
    "        t[i] = sinx[i][1]\n",
    "    lambs = range(11)\n",
    "    train,valid = kfold_indices(N,K)\n",
    "    minerr = []\n",
    "    for i in M:\n",
    "        for j in lambs:\n",
    "            for h in range(K):\n",
    "                itx = []\n",
    "                itt = []\n",
    "                kerr = 0\n",
    "                for l in train[h]:\n",
    "                    itx.append(x[l])\n",
    "                    itt.append(t[l]) \n",
    "                w,err = fit_polynomial_reg(itx,itt,i,np.exp(-j))\n",
    "                kerr = kerr + err\n",
    "            iterr = kerr/K\n",
    "            \n",
    "            if minerr == []:\n",
    "                minerr = [iterr,i,j]\n",
    "            else:\n",
    "                if iterr < minerr[0]:\n",
    "                    minerr = [iterr,i,j]\n",
    "\n",
    "    \n",
    "    w,err = fit_polynomial_reg(x,t,minerr[1],np.exp(-minerr[2]))\n",
    "    s = np.linspace(0,2*np.pi,20)\n",
    "   \n",
    "    plt.plot(x,t,\"o\")\n",
    "    plt.plot(s,np.sin(s))\n",
    "    p = np.poly1d(w)\n",
    "    plt.plot(np.polynomial.polynomial.polyval(x,p),label='M = ' + str(minerr[1]) + '\\nLambda = e^-'  + str(minerr[2]))\n",
    "    plt.legend()\n",
    "    return minerr\n",
    "    \n",
    "\n",
    "x = crossvalid(9,9)\n"
   ]
  },
  {
   "cell_type": "markdown",
   "metadata": {},
   "source": [
    "## Part 2: Bayesian Linear (Polynomial) Regression\n",
    "\n",
    "### 2.1 Sinusoidal data 2 (5 points)\n",
    "\n",
    "Write a function `gen_sinusoidal2(N)` that behaves identically to `gen_sinusoidal(N)` except that the generated values $x_i$ are not linearly spaced, but drawn from a uniform distribution between $0$ and $2 \\pi$."
   ]
  },
  {
   "cell_type": "code",
   "execution_count": 7,
   "metadata": {
    "collapsed": false
   },
   "outputs": [],
   "source": [
    "import numpy as np\n",
    "def gen_sinusoidal2(N):\n",
    "    x = np.random.uniform(0,2*np.pi,N)\n",
    "    x = sorted(x)\n",
    "    sigma = 0.2\n",
    "    t = np.zeros(N)\n",
    "    for i in range(N):                            \n",
    "        t[i] = np.random.normal(np.sin(x[i]),sigma*sigma) \n",
    "    return x,t"
   ]
  },
  {
   "cell_type": "markdown",
   "metadata": {},
   "source": [
    "### 2.2 Compute Posterior (15 points)\n",
    "\n",
    "You're going to implement a Bayesian linear regression model, and fit it to the sinusoidal data. Your regression model has a zero-mean isotropic Gaussian prior over the parameters, governed by a single (scalar) precision parameter $\\alpha$, i.e.:\n",
    "\n",
    "$$p(\\bw \\;|\\; \\alpha) = \\mathcal{N}(\\bw \\;|\\; 0, \\alpha^{-1} \\bI)$$\n",
    "\n",
    "The covariance and mean of the posterior are given by:\n",
    "\n",
    "$$\\bS_N= \\left( \\alpha \\bI + \\beta \\bPhi^T \\bPhi \\right)^{-1} $$\n",
    "$$\\bm_N = \\beta\\; \\bS_N \\bPhi^T \\bt$$\n",
    "\n",
    "where $\\alpha$ is the precision of the predictive distribution, and $\\beta$ is the noise precision. \n",
    "See MLPR chapter 3.3 for background.\n",
    "\n",
    "Write a method `fit_polynomial_bayes(x, t, M, alpha, beta)` that returns the mean $\\bm_N$ and covariance $\\bS_N$ of the posterior for a $M$-th order polynomial, given a dataset, where `x`, `t` and `M` have the same meaning as in question 1.2."
   ]
  },
  {
   "cell_type": "code",
   "execution_count": 8,
   "metadata": {
    "collapsed": false
   },
   "outputs": [],
   "source": [
    "def fit_polynomial_bayes(x, t, M, alpha, beta):\n",
    "    Phi = np.zeros((N,M+1))\n",
    "    for i in range(M+1):\n",
    "        xi = np.power(x,i)\n",
    "        Phi[:,i] = np.transpose(xi)\n",
    "    PhiT = np.transpose(Phi)\n",
    "    I=np.identity(M+1)\n",
    "    S=np.linalg.inv(np.dot(alpha,I)+np.dot(beta,np.dot(PhiT,Phi)))\n",
    "    m=np.dot(beta,np.dot(S,np.dot(PhiT,t)))\n",
    "    return S, m"
   ]
  },
  {
   "cell_type": "markdown",
   "metadata": {},
   "source": [
    "### 2.3 Prediction (10 points)\n",
    "\n",
    "The predictive distribution of Bayesian linear regression is:\n",
    "\n",
    "$$ p(t \\;|\\; \\bx, \\bt, \\alpha, \\beta) = \\mathcal{N}(t \\;|\\; \\bm_N^T \\phi(\\bx), \\sigma_N^2(\\bx))$$\n",
    "\n",
    "$$ \\sigma_N^2 = \\frac{1}{\\beta} + \\phi(\\bx)^T \\bS_N \\phi(\\bx) $$\n",
    "\n",
    "where $\\phi(\\bx)$ are the computed features for a new datapoint $\\bx$, and $t$ is the predicted variable for datapoint $\\bx$. \n",
    "\n",
    "Write a function that `predict_polynomial_bayes(x, m, S, beta)` that returns the predictive mean and variance given a new datapoint `x`, posterior mean `m`, posterior variance `S` and a choice of model variance `beta`."
   ]
  },
  {
   "cell_type": "code",
   "execution_count": 1,
   "metadata": {
    "collapsed": false
   },
   "outputs": [],
   "source": [
    "def predict_polynomial_bayes(x, m, S, beta):\n",
    "    Phi=np.zeros(M+1)\n",
    "    for i in range(M+1):\n",
    "        Phi[i]=np.power(x,i)\n",
    "    pred_m=np.dot(np.transpose(m),Phi)\n",
    "    PhiT=np.transpose(Phi)\n",
    "    pred_S=1/beta+ np.dot( np.dot(PhiT,S),Phi)\n",
    "    return pred_S, pred_m"
   ]
  },
  {
   "cell_type": "markdown",
   "metadata": {},
   "source": [
    "### 2.4 Plot predictive distribution (10 points)\n",
    "\n",
    "a) (5 points) Generate 7 datapoints with `gen_sinusoidal2(7)`. Compute the posterior mean and covariance for a Bayesian polynomial regression model with $M=5$, $\\alpha=\\frac{1}{2}$ and $\\beta=\\frac{1}{0.2^2}$.\n",
    "Plot the Bayesian predictive distribution, where you plot (for $x$ between 0 and $2 \\pi$) $t$'s predictive mean and a 1-sigma predictive variance using `plt.fill_between(..., alpha=0.1)` (the alpha argument induces transparency).\n",
    "\n",
    "Include the datapoints in your plot.\n",
    "\n",
    "b) (5 points) For a second plot, draw 100 samples from the parameters' posterior distribution. Each of these samples is a certain choice of parameters for 5-th order polynomial regression. \n",
    "Display each of these 100 polynomials."
   ]
  },
  {
   "cell_type": "code",
   "execution_count": 6,
   "metadata": {
    "collapsed": false
   },
   "outputs": [
    {
     "name": "stdout",
     "output_type": "stream",
     "text": [
      "(6, 6)\n",
      "[[  9.38938610e-01  -7.86360640e-01  -2.12558857e-01   2.80533817e-01\n",
      "   -6.87981136e-02   5.18593805e-03]\n",
      " [ -7.86360640e-01   1.19439672e+00  -5.46532744e-01   9.11711413e-02\n",
      "   -2.84009823e-03  -3.62157232e-04]\n",
      " [ -2.12558857e-01  -5.46532744e-01   1.14610004e+00  -5.89229537e-01\n",
      "    1.17036581e-01  -8.05089798e-03]\n",
      " [  2.80533817e-01   9.11711413e-02  -5.89229537e-01   3.44755154e-01\n",
      "   -7.22056480e-02   5.11888005e-03]\n",
      " [ -6.87981136e-02  -2.84009823e-03   1.17036581e-01  -7.22056480e-02\n",
      "    1.54591625e-02  -1.11087725e-03]\n",
      " [  5.18593805e-03  -3.62157232e-04  -8.05089798e-03   5.11888005e-03\n",
      "   -1.11087725e-03   8.05548879e-05]]\n",
      "[ 1.00418684  0.06864583 -0.39126674 -0.90027154 -0.98108009 -0.97405966\n",
      " -0.61544915] [ 0.84665158 -0.06250934 -0.50825233 -1.00760006 -1.0905298  -1.08751919\n",
      " -0.77394618]\n"
     ]
    },
    {
     "data": {
      "text/plain": [
       "[<matplotlib.lines.Line2D at 0x7fc12a3f5490>]"
      ]
     },
     "execution_count": 6,
     "metadata": {},
     "output_type": "execute_result"
    }
   ],
   "source": [
    "import matplotlib.pyplot as plt\n",
    "\n",
    "import numpy as np\n",
    "def gen_sinusoidal2(N):\n",
    "    x = np.random.uniform(0,2*np.pi,N)\n",
    "    x = sorted(x)\n",
    "    sigma = 0.2\n",
    "    t = np.zeros(N)\n",
    "    for i in range(N):                            \n",
    "        t[i] = np.random.normal(np.sin(x[i]),sigma*sigma) \n",
    "    return x,t\n",
    "       \n",
    "def fit_polynomial_bayes(x, t, M, alpha, beta):\n",
    "    Phi = np.zeros((N,M+1))\n",
    "    for i in range(M+1):\n",
    "        xi = np.power(x,i)\n",
    "        Phi[:,i] = np.transpose(xi)\n",
    "    PhiT = np.transpose(Phi)\n",
    "    I=np.identity(M+1)\n",
    "    S=np.linalg.inv(np.dot(alpha,I)+np.dot(beta,np.dot(PhiT,Phi)))\n",
    "    m=np.dot(beta,np.dot(S,np.dot(PhiT,t)))\n",
    "    return S, m\n",
    "\n",
    "def predict_polynomial_bayes(x, m, S, beta):\n",
    "    Phi=np.zeros(M+1)\n",
    "    for i in range(M+1):\n",
    "        Phi[i]=np.power(x,i)\n",
    "    pred_m=np.dot(np.transpose(m),Phi)\n",
    "    PhiT=np.transpose(Phi)\n",
    "    pred_S=1/beta+ np.dot( np.dot(PhiT,S),Phi)\n",
    "    return pred_S, pred_m\n",
    "\n",
    "N=7\n",
    "x,t=gen_sinusoidal2(N)\n",
    "M=5\n",
    "alpha=0.5\n",
    "beta=1/np.power(0.2,2)\n",
    "S,m=fit_polynomial_bayes(x, t, M, alpha, beta)\n",
    "print S.shape\n",
    "print S\n",
    "pred_m=[]\n",
    "pred_S=[]\n",
    "for i in range(N):\n",
    "    x_pred_S,x_pred_m=predict_polynomial_bayes(x[i], m, S, beta)\n",
    "    pred_m.append(x_pred_m)\n",
    "    pred_S.append(x_pred_S)       \n",
    "    \n",
    "figure = plt.figure()\n",
    "plt.plot(x, t, \"o\")\n",
    "plt.plot(x, np.sin(x))\n",
    "plt.plot(x, pred_m)\n",
    "\n",
    "up=np.array(pred_S)+np.array(pred_m)\n",
    "down=np.array(pred_m)-np.array(pred_S)\n",
    "plt.fill_between(x,up,down,alpha=0.1)\n",
    "print up,down\n",
    "D=np.linspace(0,2*np.pi,50)\n",
    "figure=plt.figure()\n",
    "for i in range(100):\n",
    "    x,t=gen_sinusoidal2(7)\n",
    "    S,m=fit_polynomial_bayes(x, t, 5,alpha,beta)\n",
    "    plt.plot(D,[np.polynomial.polynomial.polyval(point,m) for point in D])\n",
    "\n",
    "plt.axis([0.0,2*np.pi,-5,5])\n",
    "plt.plot(D,[np.sin(point) for point in D])\n",
    "    "
   ]
  },
  {
   "cell_type": "markdown",
   "metadata": {},
   "source": [
    "### 2.5 Additional questions (10 points)\n",
    "\n",
    "a) (5 points) Why is $\\beta=\\frac{1}{0.2^2}$ the best choice of $\\beta$ in section 2.4?\n",
    "\n",
    "b) (5 points) In the case of Bayesian linear regression, both the posterior of the parameters $p(\\bw \\;|\\; \\bt, \\alpha, \\beta)$ and the predictive distribution $p(t \\;|\\; \\bw, \\beta)$ are Gaussian. In consequence (and conveniently), $p(t \\;|\\; \\bt, \\alpha, \\beta)$ is also Gaussian (See MLPR section 3.3.2 and homework 2 question 4). This is actually one of the (rare) cases where we can make Bayesian predictions without resorting to approximative methods.\n",
    "\n",
    "Suppose you have to work with some model $p(t\\;|\\;x,\\bw)$ with parameters $\\bw$, where the posterior distribution $p(\\bw\\;|\\;\\mathcal{D})$ given dataset $\\mathcal{D}$ can not be integrated out when making predictions, but where you can still generate samples from the posterior distribution of the parameters. Explain how you can still make approximate Bayesian predictions using samples from the parameters' posterior distribution."
   ]
  },
  {
   "cell_type": "code",
   "execution_count": 11,
   "metadata": {
    "collapsed": false,
    "scrolled": true
   },
   "outputs": [
    {
     "ename": "SyntaxError",
     "evalue": "invalid syntax (<ipython-input-11-5a60dbb11fcb>, line 1)",
     "output_type": "error",
     "traceback": [
      "\u001b[1;36m  File \u001b[1;32m\"<ipython-input-11-5a60dbb11fcb>\"\u001b[1;36m, line \u001b[1;32m1\u001b[0m\n\u001b[1;33m    a) 1/beta is the noise precision of the data or variance of the noise. Since our data is generated by a Gaussian model with 0.2\u001b[0m\n\u001b[1;37m     ^\u001b[0m\n\u001b[1;31mSyntaxError\u001b[0m\u001b[1;31m:\u001b[0m invalid syntax\n"
     ]
    }
   ],
   "source": [
    "a) 1/beta is the noise precision of the data or variance of the noise. Since our data is generated by a Gaussian model with 0.2 \n",
    "variance it is best to choose this value."
   ]
  },
  {
   "cell_type": "code",
   "execution_count": null,
   "metadata": {
    "collapsed": true
   },
   "outputs": [],
   "source": [
    "b) We can use the samples to compute the mean and variance for posterior distribution and map the data samples to a Gaussian \n",
    "distribution."
   ]
  }
 ],
 "metadata": {
  "kernelspec": {
   "display_name": "Python [Root]",
   "language": "python",
   "name": "Python [Root]"
  },
  "language_info": {
   "codemirror_mode": {
    "name": "ipython",
    "version": 2
   },
   "file_extension": ".py",
   "mimetype": "text/x-python",
   "name": "python",
   "nbconvert_exporter": "python",
   "pygments_lexer": "ipython2",
   "version": "2.7.12"
  }
 },
 "nbformat": 4,
 "nbformat_minor": 0
}
