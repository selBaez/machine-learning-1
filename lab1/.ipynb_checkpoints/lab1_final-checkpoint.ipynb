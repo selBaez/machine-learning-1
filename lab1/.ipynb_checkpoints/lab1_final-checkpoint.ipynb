{
 "cells": [
  {
   "cell_type": "markdown",
   "metadata": {},
   "source": [
    "# Lab 1: Linear Regression and Overfitting\n",
    "\n",
    "### Machine Learning and Pattern Recognition, September 2016\n",
    "\n",
    "* The lab exercises should be made in groups of two people.\n",
    "* The deadline is sunday September 25, 23:59.\n",
    "* Assignment should be sent to your teaching assistant. The subject line of your email should be \"\\#lab\\_lastname1\\_lastname2\\_lastname3\".\n",
    "* Put your and your teammates' names in the body of the email\n",
    "* Attach the .IPYNB (IPython Notebook) file containing your code and answers. Naming of the file follows the same rule as the subject line. For example, if the subject line is \"lab01\\_Kingma\\_Hu\", the attached file should be \"lab01\\_Kingma\\_Hu.ipynb\". Only use underscores (\"\\_\") to connect names, otherwise the files cannot be parsed.\n",
    "* Make sure we can run your notebook / scripts!\n",
    "\n",
    "Notes on implementation:\n",
    "\n",
    "* You should write your code and answers in this IPython Notebook: http://ipython.org/notebook.html. If you have problems, please contact your teaching assistant.\n",
    "* Please write your answers right below the questions.\n",
    "* Among the first lines of your notebook should be \"%pylab inline\". This imports all required modules, and your plots will appear inline.\n",
    "* Refer to last week's lab notes, i.e. http://docs.scipy.org/doc/, if you are unsure about what function to use. There are different correct ways to implement each problem!\n",
    "* For this lab, your regression solutions should be in closed form, i.e., should not perform iterative gradient-based optimization but find the exact optimum directly."
   ]
  },
  {
   "cell_type": "code",
   "execution_count": 381,
   "metadata": {
    "collapsed": false
   },
   "outputs": [
    {
     "name": "stdout",
     "output_type": "stream",
     "text": [
      "Populating the interactive namespace from numpy and matplotlib\n"
     ]
    },
    {
     "name": "stderr",
     "output_type": "stream",
     "text": [
      "WARNING: pylab import has clobbered these variables: ['indices', 'figure', 'beta', 'cov']\n",
      "`%matplotlib` prevents importing * from pylab and numpy\n"
     ]
    }
   ],
   "source": [
    "%pylab inline\n",
    "from sklearn.metrics import mean_squared_error\n",
    "from mpl_toolkits.mplot3d import Axes3D\n",
    "\n",
    "\n",
    "def create_polyval(x,M):\n",
    "    \"\"\" \n",
    "    INPUT: x vector, Mth order polynomial, \n",
    "    OUTPUT: phi basis functions\n",
    "    This function creates the phi basis functions for the polynomial fit\n",
    "    \"\"\"\n",
    "    \n",
    "    # GET DATA SIZE\n",
    "    N = x.shape[0]\n",
    "    # print 'data points',N,'polynomial size:',M\n",
    "    \n",
    "    # INITIALIZE TO ZERO FOR CORRECT USAGE OF POWER FUNCTIONS\n",
    "    phi = np.zeros((N, M+1))\n",
    "    \n",
    "    # RAISE TO POWER\n",
    "    for i in range(M+1):            \n",
    "        phi[:,i] = np.power(x,i)\n",
    "        \n",
    "    return phi\n",
    "\n",
    "def rmse(prd,t):\n",
    "    \"\"\" \n",
    "    INPUT: prd is prediction and t is target \n",
    "    OUTPUT: error\n",
    "    This function calculates the root mean squared error between predictions and target values\n",
    "    \"\"\"\n",
    "    targets = np.full(prd.shape, t)\n",
    "    rms = np.sqrt(mean_squared_error(targets, prd))\n",
    "    \n",
    "    return rms\n",
    "    \n",
    "\n",
    "        \n",
    "\n",
    "def fit_model(x, t, M, lamb=0.0):\n",
    "    \"\"\" \n",
    "    INPUT: x vector, t values to fit with Mth order polynomial, regularized by lamb\n",
    "    OUTPUT: w vector of weights, and phi basis functions\n",
    "    This function fits a model according to regularized or unregularized polynomials\n",
    "    \"\"\"\n",
    "    \n",
    "    weights = []\n",
    "    \n",
    "    if type(M) == numpy.int32:\n",
    "        if lamb == 0.0:\n",
    "            poly_w = fit_polynomial(x,t,M)\n",
    "            \n",
    "            weights.append(poly_w)\n",
    "        else:\n",
    "            poly_w = fit_polynomial_reg(x,t,M,lamb)\n",
    "            weights.append(poly_w)\n",
    "        \n",
    "    else: \n",
    "        for i in np.arange(M.shape[0]):\n",
    "            if lamb == 0.0:\n",
    "                poly_w = fit_polynomial(x,t,M[i])\n",
    "\n",
    "                weights.append(poly_w)\n",
    "            else:\n",
    "                poly_w = fit_polynomial_reg(x,t,M[i],lamb)\n",
    "                weights.append(poly_w)\n",
    "\n",
    "    return weights\n"
   ]
  },
  {
   "cell_type": "markdown",
   "metadata": {},
   "source": [
    "$\\newcommand{\\bPhi}{\\mathbf{\\Phi}}$\n",
    "$\\newcommand{\\bx}{\\mathbf{x}}$\n",
    "$\\newcommand{\\bw}{\\mathbf{w}}$\n",
    "$\\newcommand{\\bt}{\\mathbf{t}}$\n",
    "$\\newcommand{\\by}{\\mathbf{y}}$\n",
    "$\\newcommand{\\bm}{\\mathbf{m}}$\n",
    "$\\newcommand{\\bS}{\\mathbf{S}}$\n",
    "$\\newcommand{\\bI}{\\mathbf{I}}$\n",
    "\n",
    "## Part 1: Polynomial Regression"
   ]
  },
  {
   "cell_type": "markdown",
   "metadata": {},
   "source": [
    "### 1.1. Generate sinusoidal data (5 points)\n",
    "Write a method `gen_sinusoidal(N)` that generates toy data like in fig 1.2 of Bishop's book. The method should have a parameter $N$, and should return $N$-dimensional vectors $\\bx$ and $\\bt$, where $\\bx$ contains evenly spaced values from 0 to (including) 2$\\pi$, and the elements $t_i$ of $\\bt$ are distributed according to:\n",
    "\n",
    "$$t_i \\sim \\mathcal{N}(\\mu_i, \\sigma^2)$$\n",
    "\n",
    "where $x_i$ is the $i$-th elements of $\\bf{x}$, the mean $\\mu_i = sin(x_i)$ and the standard deviation $\\sigma = 0.2$.\n"
   ]
  },
  {
   "cell_type": "code",
   "execution_count": 382,
   "metadata": {
    "collapsed": false
   },
   "outputs": [],
   "source": [
    "def gen_sinusoidal(N):\n",
    "    \"\"\" \n",
    "    INPUT: N as the number of observations, \n",
    "    OUTPUT: vectors x and t\n",
    "    This function creates data that follows a normal distribution with \n",
    "    mean = sin(x) and sigma = 0.2\n",
    "    \"\"\"\n",
    "    \n",
    "    # print 'Generating sin polynomial data'\n",
    "    sigma = 0.2\n",
    "    \n",
    "    # CREATE EVENLY SPACED VALUES IN [0,2π] SPACE\n",
    "    x = np.linspace(0, 2*np.pi, N)\n",
    "    \n",
    "    # NP.RANDOM.NORMAL TAKES IN THE MEAN AS LOC AND STANDARD DEVIATION\n",
    "    # AS SCALE\n",
    "    t = np.random.normal(loc=np.sin(x), scale=sigma)\n",
    "    \n",
    "    return x, t\n",
    "\n",
    "# Test function\n",
    "# N = 4\n",
    "# x, t = gen_sinusoidal(N)\n",
    "# print x, \"\\n\", t"
   ]
  },
  {
   "cell_type": "markdown",
   "metadata": {},
   "source": [
    "### 1.2 Polynomial regression (15 points)\n",
    "\n",
    "Write a method `fit_polynomial(x, t, M)` that finds the maximum-likelihood solution of an _unregularized_ $M$-th order polynomial for some dataset `x`. The error function to minimize w.r.t. $\\bw$ is:\n",
    "\n",
    "$E(\\bw) = \\frac{1}{2} (\\bPhi\\bw - \\bt)^T(\\bPhi\\bw - \\bt)$\n",
    "\n",
    "where $\\bPhi$ is the _feature matrix_ (or _design matrix_) as explained in Bishop's book at section 3.1.1, $\\bt$ is the vector of target values. Your method should return a vector $\\bw$ with the maximum-likelihood parameter estimates. "
   ]
  },
  {
   "cell_type": "code",
   "execution_count": 383,
   "metadata": {
    "collapsed": false
   },
   "outputs": [],
   "source": [
    "pylab.rcParams['figure.figsize'] = (15, 10)\n",
    "def fit_polynomial(x, t, M):\n",
    "    \"\"\" \n",
    "    INPUT: x vector, t values to fit with Mth order polynomial, \n",
    "    OUTPUT: w vector of weights\n",
    "    This function fits a polynomial to the given data using Normal equations\n",
    "    \"\"\"\n",
    "    phi = create_polyval(x,M)\n",
    "    \n",
    "    w = np.dot(np.linalg.inv(np.dot(phi.T,phi)),np.dot(phi.T,t)) \n",
    "\n",
    "    return w\n"
   ]
  },
  {
   "cell_type": "markdown",
   "metadata": {},
   "source": [
    "### 1.3 Plot (5 points)\n",
    "Sample a dataset with $N=9$, and fit four polynomials with $M \\in (0, 1, 3, 9)$.\n",
    "For each value of $M$, plot the prediction function, along with the data and the original sine function. The resulting figure should look similar to fig 1.4 of the Bishop's book. Note that you can use matplotlib's `plt.pyplot(.)` functionality for creating grids of figures."
   ]
  },
  {
   "cell_type": "code",
   "execution_count": 384,
   "metadata": {
    "collapsed": false
   },
   "outputs": [
    {
     "data": {
      "image/png": "[encoded data removed]",
      "text/plain": [
       "<matplotlib.figure.Figure at 0xfbe1a20>"
      ]
     },
     "metadata": {},
     "output_type": "display_data"
    }
   ],
   "source": [
    "# PRODUCE SAMPLE DATA SET N = 9\n",
    "N = 9\n",
    "np.set_printoptions(precision=3)\n",
    "x,t = gen_sinusoidal(N)\n",
    "\n",
    "# Toy visualization\n",
    "plt.scatter(x, t, color='green', alpha=1, s=45, facecolors='none')\n",
    "plt.title('Scatter plot of the toy sin function with N =%s datapoints'%(N));\n"
   ]
  },
  {
   "cell_type": "code",
   "execution_count": 385,
   "metadata": {
    "collapsed": false
   },
   "outputs": [
    {
     "data": {
      "image/png": "[encoded data removed]",
      "text/plain": [
       "<matplotlib.figure.Figure at 0xd9bb208>"
      ]
     },
     "metadata": {},
     "output_type": "display_data"
    }
   ],
   "source": [
    "\n",
    "def plot_prediction(poly_w, x, t, M):\n",
    "    \"\"\" \n",
    "    INPUT: weights and x values of polynomial, x and t values to fit \n",
    "    OUTPUT: plots 4 polynomial fit\n",
    "    This function plots 4 polynomial fits, each in a subplot\n",
    "    \"\"\"\n",
    "    # CREATE AND MANAGE 4 SUBAXES\n",
    "    axes = []\n",
    "    f, ((ax1, ax2), (ax3, ax4)) = plt.subplots(2, 2, sharex='col')\n",
    "    axes.append(ax1)\n",
    "    axes.append(ax2)\n",
    "    axes.append(ax3)\n",
    "    axes.append(ax4)\n",
    "    \n",
    "    # PLOT IN EACH AXIS\n",
    "    for i in np.arange(len(axes)):\n",
    "        \n",
    "        # PLOT REAL SIN(X) FUNCTION\n",
    "        xx = np.arange(min(x),max(x),.01)\n",
    "        axes[i].plot(xx, np.sin(xx), color='darkgreen')\n",
    "        # PLOT TOY DATA SIN(X) WITH NORMAL NOISE\n",
    "        axes[i].plot(x,t,'bo')\n",
    "        # PLOT POLYNOMIAL FIT\n",
    "        xnew = np.arange(min(xx),max(xx),.01)\n",
    "        poly_xnew = create_polyval(xnew,M[i])\n",
    "        axes[i].plot(xnew, poly_xnew.dot(poly_w[i]) ,color='red')\n",
    "        # NAME THE PLOT\n",
    "        axes[i].set_title('Polynomial fit for M=%u'%(M[i]))\n",
    "        \n",
    "\n",
    "M = np.array([0,1,3,9])      \n",
    "w1 = fit_model(x,t,M)\n",
    "plot_prediction(w1, x, t, M)\n"
   ]
  },
  {
   "cell_type": "markdown",
   "metadata": {},
   "source": [
    "### 1.4 Regularized linear regression (10 points)\n",
    "\n",
    "Write a method `fit_polynomial_reg(x, t, M, lamb)` that fits a _regularized_ $M$-th order polynomial to the sinusoidal data, as discussed in the lectures, where `lamb` is the regularization term _lambda_. (Note that 'lambda' cannot be used as a variable name in Python since it has a special meaning). The error function to minimize w.r.t. $\\bw$:\n",
    "\n",
    "$E(\\bw) = \\frac{1}{2} (\\bPhi\\bw - \\bt)^T(\\bPhi\\bw - \\bt) + \\frac{\\lambda}{2} \\mathbf{w}^T \\mathbf{w}$\n",
    "\n",
    "For background, see section 3.1.4 of Bishop's book."
   ]
  },
  {
   "cell_type": "code",
   "execution_count": 386,
   "metadata": {
    "collapsed": false
   },
   "outputs": [],
   "source": [
    "def fit_polynomial_reg(x,t,M,lamb):\n",
    "    \"\"\" \n",
    "    INPUT: x vector, t values to fit with Mth order polynomial, regularized by lamb\n",
    "    OUTPUT: w vector of weights\n",
    "    This function fits a polynomial, using regularization, to the given data using Normal equations\n",
    "    \"\"\"    \n",
    "    \n",
    "    phi = create_polyval(x,M)\n",
    "    \n",
    "    w = np.dot(np.linalg.inv(lamb*np.eye(M+1)+np.dot(phi.T,phi)),np.dot(phi.T,t))    \n",
    "    \n",
    "    return w"
   ]
  },
  {
   "cell_type": "code",
   "execution_count": 387,
   "metadata": {
    "collapsed": false
   },
   "outputs": [
    {
     "data": {
      "image/png": "[encoded data removed]",
      "text/plain": [
       "<matplotlib.figure.Figure at 0xfbe1f28>"
      ]
     },
     "metadata": {},
     "output_type": "display_data"
    }
   ],
   "source": [
    "# PRODUCE PLOTS FOR REGULARIZED FITTING\n",
    "M = np.array([0,1,3,9])\n",
    "N = 9\n",
    "\n",
    "x,t  = gen_sinusoidal(N)\n",
    "\n",
    "poly_w_reg = fit_model(x,t,M,lamb=0.05)\n",
    "plot_prediction(poly_w_reg,x,t, M)"
   ]
  },
  {
   "cell_type": "markdown",
   "metadata": {},
   "source": [
    "\n",
    "\n",
    "\n",
    "\n",
    "\n",
    "### 1.5 Model selection by cross-validation (10 points)\n",
    "Use cross-validation to find a good choice of $M$ and $\\lambda$, given a dataset of $N=9$ datapoints generated with `gen_sinusoidal(9)`. You should write a function that tries (loops over) a reasonable range of choices of $M$ and $\\lambda$, and returns the choice with the best cross-validation error. In this case you can use $K=9$ folds, corresponding to _leave-one-out_ crossvalidation.\n",
    "\n",
    "You can let $M \\in (0, 1, ..., 10)$, and let $\\lambda \\in (e^{-10}, e^{-9}, ..., e^{0})$.\n",
    "\n",
    "To get you started, here's a method you can use to generate indices of cross-validation folds."
   ]
  },
  {
   "cell_type": "code",
   "execution_count": 388,
   "metadata": {
    "collapsed": false
   },
   "outputs": [],
   "source": [
    "def kfold_indices(N, k):\n",
    "    all_indices = np.arange(N,dtype=int)\n",
    "    np.random.shuffle(all_indices)\n",
    "    idx = np.floor(np.linspace(0,N,k+1))\n",
    "    train_folds = []\n",
    "    valid_folds = []\n",
    "    for fold in range(k):\n",
    "        valid_indices = all_indices[idx[fold]:idx[fold+1]]\n",
    "        valid_folds.append(valid_indices)\n",
    "        train_folds.append(np.setdiff1d(all_indices, valid_indices))\n",
    "    return train_folds, valid_folds"
   ]
  },
  {
   "cell_type": "markdown",
   "metadata": {},
   "source": [
    "Create a comprehensible plot of the cross-validation error for each choice of $M$ and $\\lambda$. Highlight the best choice. \n",
    "\n",
    "_Question_: Explain over-fitting and underfitting, illuminated by your plot. Explain the relationship with model bias and model variance."
   ]
  },
  {
   "cell_type": "markdown",
   "metadata": {},
   "source": [
    "Answer: \n",
    "\n",
    "Overfitting results in a high variance while underfitting results in high bias. \n",
    "\n",
    "M is the order of the polynomial, and thus high values create high variance while low values create high bias. \n",
    "\n",
    "Lambda restricts the size of the weight vectors; therefore, a high lambda corresponds to high bias while a low lambda results in high variance.\n",
    "\n",
    "\n",
    "The first plot shows the average error while the second plot shows the standard deviation over the folds per setting. We want a setting that has a low average error and a low deviation, which is foundaround the center of the plot. This leads us to think the best choice for M is around 5 while the best value for lambda is aroun e^-5. This shows a good balance between the two. "
   ]
  },
  {
   "cell_type": "code",
   "execution_count": 389,
   "metadata": {
    "collapsed": false
   },
   "outputs": [],
   "source": [
    "\"\"\"\n",
    "    INPUT:  x the data\n",
    "            t the targets\n",
    "            M_Fold the polynomial folds , array of [0,1,...10]\n",
    "            l_fold the lambda folds , array of [e^-10,e^-9... e^0]\n",
    "            K the number of folds\n",
    "            x_ind the indices of the data for each fold , list of arrays e.g.[np.array(1,2,3),np.array(3,2,4)]\n",
    "            t_ind the indices of the targets for each fold . Since it's leave-one-out\n",
    "    OUTPUT: weights_k_fold the weights for the (k,m,l) fold with K [0,1..9]\n",
    "            poly_x_k_fold the features phi(x) for each fold\n",
    "            v_folds the validation folds.\n",
    "    This function is to create and train each fold models .The output should give weights of 11x11x9 models.\n",
    "    \"\"\"\n",
    "def train_cv(x, t, M_fold, l_fold, K,x_ind,t_ind):\n",
    "    weights_k_fold = []\n",
    "    poly_x_k_fold = []\n",
    "    x_folds = []\n",
    "    t_folds = []\n",
    "    v_folds = []\n",
    "\n",
    "    # SET PARAMETERS\n",
    "    for m in range(M_fold.shape[0]):\n",
    "        for l in range(l_fold.shape[0]):\n",
    "\n",
    "            # LOOP THROUGH FOLDS\n",
    "            for k in range(K): \n",
    "                # CREATE DATA INDICES FOR THIS FOLD\n",
    "                x_fold = x[x_ind[k]]\n",
    "                t_fold = t[x_ind[k]]\n",
    "                v_fold = t[t_ind[k]]\n",
    "                x_folds.append(x_fold)\n",
    "                t_folds.append(t_fold)\n",
    "                v_folds.append(v_fold)\n",
    "\n",
    "                # CREATE POLYNOMIALS\n",
    "                weights = fit_model(x_fold,t_fold, np.array([M_fold[m]]),l_fold[l]) \n",
    "                #print \"weights: \", len(weights)\n",
    "                poly_x = create_polyval(x_fold, M_fold[m]) \n",
    "                #print \"basis\", len(poly_x)\n",
    "                weights_k_fold.append(weights)\n",
    "                poly_x_k_fold.append(poly_x)\n",
    "    \n",
    "    return weights_k_fold,poly_x_k_fold,v_folds\n",
    "\n",
    "#print 'total number of models:', len(weights_k_fold)\n"
   ]
  },
  {
   "cell_type": "code",
   "execution_count": 390,
   "metadata": {
    "collapsed": false
   },
   "outputs": [],
   "source": [
    "def calculate_errors(M_fold, l_fold, K, weights_k_fold, poly_x_k_fold, v_folds):\n",
    "    settings_errors = []\n",
    "    settings_weights =[]\n",
    "\n",
    "    # SET PARAMETERS\n",
    "    idx = 0\n",
    "    \n",
    "    for m in range(M_fold.shape[0]):   \n",
    "        for l in range(l_fold.shape[0]):       \n",
    "            # LOOP THROUGH FOLDS RESULTS\n",
    "            folds_error = []\n",
    "            folds_weights = []\n",
    "\n",
    "            for k in range(K):                \n",
    "                # calculate weights and basis for polynomial\n",
    "                weights = np.array(weights_k_fold[idx])\n",
    "                basis = poly_x_k_fold[idx]\n",
    "\n",
    "                # predict\n",
    "                prediction = weights.dot(np.transpose(basis))\n",
    "                \n",
    "                # SAVE WEIGHT\n",
    "                folds_weights.append(weights[0])\n",
    "                \n",
    "                # SAVE ERROR\n",
    "                error = rmse(prediction, v_folds[idx])\n",
    "                folds_error.append(error)\n",
    "                idx = idx + 1\n",
    "\n",
    "\n",
    "            # AVERAGE ERROR AND STD FOR THIS SETTING\n",
    "            s_error = sum(folds_error)/len(folds_error)\n",
    "            s_std = np.std(folds_error)\n",
    "            \n",
    "            # GOOD FIT MEASURE\n",
    "            quality = s_error + 2*s_std\n",
    "            \n",
    "            # AVERAGE WEIGHTS FOR THIS SETTING\n",
    "            s_weights = numpy.sum(np.array(folds_weights), axis=0)/len(np.array(folds_weights))\n",
    "            settings_weights.append(s_weights)\n",
    "\n",
    "            tup = [m, l, s_error, s_std, quality]\n",
    "            settings_errors.append(tup)\n",
    "\n",
    "    print \"number of settings\", len(settings_errors), \"for folds\",len(folds_error)\n",
    "    \n",
    "    return settings_errors, settings_weights"
   ]
  },
  {
   "cell_type": "code",
   "execution_count": 391,
   "metadata": {
    "collapsed": true
   },
   "outputs": [],
   "source": [
    "def plot_cv_error(errors):\n",
    "    errors_array = np.array(errors)\n",
    "    \n",
    "    # CREATE FIGURE\n",
    "    fig = plt.figure()\n",
    "    ax = fig.add_subplot(111, projection='3d')\n",
    "\n",
    "    # PLOT\n",
    "    ax.scatter(errors_array[:,0], errors_array[:,1], errors_array[:,2])\n",
    "    \n",
    "    ax.set_xlabel('Mth order polynomial')\n",
    "    ax.set_ylabel('lambda regularization term')\n",
    "    ax.set_zlabel('error')"
   ]
  },
  {
   "cell_type": "code",
   "execution_count": 392,
   "metadata": {
    "collapsed": true
   },
   "outputs": [],
   "source": [
    "def plot_cv_std(errors):\n",
    "    errors_array = np.array(errors)\n",
    "    \n",
    "    # CREATE FIGURE\n",
    "    fig = plt.figure()\n",
    "    ax = fig.add_subplot(111, projection='3d')\n",
    "\n",
    "    # PLOT\n",
    "    ax.scatter(errors_array[:,0], errors_array[:,1], errors_array[:,3])\n",
    "    \n",
    "    ax.set_xlabel('Mth order polynomial')\n",
    "    ax.set_ylabel('lambda regularization term')\n",
    "    ax.set_zlabel('standard deviation')"
   ]
  },
  {
   "cell_type": "code",
   "execution_count": 393,
   "metadata": {
    "collapsed": false
   },
   "outputs": [
    {
     "ename": "SyntaxError",
     "evalue": "invalid syntax (<ipython-input-393-6d36557c9913>, line 13)",
     "output_type": "error",
     "traceback": [
      "\u001b[1;36m  File \u001b[1;32m\"<ipython-input-393-6d36557c9913>\"\u001b[1;36m, line \u001b[1;32m13\u001b[0m\n\u001b[1;33m    ax.set_zlabel('standard deviation'\u001b[0m\n\u001b[1;37m                                      ^\u001b[0m\n\u001b[1;31mSyntaxError\u001b[0m\u001b[1;31m:\u001b[0m invalid syntax\n"
     ]
    }
   ],
   "source": [
    "def plot_cv_quality(errors):\n",
    "    errors_array = np.array(errors)\n",
    "    \n",
    "    # CREATE FIGURE\n",
    "    fig = plt.figure()\n",
    "    ax = fig.add_subplot(111, projection='3d')\n",
    "\n",
    "    # PLOT\n",
    "    ax.scatter(errors_array[:,0], errors_array[:,1], errors_array[:,4])\n",
    "    \n",
    "    ax.set_xlabel('Mth order polynomial')\n",
    "    ax.set_ylabel('lambda regularization term')\n",
    "    ax.set_zlabel('quality of setting')"
   ]
  },
  {
   "cell_type": "code",
   "execution_count": null,
   "metadata": {
    "collapsed": false,
    "scrolled": false
   },
   "outputs": [],
   "source": [
    "# MODEL PARAMETERS\n",
    "M_fold = np.linspace(0,10,11).astype(int)\n",
    "l_fold = np.exp(np.linspace(-10,0,11))\n",
    "N = 9\n",
    "K = 9\n",
    "\n",
    "# GET FOLD BATCHES\n",
    "x,t  = gen_sinusoidal(N)\n",
    "x_ind,t_ind =  kfold_indices(N,K)\n",
    "    \n",
    "# TRAIN MODEL\n",
    "weights_k_fold,poly_x_k_fold,v_folds = train_cv(x, t, M_fold, l_fold, K,x_ind,t_ind)\n",
    "\n",
    "# CALCULATE ERROR\n",
    "settings_errors, settings_weights = calculate_errors(M_fold, l_fold, K, weights_k_fold, poly_x_k_fold, v_folds)\n",
    "\n",
    "# CREATE 3D PLOT\n",
    "plot_cv_error(settings_errors)\n",
    "plot_cv_std(settings_errors)\n",
    "plot_cv_quality(settings_errors)"
   ]
  },
  {
   "cell_type": "code",
   "execution_count": null,
   "metadata": {
    "collapsed": false
   },
   "outputs": [],
   "source": [
    "# If you wanna print the whole array, change the 10 below, to np.inf and uncomment\n",
    "#np.set_printoptions(threshold=10)\n",
    "\n",
    "settings_errors = np.array(settings_errors)\n",
    "settings_weights = np.array(settings_weights)\n",
    "#print 'Now printing setting errors'\n",
    "#print settings_errors\n",
    "\n",
    "# CREATE PER PARAMETER PLOT\n",
    "plt.scatter(settings_errors[:,0],settings_errors[:,2])\n",
    "plt.title('Error according to degree of polynomial')\n",
    "plt.xlabel('M-th Polynomial')\n",
    "plt.ylabel('Error')"
   ]
  },
  {
   "cell_type": "code",
   "execution_count": null,
   "metadata": {
    "collapsed": false
   },
   "outputs": [],
   "source": [
    "plt.scatter(settings_errors[:,1],settings_errors[:,2])\n",
    "plt.title('Error according to regularization term')\n",
    "plt.xlabel('lambda')\n",
    "plt.ylabel('Error')"
   ]
  },
  {
   "cell_type": "markdown",
   "metadata": {},
   "source": [
    "### 1.6 Plot best cross-validated fit (5 points)\n",
    "\n",
    "For some dataset with $N = 9$, plot the model with the optimal $M$ and $\\lambda$ according to the cross-validation error, using the method you just wrote. Let the plot make clear which $M$ and $\\lambda$ were found."
   ]
  },
  {
   "cell_type": "code",
   "execution_count": null,
   "metadata": {
    "collapsed": false
   },
   "outputs": [],
   "source": [
    "def plot_top_predictions_cv(poly_w, x, t, M, lambd):\n",
    "    \"\"\"\n",
    "    INPUT: weights and x values of polynomial, x and t values to fit \\n\",\n",
    "    OUTPUT: plots 10 polynomial fit\\n\",\n",
    "    This function plots 4 polynomial fits, each in a subplot\\n\",\n",
    "    \"\"\"\n",
    "    \n",
    "    # CREATE AND MANAGE 10 SUBAXES\n",
    "    axes = []\n",
    "    f, ((ax1, ax2,ax3, ax4,ax5),(ax6,ax7,ax8,ax9,ax10)) = plt.subplots(2,5 , sharex='col')\n",
    "    axes.append(ax1)\n",
    "    axes.append(ax2)\n",
    "    axes.append(ax3)\n",
    "    axes.append(ax4)\n",
    "    axes.append(ax5)\n",
    "    axes.append(ax6)\n",
    "    axes.append(ax7)\n",
    "    axes.append(ax8)\n",
    "    axes.append(ax9)\n",
    "    axes.append(ax10)\n",
    "\n",
    "    poly_w = np.array(poly_w)\n",
    "    \n",
    "    # PLOT IN EACH AXIS\n",
    "    for i in np.arange(len(axes)):\n",
    "        plt.tight_layout()\n",
    "        \n",
    "        # PLOT REAL SIN(X) FUNCTION\n",
    "        ##xx = np.arange(min(x),max(x),.01)\n",
    "        \n",
    "        # PLOT TOY DATA SIN(X) WITH NORMAL NOISE\n",
    "        axes[i].plot(x,t,'bo')\n",
    "        # PLOT POLYNOMIAL FIT\n",
    "        xnew = np.arange(min(x),max(x),.01)\n",
    "        axes[i].plot(xnew,np.sin(xnew),color='darkgreen')\n",
    "        poly_xnew = create_polyval(xnew, M[i])\n",
    "        #ynew = np.polyval(poly_w[i],xnew)\n",
    "        axes[i].plot(xnew, poly_xnew.dot(poly_w[i]) ,color='red')\n",
    "        # NAME THE PLOT\n",
    "        axes[i].set_title('Polynomial fit for M=%u lambda=%u'%(M[i], lambd[i]))\n",
    "        "
   ]
  },
  {
   "cell_type": "code",
   "execution_count": null,
   "metadata": {
    "collapsed": true
   },
   "outputs": [],
   "source": [
    "def plot_best_prediction(poly_w, x, t, M):   \n",
    "    # CREATE AND MANAGE 10 SUBAXES\n",
    "    axes = []\n",
    "    f, ax1 = plt.subplots(1 , sharex='col')\n",
    "    axes.append(ax1)\n",
    "\n",
    "    poly_w = np.array(poly_w)\n",
    "    \n",
    "    # PLOT IN EACH AXIS\n",
    "    plt.tight_layout()\n",
    "    xnew = np.arange(min(x),max(x),.01)\n",
    "    # PLOT REAL SIN(X) FUNCTION\n",
    "    plot(xnew,np.sin(xnew),color='darkgreen')\n",
    "    # PLOT TOY DATA SIN(X) WITH NORMAL NOISE\n",
    "    plot(x,t,'bo')\n",
    "    # PLOT POLYNOMIAL FIT\n",
    "   \n",
    "    poly_xnew = create_polyval(xnew, M)\n",
    "    #ynew = np.polyval(poly_w[i],xnew)\n",
    "    plot(xnew, poly_xnew.dot(np.transpose(poly_w)) ,color='red')\n",
    "    # NAME THE PLOT\n",
    "    #set_title('Polynomial fit for M=%u'%(M))\n"
   ]
  },
  {
   "cell_type": "code",
   "execution_count": null,
   "metadata": {
    "collapsed": false
   },
   "outputs": [],
   "source": [
    "indices = settings_errors[:,2].argsort()\n",
    "\n",
    "print \"Sorting arrays by error\"\n",
    "sorted_settings_errors = settings_errors[indices]\n",
    "sorted_settings_weights = settings_weights[indices]\n",
    "\n",
    "print \"Taking top 10\"\n",
    "top10_sorted_settings_errors = sorted_settings_errors[0:10,:]\n",
    "top10_sorted_settings_weights = sorted_settings_weights[0:10]\n",
    "\n",
    "\n",
    "M_best = top10_sorted_settings_errors[:, 0]\n",
    "l_best = top10_sorted_settings_errors[:, 1]\n",
    "\n",
    "\n",
    "# CREATE DATA\n",
    "N = 9\n",
    "x,t  = gen_sinusoidal(N)\n",
    "\n",
    "# PLOT TOP 10 SETTINGS WITH NEW DATA\n",
    "pylab.rcParams['figure.figsize'] = (15, 10)\n",
    "plot_top_predictions_cv(top10_sorted_settings_weights, x, t, M_best.astype(int), l_best)"
   ]
  },
  {
   "cell_type": "code",
   "execution_count": null,
   "metadata": {
    "collapsed": false
   },
   "outputs": [],
   "source": [
    "## PRODUCE BEST PLOTS \n",
    "N = 9\n",
    "M = M_fold[5] # POLYNOMIAL ORDER IS \n",
    "print M\n",
    "\n",
    "lamb = l_fold[6] # REGULARIZATION TERM IS \n",
    "print lamb\n",
    "\n",
    "x,t  = gen_sinusoidal(N)\n",
    "pylab.rcParams['figure.figsize'] = (15, 10)\n",
    "poly_w_reg = fit_model(x,t,np.array([M]),lamb)\n",
    "plot_best_prediction(poly_w_reg,x,t, M)"
   ]
  },
  {
   "cell_type": "markdown",
   "metadata": {},
   "source": [
    "## Part 2: Bayesian Linear (Polynomial) Regression\n",
    "\n",
    "### 2.1 Sinusoidal data 2 (5 points)\n",
    "\n",
    "Write a function `gen_sinusoidal2(N)` that behaves identically to `gen_sinusoidal(N)` except that the generated values $x_i$ are not linearly spaced, but drawn from a uniform distribution between $0$ and $2 \\pi$."
   ]
  },
  {
   "cell_type": "code",
   "execution_count": null,
   "metadata": {
    "collapsed": false
   },
   "outputs": [],
   "source": [
    "pylab.rcParams['figure.figsize'] = (10, 6)\n",
    "def gen_sinusoidal2(N):\n",
    "    #print 'generating sin polynomial data'\n",
    "    sigma = 0.2\n",
    "    #CREATE EVENLY SPACED VALUES IN [0,2π] SPACE\n",
    "    x = np.random.uniform(0,2*np.pi,N)\n",
    "    # SINCE THE NP.RANDOM.NORMAL TAKES THE STANDARD DEVIATION WE \n",
    "    t = np.random.normal(loc=np.sin(x),scale=sigma)\n",
    "    return x,t\n"
   ]
  },
  {
   "cell_type": "markdown",
   "metadata": {},
   "source": [
    "### 2.2 Compute Posterior (15 points)\n",
    "\n",
    "You're going to implement a Bayesian linear regression model, and fit it to the sinusoidal data. Your regression model has a zero-mean isotropic Gaussian prior over the parameters, governed by a single (scalar) precision parameter $\\alpha$, i.e.:\n",
    "\n",
    "$$p(\\bw \\;|\\; \\alpha) = \\mathcal{N}(\\bw \\;|\\; 0, \\alpha^{-1} \\bI)$$\n",
    "\n",
    "The covariance and mean of the posterior are given by:\n",
    "\n",
    "$$\\bS_N= \\left( \\alpha \\bI + \\beta \\bPhi^T \\bPhi \\right)^{-1} $$\n",
    "$$\\bm_N = \\beta\\; \\bS_N \\bPhi^T \\bt$$\n",
    "\n",
    "where $\\alpha$ is the precision of the predictive distribution, and $\\beta$ is the noise precision. \n",
    "See MLPR chapter 3.3 for background.\n",
    "\n",
    "Write a method `fit_polynomial_bayes(x, t, M, alpha, beta)` that returns the mean $\\bm_N$ and covariance $\\bS_N$ of the posterior for a $M$-th order polynomial, given a dataset, where `x`, `t` and `M` have the same meaning as in question 1.2."
   ]
  },
  {
   "cell_type": "code",
   "execution_count": null,
   "metadata": {
    "collapsed": false
   },
   "outputs": [],
   "source": [
    "\n",
    "def fit_polynomial_bayes(x, t, M, alpha, beta):\n",
    "    phi = create_polyval(x,M)\n",
    "    I=np.identity(M+1)\n",
    "    S=np.linalg.inv(np.dot(alpha,I)+np.dot(beta,np.dot(phi.T,phi)))\n",
    "    m=np.dot(beta,np.dot(S,np.dot(phi.T,t)))\n",
    "    return S, m"
   ]
  },
  {
   "cell_type": "markdown",
   "metadata": {},
   "source": [
    "### 2.3 Prediction (10 points)\n",
    "\n",
    "The predictive distribution of Bayesian linear regression is:\n",
    "\n",
    "$$ p(t \\;|\\; \\bx, \\bt, \\alpha, \\beta) = \\mathcal{N}(t \\;|\\; \\bm_N^T \\phi(\\bx), \\sigma_N^2(\\bx))$$\n",
    "\n",
    "$$ \\sigma_N^2 = \\frac{1}{\\beta} + \\phi(\\bx)^T \\bS_N \\phi(\\bx) $$\n",
    "\n",
    "where $\\phi(\\bx)$ are the computed features for a new datapoint $\\bx$, and $t$ is the predicted variable for datapoint $\\bx$. \n",
    "\n",
    "Write a function that `predict_polynomial_bayes(x, m, S, beta)` that returns the predictive mean and variance given a new datapoint `x`, posterior mean `m`, posterior variance `S` and a choice of model variance `beta`."
   ]
  },
  {
   "cell_type": "code",
   "execution_count": null,
   "metadata": {
    "collapsed": false
   },
   "outputs": [],
   "source": [
    "def predict_polynomial_bayes(x, m, S, beta,M):\n",
    "    \n",
    "    phi = np.array(x)\n",
    "    pred_m=m.T.dot(phi)\n",
    "    pred_S=1/beta+ np.dot(phi.T.dot(S),phi)\n",
    "#     print pred_S\n",
    "    return pred_S, pred_m"
   ]
  },
  {
   "cell_type": "markdown",
   "metadata": {},
   "source": [
    "### 2.4 Plot predictive distribution (10 points)\n",
    "\n",
    "a) (5 points) Generate 7 datapoints with `gen_sinusoidal2(7)`. Compute the posterior mean and covariance for a Bayesian polynomial regression model with $M=5$, $\\alpha=\\frac{1}{2}$ and $\\beta=\\frac{1}{0.2^2}$.\n",
    "Plot the Bayesian predictive distribution, where you plot (for $x$ between 0 and $2 \\pi$) $t$'s predictive mean and a 1-sigma predictive variance using `plt.fill_between(..., alpha=0.1)` (the alpha argument induces transparency).\n",
    "\n",
    "Include the datapoints in your plot.\n",
    "\n",
    "b) (5 points) For a second plot, draw 100 samples from the parameters' posterior distribution. Each of these samples is a certain choice of parameters for 5-th order polynomial regression. \n",
    "Display each of these 100 polynomials."
   ]
  },
  {
   "cell_type": "code",
   "execution_count": null,
   "metadata": {
    "collapsed": false
   },
   "outputs": [],
   "source": [
    "N = 7\n",
    "beta = 1/0.2**2\n",
    "alpha = 1/2\n",
    "M = 5\n",
    "N = 7\n",
    "x,t = gen_sinusoidal2(N)\n",
    "# print x\n",
    "# print t\n",
    "cov,mu = fit_polynomial_bayes(x,t,M,alpha,beta)\n",
    "\n",
    "# plt.scatter(x,t,color='blue',alpha=1,s=45,facecolors='none')\n",
    "# plt.title('Scatter plot of the toy sin function with N=%s data points'%(N));\n",
    "pred_m=[]\n",
    "pred_S=[]\n",
    "for i in range(N):\n",
    "    xx = np.power(x[i],i)\n",
    "    x_pred_S,x_pred_m=predict_polynomial_bayes(xx, mu, cov, beta,M)\n",
    "    pred_m.append(x_pred_m)\n",
    "    pred_S.append(x_pred_S) \n",
    "figure = plt.figure()\n",
    "\n",
    "\n",
    "Npost = 100\n",
    "\n",
    "\n",
    "D=np.linspace(0,2*np.pi,Npost)\n",
    "for i in range(Npost):\n",
    "    x,t=gen_sinusoidal2(7)\n",
    "    S,m=fit_polynomial_bayes(x, t, 5,alpha,beta)\n",
    "    plt.plot(D,[np.polynomial.polynomial.polyval(point,m) for point in D])\n",
    "plt.axis([0.0,2*np.pi,-5,5])\n",
    "plt.plot(D,[np.sin(point) for point in D])\n",
    "up = np.array(pred_m)+np.array(pred_S)\n",
    "down = np.array(pred_m)-np.array(pred_S)\n",
    "down = np.ma.masked_greater(down, 1.0)    \n",
    "plt.fill_between(x,up,down,where=down <= up,alpha=0.5, facecolor='green', interpolate=True)"
   ]
  },
  {
   "cell_type": "markdown",
   "metadata": {},
   "source": [
    "### 2.5 Additional questions (10 points)\n",
    "\n",
    "a) (5 points) Why is $\\beta=\\frac{1}{0.2^2}$ the best choice of $\\beta$ in section 2.4?\n",
    "\n",
    "b) (5 points) In the case of Bayesian linear regression, both the posterior of the parameters $p(\\bw \\;|\\; \\bt, \\alpha, \\beta)$ and the predictive distribution $p(t \\;|\\; \\bw, \\beta)$ are Gaussian. In consequence (and conveniently), $p(t \\;|\\; \\bt, \\alpha, \\beta)$ is also Gaussian (See Bishop's book section 3.3.2 and homework 2 question 4). This is actually one of the (rare) cases where we can make Bayesian predictions without resorting to approximative methods.\n",
    "\n",
    "Suppose you have to work with some model $p(t\\;|\\;x,\\bw)$ with parameters $\\bw$, where the posterior distribution $p(\\bw\\;|\\;\\mathcal{D})$ given dataset $\\mathcal{D}$ can not be integrated out when making predictions, but where you can still generate samples from the posterior distribution of the parameters. Explain how you can still make approximate Bayesian predictions using samples from the parameters' posterior distribution."
   ]
  },
  {
   "cell_type": "markdown",
   "metadata": {
    "collapsed": false
   },
   "source": [
    "a) If beta = 1 / 0.2^2, then we assume a sigma = 0.2. Since the toy data has been generated with exactly this sigma, the aasumption is accurate.\n",
    "\n",
    "b) In case we cannot generate predictions analytically, we can use sampling methods where we calculate the average likelihood. Similarly, we can calculate the variance by using the sampled points."
   ]
  }
 ],
 "metadata": {
  "kernelspec": {
   "display_name": "Python 2",
   "language": "python",
   "name": "python2"
  },
  "language_info": {
   "codemirror_mode": {
    "name": "ipython",
    "version": 2
   },
   "file_extension": ".py",
   "mimetype": "text/x-python",
   "name": "python",
   "nbconvert_exporter": "python",
   "pygments_lexer": "ipython2",
   "version": "2.7.11"
  }
 },
 "nbformat": 4,
 "nbformat_minor": 0
}
