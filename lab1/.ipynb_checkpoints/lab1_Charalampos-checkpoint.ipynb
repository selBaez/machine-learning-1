{
 "cells": [
  {
   "cell_type": "markdown",
   "metadata": {},
   "source": [
    "# Lab 1: Linear Regression and Overfitting\n",
    "\n",
    "### Machine Learning and Pattern Recognition, September 2016\n",
    "\n",
    "* The lab exercises should be made in groups of two people.\n",
    "* The deadline is sunday September 25, 23:59.\n",
    "* Assignment should be sent to your teaching assistant. The subject line of your email should be \"\\#lab\\_lastname1\\_lastname2\\_lastname3\".\n",
    "* Put your and your teammates' names in the body of the email\n",
    "* Attach the .IPYNB (IPython Notebook) file containing your code and answers. Naming of the file follows the same rule as the subject line. For example, if the subject line is \"lab01\\_Kingma\\_Hu\", the attached file should be \"lab01\\_Kingma\\_Hu.ipynb\". Only use underscores (\"\\_\") to connect names, otherwise the files cannot be parsed.\n",
    "* Make sure we can run your notebook / scripts!\n",
    "\n",
    "Notes on implementation:\n",
    "\n",
    "* You should write your code and answers in this IPython Notebook: http://ipython.org/notebook.html. If you have problems, please contact your teaching assistant.\n",
    "* Please write your answers right below the questions.\n",
    "* Among the first lines of your notebook should be \"%pylab inline\". This imports all required modules, and your plots will appear inline.\n",
    "* Refer to last week's lab notes, i.e. http://docs.scipy.org/doc/, if you are unsure about what function to use. There are different correct ways to implement each problem!\n",
    "* For this lab, your regression solutions should be in closed form, i.e., should not perform iterative gradient-based optimization but find the exact optimum directly."
   ]
  },
  {
   "cell_type": "code",
   "execution_count": 142,
   "metadata": {
    "collapsed": false
   },
   "outputs": [
    {
     "name": "stdout",
     "output_type": "stream",
     "text": [
      "Populating the interactive namespace from numpy and matplotlib\n"
     ]
    }
   ],
   "source": [
    "%pylab inline\n",
    "\n",
    "def fit_model(x, t, M, lamb=0.0):\n",
    "    \"\"\" \n",
    "    INPUT: x vector, t values to fit with Mth order polynomial, regularized by lamb\n",
    "    OUTPUT: w vector of weights, and phi basis functions\n",
    "    This function fits a model according to regularized or unregularized polynomials\n",
    "    \"\"\"\n",
    "    \n",
    "    weights = []\n",
    "    poly_xes = []\n",
    "    \n",
    "    for i in np.arange(M.shape[0]):\n",
    "        if lamb == 0.0:\n",
    "            poly_w, poly_x = fit_polynomial(x,t,M[i])\n",
    "            weights.append(poly_w)\n",
    "            poly_xes.append(poly_x)\n",
    "        else:\n",
    "            poly_w,poly_x = fit_polynomial_reg(x,t,M[i],lamb)\n",
    "            weights.append(poly_w)\n",
    "            poly_xes.append(poly_x)\n",
    "            \n",
    "    #print len(weights) , ' the number of weights vectors'\n",
    "    #print len(poly_xes) , ' the number of models'\n",
    "    \n",
    "    return weights,poly_xes\n",
    "\n",
    "\n"
   ]
  },
  {
   "cell_type": "markdown",
   "metadata": {},
   "source": [
    "$\\newcommand{\\bPhi}{\\mathbf{\\Phi}}$\n",
    "$\\newcommand{\\bx}{\\mathbf{x}}$\n",
    "$\\newcommand{\\bw}{\\mathbf{w}}$\n",
    "$\\newcommand{\\bt}{\\mathbf{t}}$\n",
    "$\\newcommand{\\by}{\\mathbf{y}}$\n",
    "$\\newcommand{\\bm}{\\mathbf{m}}$\n",
    "$\\newcommand{\\bS}{\\mathbf{S}}$\n",
    "$\\newcommand{\\bI}{\\mathbf{I}}$\n",
    "\n",
    "## Part 1: Polynomial Regression"
   ]
  },
  {
   "cell_type": "markdown",
   "metadata": {},
   "source": [
    "### 1.1. Generate sinusoidal data (5 points)\n",
    "Write a method `gen_sinusoidal(N)` that generates toy data like in fig 1.2 of Bishop's book. The method should have a parameter $N$, and should return $N$-dimensional vectors $\\bx$ and $\\bt$, where $\\bx$ contains evenly spaced values from 0 to (including) 2$\\pi$, and the elements $t_i$ of $\\bt$ are distributed according to:\n",
    "\n",
    "$$t_i \\sim \\mathcal{N}(\\mu_i, \\sigma^2)$$\n",
    "\n",
    "where $x_i$ is the $i$-th elements of $\\bf{x}$, the mean $\\mu_i = sin(x_i)$ and the standard deviation $\\sigma = 0.2$.\n"
   ]
  },
  {
   "cell_type": "code",
   "execution_count": 143,
   "metadata": {
    "collapsed": false
   },
   "outputs": [
    {
     "name": "stdout",
     "output_type": "stream",
     "text": [
      "Generating sin polynomial data\n",
      "[ 0.     2.094  4.189  6.283] \n",
      "[-0.283  0.946 -1.015  0.286]\n"
     ]
    }
   ],
   "source": [
    "def gen_sinusoidal(N):\n",
    "    \"\"\" \n",
    "    INPUT: N as the number of observations, \n",
    "    OUTPUT: vectors x and t\n",
    "    This function creates data that follows a normal distribution with \n",
    "    mean = sin(x) and sigma = 0.2\n",
    "    \"\"\"\n",
    "    \n",
    "    print 'Generating sin polynomial data'\n",
    "    sigma = 0.2\n",
    "    \n",
    "    # CREATE EVENLY SPACED VALUES IN [0,2π] SPACE\n",
    "    x = np.linspace(0, 2*np.pi, N)\n",
    "    \n",
    "    # NP.RANDOM.NORMAL TAKES IN THE MEAN AS LOC AND STANDARD DEVIATION\n",
    "    # AS SCALE\n",
    "    t = np.random.normal(loc=np.sin(x), scale=sigma)\n",
    "    \n",
    "    return x, t\n",
    "\n",
    "# Test function\n",
    "N = 4\n",
    "x, t = gen_sinusoidal(N)\n",
    "print x, \"\\n\", t"
   ]
  },
  {
   "cell_type": "markdown",
   "metadata": {},
   "source": [
    "### 1.2 Polynomial regression (15 points)\n",
    "\n",
    "Write a method `fit_polynomial(x, t, M)` that finds the maximum-likelihood solution of an _unregularized_ $M$-th order polynomial for some dataset `x`. The error function to minimize w.r.t. $\\bw$ is:\n",
    "\n",
    "$E(\\bw) = \\frac{1}{2} (\\bPhi\\bw - \\bt)^T(\\bPhi\\bw - \\bt)$\n",
    "\n",
    "where $\\bPhi$ is the _feature matrix_ (or _design matrix_) as explained in Bishop's book at section 3.1.1, $\\bt$ is the vector of target values. Your method should return a vector $\\bw$ with the maximum-likelihood parameter estimates. "
   ]
  },
  {
   "cell_type": "code",
   "execution_count": 144,
   "metadata": {
    "collapsed": false
   },
   "outputs": [
    {
     "name": "stdout",
     "output_type": "stream",
     "text": [
      "data points:  4 polynomial size: 2\n",
      "x: \n",
      "[ 0.     2.094  4.189  6.283] \n",
      "M: \n",
      "2 \n",
      "weights: \n",
      "[ 0.039 -0.038  0.004] \n",
      "feature matrix: \n",
      "[[  1.      0.      0.   ]\n",
      " [  1.      2.094   4.386]\n",
      " [  1.      4.189  17.546]\n",
      " [  1.      6.283  39.478]]\n"
     ]
    }
   ],
   "source": [
    "def fit_polynomial(x, t, M, verbose=False, iters=2):\n",
    "    \"\"\" \n",
    "    INPUT: x vector, t values to fit with Mth order polynomial, \n",
    "    OUTPUT: w vector of weights\n",
    "    This function fits a polynomial to the given data using Normal equations\n",
    "    \"\"\"\n",
    "    \n",
    "    # GET DATA SIZE\n",
    "    N = x.shape[0]\n",
    "    print 'data points: ', N, 'polynomial size:',M\n",
    "    \n",
    "    # INITIALIZE WITH 0 FOR CORRECT USAGE OF POWER FUNCTION\n",
    "    phi = np.zeros((N, M+1))\n",
    "    \n",
    "    # PERFORM POWER FUNCTIONS\n",
    "    for i in range(M+1):            \n",
    "        phi[:,i] = np.power(x,i)\n",
    "\n",
    "    w = np.dot(np.linalg.inv(np.dot(phi.T,phi)),np.dot(phi.T,t)) \n",
    "      \n",
    "    return w, phi\n",
    "\n",
    "# TEST FUNCTION\n",
    "M = 2\n",
    "w, phi = fit_polynomial(x, t, M)\n",
    "\n",
    "print \"x: \\n\", x, \"\\nM: \\n\", M, \"\\nweights: \\n\", w, \"\\nfeature matrix: \\n\", phi"
   ]
  },
  {
   "cell_type": "markdown",
   "metadata": {},
   "source": [
    "### 1.3 Plot (5 points)\n",
    "Sample a dataset with $N=9$, and fit four polynomials with $M \\in (0, 1, 3, 9)$.\n",
    "For each value of $M$, plot the prediction function, along with the data and the original sine function. The resulting figure should look similar to fig 1.4 of the Bishop's book. Note that you can use matplotlib's `plt.pyplot(.)` functionality for creating grids of figures."
   ]
  },
  {
   "cell_type": "code",
   "execution_count": 145,
   "metadata": {
    "collapsed": false
   },
   "outputs": [
    {
     "name": "stdout",
     "output_type": "stream",
     "text": [
      "Generating sin polynomial data\n"
     ]
    },
    {
     "data": {
      "image/png": "[encoded data removed]",
      "text/plain": [
       "<matplotlib.figure.Figure at 0x75a8390>"
      ]
     },
     "metadata": {},
     "output_type": "display_data"
    }
   ],
   "source": [
    "# PRODUCE SAMPLE DATA SET N = 9\n",
    "N = 9\n",
    "np.set_printoptions(precision=3)\n",
    "x,t = gen_sinusoidal(N)\n",
    "\n",
    "# Toy visualization\n",
    "plt.scatter(x, t, color='green', alpha=1, s=45, facecolors='none')\n",
    "plt.title('Scatter plot of the toy sin function with N =%s datapoints'%(N));\n"
   ]
  },
  {
   "cell_type": "code",
   "execution_count": 146,
   "metadata": {
    "collapsed": false
   },
   "outputs": [
    {
     "name": "stdout",
     "output_type": "stream",
     "text": [
      "data points:  9 polynomial size: 0\n",
      "data points:  9 polynomial size: 1\n",
      "data points:  9 polynomial size: 3\n",
      "data points:  9 polynomial size: 9\n"
     ]
    },
    {
     "data": {
      "image/png": "[encoded data removed]",
      "text/plain": [
       "<matplotlib.figure.Figure at 0x7a71f60>"
      ]
     },
     "metadata": {},
     "output_type": "display_data"
    }
   ],
   "source": [
    "def plot_prediction(poly_w, poly_x, x, t):\n",
    "    \"\"\" \n",
    "    INPUT: weights and x values of polynomial, x and t values to fit \n",
    "    OUTPUT: plots 4 polynomial fit\n",
    "    This function plots 4 polynomial fits, each in a subplot\n",
    "    \"\"\"\n",
    "    \n",
    "    # CREATE AND MANAGE 4 SUBAXES\n",
    "    axes = []\n",
    "    f, ((ax1, ax2), (ax3, ax4)) = plt.subplots(2, 2, sharex='col')\n",
    "    axes.append(ax1)\n",
    "    axes.append(ax2)\n",
    "    axes.append(ax3)\n",
    "    axes.append(ax4)\n",
    "\n",
    "    # PLOT IN EACH AXIS\n",
    "    for i in np.arange(len(axes)):\n",
    "        #print M[i]\n",
    "        # PLOT REAL SIN(X) FUNCTION\n",
    "        axes[i].plot(x, np.sin(x), color='lightgreen')\n",
    "        # PLOT TOY DATA SIN(X) WITH NORMAL NOISE\n",
    "        axes[i].scatter(x, t, facecolor='none')\n",
    "        # PLOT POLYNOMIAL FIT\n",
    "        prediction = poly_x[i].dot(poly_w[i])\n",
    "        axes[i].plot(x, prediction,color='red')\n",
    "        # NAME THE PLOT\n",
    "        axes[i].set_title('Polynomial fit for M=%u'%(M[i]))\n",
    "        \n",
    "\n",
    "M = np.array([0,1,3,9])\n",
    "        \n",
    "weights, poly_xes = fit_model(x,t,M)\n",
    "plot_prediction(weights, poly_xes, x, t)\n"
   ]
  },
  {
   "cell_type": "markdown",
   "metadata": {},
   "source": [
    "### 1.4 Regularized linear regression (10 points)\n",
    "\n",
    "Write a method `fit_polynomial_reg(x, t, M, lamb)` that fits a _regularized_ $M$-th order polynomial to the sinusoidal data, as discussed in the lectures, where `lamb` is the regularization term _lambda_. (Note that 'lambda' cannot be used as a variable name in Python since it has a special meaning). The error function to minimize w.r.t. $\\bw$:\n",
    "\n",
    "$E(\\bw) = \\frac{1}{2} (\\bPhi\\bw - \\bt)^T(\\bPhi\\bw - \\bt) + \\frac{\\lambda}{2} \\mathbf{w}^T \\mathbf{w}$\n",
    "\n",
    "For background, see section 3.1.4 of Bishop's book."
   ]
  },
  {
   "cell_type": "code",
   "execution_count": 147,
   "metadata": {
    "collapsed": false
   },
   "outputs": [
    {
     "name": "stdout",
     "output_type": "stream",
     "text": [
      "x: \n",
      "[ 0.     0.785  1.571  2.356  3.142  3.927  4.712  5.498  6.283] \n",
      "M: \n",
      "[0 1 3 9] \n",
      "weights: \n",
      "[ 0.607 -0.179  0.001] \n",
      "feature matrix: \n",
      "[[  1.      0.      0.   ]\n",
      " [  1.      0.785   0.617]\n",
      " [  1.      1.571   2.467]\n",
      " [  1.      2.356   5.552]\n",
      " [  1.      3.142   9.87 ]\n",
      " [  1.      3.927  15.421]\n",
      " [  1.      4.712  22.207]\n",
      " [  1.      5.498  30.226]\n",
      " [  1.      6.283  39.478]]\n"
     ]
    }
   ],
   "source": [
    "def fit_polynomial_reg(x,t,M,lamb):\n",
    "    \"\"\" \n",
    "    INPUT: x vector, t values to fit with Mth order polynomial, regularized by lamb\n",
    "    OUTPUT: w vector of weights\n",
    "    This function fits a polynomial, using regularization, to the given data using Normal equations\n",
    "    \"\"\"    \n",
    "    \n",
    "    # GET DATA SIZE\n",
    "    N = x.shape[0]\n",
    "    # print 'data points: ',N,'polynomial size: ', M ,'regularization parameter:',lamb\n",
    "    \n",
    "    # INITIALIZE WITH 0 FOR CORRECT USAGE OF POWER FUNCTION\n",
    "    phi = np.zeros((N,M+1))\n",
    "    \n",
    "    # PERFORM POWER FUNCTIONS\n",
    "    for i in range(M+1):          \n",
    "        phi[:,i] = np.power(x,i)\n",
    "    \n",
    "    w = np.dot(np.linalg.inv(lamb*np.eye(M+1)+np.dot(phi.T,phi)),np.dot(phi.T,t))    \n",
    "    \n",
    "    return w,phi\n",
    "\n",
    "# TEST FUNCTION\n",
    "m = 2\n",
    "lamb = 0.001\n",
    "w, phi = fit_polynomial_reg(x, t, 2, lamb)\n",
    "\n",
    "print \"x: \\n\", x, \"\\nM: \\n\", M, \"\\nweights: \\n\", w, \"\\nfeature matrix: \\n\", phi"
   ]
  },
  {
   "cell_type": "code",
   "execution_count": 148,
   "metadata": {
    "collapsed": false
   },
   "outputs": [
    {
     "data": {
      "image/png": "[encoded data removed]",
      "text/plain": [
       "<matplotlib.figure.Figure at 0x8aa3978>"
      ]
     },
     "metadata": {},
     "output_type": "display_data"
    }
   ],
   "source": [
    "# PRODUCE PLOTS FOR REGULARIZED FITTING\n",
    "poly_w_reg,poly_x_reg = fit_model(x,t,M,lamb=0.001)\n",
    "plot_prediction(poly_w_reg,poly_x_reg,x,t)"
   ]
  },
  {
   "cell_type": "markdown",
   "metadata": {},
   "source": [
    "\n",
    "\n",
    "\n",
    "\n",
    "\n",
    "### 1.5 Model selection by cross-validation (10 points)\n",
    "Use cross-validation to find a good choice of $M$ and $\\lambda$, given a dataset of $N=9$ datapoints generated with `gen_sinusoidal(9)`. You should write a function that tries (loops over) a reasonable range of choices of $M$ and $\\lambda$, and returns the choice with the best cross-validation error. In this case you can use $K=9$ folds, corresponding to _leave-one-out_ crossvalidation.\n",
    "\n",
    "You can let $M \\in (0, 1, ..., 10)$, and let $\\lambda \\in (e^{-10}, e^{-9}, ..., e^{0})$.\n",
    "\n",
    "To get you started, here's a method you can use to generate indices of cross-validation folds."
   ]
  },
  {
   "cell_type": "code",
   "execution_count": 149,
   "metadata": {
    "collapsed": false
   },
   "outputs": [],
   "source": [
    "def kfold_indices(N, k):\n",
    "    all_indices = np.arange(N,dtype=int)\n",
    "    np.random.shuffle(all_indices)\n",
    "    idx = np.floor(np.linspace(0,N,k+1))\n",
    "    train_folds = []\n",
    "    valid_folds = []\n",
    "    for fold in range(k):\n",
    "        valid_indices = all_indices[idx[fold]:idx[fold+1]]\n",
    "        valid_folds.append(valid_indices)\n",
    "        train_folds.append(np.setdiff1d(all_indices, valid_indices))\n",
    "    return train_folds, valid_folds"
   ]
  },
  {
   "cell_type": "markdown",
   "metadata": {},
   "source": [
    "Create a comprehensible plot of the cross-validation error for each choice of $M$ and $\\lambda$. Highlight the best choice. \n",
    "\n",
    "_Question_: Explain over-fitting and underfitting, illuminated by your plot. Explain the relationship with model bias and model variance."
   ]
  },
  {
   "cell_type": "markdown",
   "metadata": {},
   "source": [
    "Answer:"
   ]
  },
  {
   "cell_type": "code",
   "execution_count": 150,
   "metadata": {
    "collapsed": false
   },
   "outputs": [
    {
     "name": "stdout",
     "output_type": "stream",
     "text": [
      "total number of models: 99\n"
     ]
    },
    {
     "name": "stderr",
     "output_type": "stream",
     "text": [
      "c:\\miniconda2\\lib\\site-packages\\ipykernel\\__main__.py:8: VisibleDeprecationWarning: using a non-integer number instead of an integer will result in an error in the future\n"
     ]
    }
   ],
   "source": [
    "M_fold = np.linspace(0,10,11).astype(int)\n",
    "l_fold = np.exp(np.linspace(-10,0,11))\n",
    "K = 9\n",
    "x_ind,t_ind =  kfold_indices(N,K)\n",
    "weights_k_fold = []\n",
    "poly_x_k_fold = []\n",
    "x_folds = []\n",
    "t_folds = []\n",
    "v_folds = []\n",
    "for k in range(K):\n",
    "    x_fold = x[x_ind[k]]\n",
    "    t_fold = t[x_ind[k]]\n",
    "    v_fold = t[t_ind[k]]\n",
    "    x_folds.append(x_fold)\n",
    "    t_folds.append(t_fold)\n",
    "    v_folds.append(v_fold)\n",
    "    #M = np.array([M_fold[k]]).astype(int)\n",
    "    #lamb = np.array([l_fold[k]])\n",
    "    for j in range(M_fold.shape[0]):\n",
    "        weights,poly_x = fit_model(x_fold,t_fold,M_fold,l_fold[j])\n",
    "        weights_k_fold.append(weights)\n",
    "        poly_x_k_fold.append(poly_x)\n",
    "print 'total number of models:', len(weights_k_fold)"
   ]
  },
  {
   "cell_type": "markdown",
   "metadata": {},
   "source": []
  },
  {
   "cell_type": "markdown",
   "metadata": {},
   "source": [
    "### 1.6 Plot best cross-validated fit (5 points)\n",
    "\n",
    "For some dataset with $N = 9$, plot the model with the optimal $M$ and $\\lambda$ according to the cross-validation error, using the method you just wrote. Let the plot make clear which $M$ and $\\lambda$ were found."
   ]
  },
  {
   "cell_type": "code",
   "execution_count": 10,
   "metadata": {
    "collapsed": false
   },
   "outputs": [
    {
     "name": "stdout",
     "output_type": "stream",
     "text": [
      "11\n",
      "11\n",
      "8\n",
      "8\n",
      "[ 0  1  2  3  4  5  6  7  8  9 10]\n",
      "[[ 0.072]\n",
      " [ 0.072]\n",
      " [ 0.072]\n",
      " [ 0.072]\n",
      " [ 0.072]\n",
      " [ 0.072]\n",
      " [ 0.072]\n",
      " [ 0.072]]\n",
      "[[ 0.675 -0.   ]\n",
      " [ 0.675 -0.156]\n",
      " [ 0.675 -0.311]\n",
      " [ 0.675 -0.467]\n",
      " [ 0.675 -0.623]\n",
      " [ 0.675 -0.934]\n",
      " [ 0.675 -1.09 ]\n",
      " [ 0.675 -1.245]]\n",
      "[[ 0.725 -0.     0.   ]\n",
      " [ 0.725 -0.2    0.006]\n",
      " [ 0.725 -0.401  0.022]\n",
      " [ 0.725 -0.601  0.05 ]\n",
      " [ 0.725 -0.801  0.088]\n",
      " [ 0.725 -1.202  0.198]\n",
      " [ 0.725 -1.402  0.27 ]\n",
      " [ 0.725 -1.602  0.352]]\n",
      "[[  0.188   0.     -0.      0.   ]\n",
      " [  0.188   1.013  -0.415   0.036]\n",
      " [  0.188   2.026  -1.659   0.286]\n",
      " [  0.188   3.039  -3.733   0.966]\n",
      " [  0.188   4.052  -6.636   2.291]\n",
      " [  0.188   6.077 -14.931   7.731]\n",
      " [  0.188   7.09  -20.323  12.277]\n",
      " [  0.188   8.103 -26.544  18.326]]\n",
      "[[  2.193e-01   0.000e+00  -0.000e+00   0.000e+00   0.000e+00]\n",
      " [  2.193e-01   8.445e-01  -3.071e-01   1.436e-02   1.325e-03]\n",
      " [  2.193e-01   1.689e+00  -1.229e+00   1.149e-01   2.121e-02]\n",
      " [  2.193e-01   2.534e+00  -2.764e+00   3.877e-01   1.074e-01]\n",
      " [  2.193e-01   3.378e+00  -4.914e+00   9.191e-01   3.393e-01]\n",
      " [  2.193e-01   5.067e+00  -1.106e+01   3.102e+00   1.718e+00]\n",
      " [  2.193e-01   5.912e+00  -1.505e+01   4.926e+00   3.182e+00]\n",
      " [  2.193e-01   6.756e+00  -1.966e+01   7.353e+00   5.429e+00]]\n",
      "[[  2.522e-01   0.000e+00   0.000e+00  -0.000e+00   0.000e+00  -0.000e+00]\n",
      " [  2.522e-01   3.182e-01   2.747e-01  -1.993e-01   3.264e-02  -1.585e-03]\n",
      " [  2.522e-01   6.364e-01   1.099e+00  -1.595e+00   5.222e-01  -5.072e-02]\n",
      " [  2.522e-01   9.546e-01   2.472e+00  -5.382e+00   2.644e+00  -3.851e-01]\n",
      " [  2.522e-01   1.273e+00   4.395e+00  -1.276e+01   8.355e+00  -1.623e+00]\n",
      " [  2.522e-01   1.909e+00   9.889e+00  -4.305e+01   4.230e+01  -1.232e+01]\n",
      " [  2.522e-01   2.227e+00   1.346e+01  -6.837e+01   7.836e+01  -2.664e+01]\n",
      " [  2.522e-01   2.546e+00   1.758e+01  -1.021e+02   1.337e+02  -5.194e+01]]\n",
      "[[  2.573e-01   0.000e+00   0.000e+00  -0.000e+00   0.000e+00  -0.000e+00\n",
      "    0.000e+00]\n",
      " [  2.573e-01   6.256e-02   6.704e-01  -4.124e-01   8.418e-02  -7.325e-03\n",
      "    2.396e-04]\n",
      " [  2.573e-01   1.251e-01   2.682e+00  -3.299e+00   1.347e+00  -2.344e-01\n",
      "    1.533e-02]\n",
      " [  2.573e-01   1.877e-01   6.034e+00  -1.113e+01   6.818e+00  -1.780e+00\n",
      "    1.747e-01]\n",
      " [  2.573e-01   2.503e-01   1.073e+01  -2.639e+01   2.155e+01  -7.501e+00\n",
      "    9.814e-01]\n",
      " [  2.573e-01   3.754e-01   2.413e+01  -8.908e+01   1.091e+02  -5.696e+01\n",
      "    1.118e+01]\n",
      " [  2.573e-01   4.379e-01   3.285e+01  -1.415e+02   2.021e+02  -1.231e+02\n",
      "    2.819e+01]\n",
      " [  2.573e-01   5.005e-01   4.291e+01  -2.111e+02   3.448e+02  -2.400e+02\n",
      "    6.281e+01]]\n",
      "[[  2.580e-01  -0.000e+00   0.000e+00  -0.000e+00   0.000e+00  -0.000e+00\n",
      "    0.000e+00  -0.000e+00]\n",
      " [  2.580e-01  -3.382e-01   1.503e+00  -1.035e+00   3.062e-01  -4.802e-02\n",
      "    3.940e-03  -1.322e-04]\n",
      " [  2.580e-01  -6.764e-01   6.012e+00  -8.283e+00   4.900e+00  -1.537e+00\n",
      "    2.521e-01  -1.692e-02]\n",
      " [  2.580e-01  -1.015e+00   1.353e+01  -2.796e+01   2.480e+01  -1.167e+01\n",
      "    2.872e+00  -2.891e-01]\n",
      " [  2.580e-01  -1.353e+00   2.405e+01  -6.626e+01   7.839e+01  -4.917e+01\n",
      "    1.614e+01  -2.166e+00]\n",
      " [  2.580e-01  -2.029e+00   5.411e+01  -2.236e+02   3.969e+02  -3.734e+02\n",
      "    1.838e+02  -3.700e+01]\n",
      " [  2.580e-01  -2.367e+00   7.365e+01  -3.551e+02   7.352e+02  -8.070e+02\n",
      "    4.635e+02  -1.089e+02]\n",
      " [  2.580e-01  -2.706e+00   9.619e+01  -5.301e+02   1.254e+03  -1.573e+03\n",
      "    1.033e+03  -2.772e+02]]\n",
      "[[  2.587e-01   0.000e+00   0.000e+00   0.000e+00  -0.000e+00   0.000e+00\n",
      "   -0.000e+00   0.000e+00  -0.000e+00]\n",
      " [  2.587e-01   5.783e-02   4.435e-01   4.279e-02  -2.445e-01   1.065e-01\n",
      "   -2.017e-02   1.824e-03  -6.428e-05]\n",
      " [  2.587e-01   1.157e-01   1.774e+00   3.423e-01  -3.912e+00   3.410e+00\n",
      "   -1.291e+00   2.335e-01  -1.645e-02]\n",
      " [  2.587e-01   1.735e-01   3.992e+00   1.155e+00  -1.980e+01   2.589e+01\n",
      "   -1.471e+01   3.990e+00  -4.217e-01]\n",
      " [  2.587e-01   2.313e-01   7.096e+00   2.738e+00  -6.259e+01   1.091e+02\n",
      "   -8.263e+01   2.989e+01  -4.212e+00]\n",
      " [  2.587e-01   3.470e-01   1.597e+01   9.242e+00  -3.169e+02   8.285e+02\n",
      "   -9.412e+02   5.107e+02  -1.080e+02]\n",
      " [  2.587e-01   4.048e-01   2.173e+01   1.468e+01  -5.870e+02   1.791e+03\n",
      "   -2.373e+03   1.502e+03  -3.705e+02]\n",
      " [  2.587e-01   4.627e-01   2.838e+01   2.191e+01  -1.001e+03   3.491e+03\n",
      "   -5.288e+03   3.826e+03  -1.078e+03]]\n",
      "[[  2.590e-01   0.000e+00   0.000e+00   0.000e+00  -0.000e+00  -0.000e+00\n",
      "    0.000e+00  -0.000e+00   0.000e+00  -0.000e+00]\n",
      " [  2.590e-01   2.409e-01   1.548e-01   4.939e-02  -3.691e-02  -4.277e-02\n",
      "    2.737e-02  -6.041e-03   5.938e-04  -2.199e-05]\n",
      " [  2.590e-01   4.817e-01   6.191e-01   3.951e-01  -5.906e-01  -1.369e+00\n",
      "    1.752e+00  -7.733e-01   1.520e-01  -1.126e-02]\n",
      " [  2.590e-01   7.226e-01   1.393e+00   1.333e+00  -2.990e+00  -1.039e+01\n",
      "    1.995e+01  -1.321e+01   3.896e+00  -4.329e-01]\n",
      " [  2.590e-01   9.635e-01   2.476e+00   3.161e+00  -9.449e+00  -4.380e+01\n",
      "    1.121e+02  -9.898e+01   3.891e+01  -5.765e+00]\n",
      " [  2.590e-01   1.445e+00   5.572e+00   1.067e+01  -4.784e+01  -3.326e+02\n",
      "    1.277e+03  -1.691e+03   9.973e+02  -2.216e+02]\n",
      " [  2.590e-01   1.686e+00   7.584e+00   1.694e+01  -8.862e+01  -7.188e+02\n",
      "    3.220e+03  -4.975e+03   3.423e+03  -8.875e+02]\n",
      " [  2.590e-01   1.927e+00   9.906e+00   2.529e+01  -1.512e+02  -1.401e+03\n",
      "    7.175e+03  -1.267e+04   9.962e+03  -2.952e+03]]\n"
     ]
    },
    {
     "ename": "ValueError",
     "evalue": "could not broadcast input array from shape (8,1) into shape (8)",
     "output_type": "error",
     "traceback": [
      "\u001b[1;31m---------------------------------------------------------------------------\u001b[0m",
      "\u001b[1;31mValueError\u001b[0m                                Traceback (most recent call last)",
      "\u001b[1;32m<ipython-input-10-6550cbb64b4f>\u001b[0m in \u001b[0;36m<module>\u001b[1;34m()\u001b[0m\n\u001b[0;32m     36\u001b[0m \u001b[1;33m\u001b[0m\u001b[0m\n\u001b[0;32m     37\u001b[0m \u001b[1;31m#print weights_k_fold[0]\u001b[0m\u001b[1;33m\u001b[0m\u001b[1;33m\u001b[0m\u001b[0m\n\u001b[1;32m---> 38\u001b[1;33m \u001b[0mplot_prediction_cv\u001b[0m\u001b[1;33m(\u001b[0m\u001b[0mweights_k_fold\u001b[0m\u001b[1;33m[\u001b[0m\u001b[1;36m0\u001b[0m\u001b[1;33m]\u001b[0m\u001b[1;33m,\u001b[0m\u001b[0mpoly_x_k_fold\u001b[0m\u001b[1;33m[\u001b[0m\u001b[1;36m0\u001b[0m\u001b[1;33m]\u001b[0m\u001b[1;33m,\u001b[0m\u001b[0mx_folds\u001b[0m\u001b[1;33m[\u001b[0m\u001b[1;36m0\u001b[0m\u001b[1;33m]\u001b[0m\u001b[1;33m,\u001b[0m\u001b[0mt_folds\u001b[0m\u001b[1;33m[\u001b[0m\u001b[1;36m0\u001b[0m\u001b[1;33m]\u001b[0m\u001b[1;33m,\u001b[0m\u001b[0mM_fold\u001b[0m\u001b[1;33m)\u001b[0m\u001b[1;33m\u001b[0m\u001b[0m\n\u001b[0m",
      "\u001b[1;32m<ipython-input-10-6550cbb64b4f>\u001b[0m in \u001b[0;36mplot_prediction_cv\u001b[1;34m(poly_w, poly_x, x, t, M)\u001b[0m\n\u001b[0;32m     32\u001b[0m         \u001b[0maxes\u001b[0m\u001b[1;33m[\u001b[0m\u001b[0mi\u001b[0m\u001b[1;33m]\u001b[0m\u001b[1;33m.\u001b[0m\u001b[0mplot\u001b[0m\u001b[1;33m(\u001b[0m\u001b[0mx\u001b[0m\u001b[1;33m,\u001b[0m\u001b[0mnp\u001b[0m\u001b[1;33m.\u001b[0m\u001b[0msin\u001b[0m\u001b[1;33m(\u001b[0m\u001b[0mx\u001b[0m\u001b[1;33m)\u001b[0m\u001b[1;33m,\u001b[0m\u001b[0mcolor\u001b[0m\u001b[1;33m=\u001b[0m\u001b[1;34m'lightgreen'\u001b[0m\u001b[1;33m)\u001b[0m\u001b[1;33m\u001b[0m\u001b[0m\n\u001b[0;32m     33\u001b[0m         \u001b[0maxes\u001b[0m\u001b[1;33m[\u001b[0m\u001b[0mi\u001b[0m\u001b[1;33m]\u001b[0m\u001b[1;33m.\u001b[0m\u001b[0mscatter\u001b[0m\u001b[1;33m(\u001b[0m\u001b[0mx\u001b[0m\u001b[1;33m,\u001b[0m\u001b[0mt\u001b[0m\u001b[1;33m,\u001b[0m\u001b[0mfacecolor\u001b[0m\u001b[1;33m=\u001b[0m\u001b[1;34m'none'\u001b[0m\u001b[1;33m)\u001b[0m\u001b[1;33m\u001b[0m\u001b[0m\n\u001b[1;32m---> 34\u001b[1;33m         \u001b[0maxes\u001b[0m\u001b[1;33m[\u001b[0m\u001b[0mi\u001b[0m\u001b[1;33m]\u001b[0m\u001b[1;33m.\u001b[0m\u001b[0mplot\u001b[0m\u001b[1;33m(\u001b[0m\u001b[0mx\u001b[0m\u001b[1;33m,\u001b[0m\u001b[0mpoly_x\u001b[0m\u001b[1;33m*\u001b[0m\u001b[0mpoly_w\u001b[0m\u001b[1;33m,\u001b[0m\u001b[0mcolor\u001b[0m\u001b[1;33m=\u001b[0m\u001b[1;34m'red'\u001b[0m\u001b[1;33m)\u001b[0m\u001b[1;33m\u001b[0m\u001b[0m\n\u001b[0m\u001b[0;32m     35\u001b[0m         \u001b[0maxes\u001b[0m\u001b[1;33m[\u001b[0m\u001b[0mi\u001b[0m\u001b[1;33m]\u001b[0m\u001b[1;33m.\u001b[0m\u001b[0mset_title\u001b[0m\u001b[1;33m(\u001b[0m\u001b[1;34m'Polynomial fit for M=%u'\u001b[0m\u001b[1;33m%\u001b[0m\u001b[1;33m(\u001b[0m\u001b[0mM\u001b[0m\u001b[1;33m[\u001b[0m\u001b[0mi\u001b[0m\u001b[1;33m]\u001b[0m\u001b[1;33m)\u001b[0m\u001b[1;33m)\u001b[0m\u001b[1;33m\u001b[0m\u001b[0m\n\u001b[0;32m     36\u001b[0m \u001b[1;33m\u001b[0m\u001b[0m\n",
      "\u001b[1;31mValueError\u001b[0m: could not broadcast input array from shape (8,1) into shape (8)"
     ]
    },
    {
     "data": {
      "image/png": "[encoded data removed]",
      "text/plain": [
       "<matplotlib.figure.Figure at 0x7f9d2e112ed0>"
      ]
     },
     "metadata": {},
     "output_type": "display_data"
    }
   ],
   "source": [
    "\n",
    "def plot_prediction_cv(poly_w,poly_x,x,t,M):\n",
    "    axes = []\n",
    "    f, ((ax1, ax2,ax3, ax4,ax5),(ax6,ax7,ax8,ax9,ax10)) = plt.subplots(2,5 , sharex='col')\n",
    "    axes.append(ax1)\n",
    "    axes.append(ax2)\n",
    "    axes.append(ax3)\n",
    "    axes.append(ax4)\n",
    "    axes.append(ax5)\n",
    "    axes.append(ax6)\n",
    "    axes.append(ax7)\n",
    "    axes.append(ax8)\n",
    "    axes.append(ax9)\n",
    "    axes.append(ax10)\n",
    "    # print poly_xes\n",
    "    # print polynomials\n",
    "    print len(poly_w)\n",
    "    print len(poly_x)\n",
    "    print len(x)\n",
    "    print len(t)\n",
    "    print M\n",
    "    poly_w = np.array(poly_w)\n",
    "    for i in np.arange(M.shape[0]-1):\n",
    "        xx = poly_x[i]\n",
    "        #print xx\n",
    "        ww = poly_w[i]\n",
    "        #print ww\n",
    "        print xx*ww\n",
    "    for i in np.arange(M.shape[0]-1):\n",
    "        #print M[i]\n",
    "        \n",
    "        axes[i].plot(x,np.sin(x),color='lightgreen')\n",
    "        axes[i].scatter(x,t,facecolor='none')\n",
    "        axes[i].plot(x,poly_x*poly_w,color='red')\n",
    "        axes[i].set_title('Polynomial fit for M=%u'%(M[i]))\n",
    "    \n",
    "#print weights_k_fold[0]\n",
    "plot_prediction_cv(weights_k_fold[0],poly_x_k_fold[0],x_folds[0],t_folds[0],M_fold)"
   ]
  },
  {
   "cell_type": "markdown",
   "metadata": {},
   "source": [
    "## Part 2: Bayesian Linear (Polynomial) Regression\n",
    "\n",
    "### 2.1 Sinusoidal data 2 (5 points)\n",
    "\n",
    "Write a function `gen_sinusoidal2(N)` that behaves identically to `gen_sinusoidal(N)` except that the generated values $x_i$ are not linearly spaced, but drawn from a uniform distribution between $0$ and $2 \\pi$."
   ]
  },
  {
   "cell_type": "code",
   "execution_count": 17,
   "metadata": {
    "collapsed": false
   },
   "outputs": [
    {
     "name": "stdout",
     "output_type": "stream",
     "text": [
      "generating sin polynomial data\n"
     ]
    },
    {
     "data": {
      "image/png": "[encoded data removed]",
      "text/plain": [
       "<matplotlib.figure.Figure at 0x7f9d2c529290>"
      ]
     },
     "metadata": {},
     "output_type": "display_data"
    }
   ],
   "source": [
    "def gen_sinusoidal2(N):\n",
    "    print 'generating sin polynomial data'\n",
    "    sigma = 0.2\n",
    "    #CREATE EVENLY SPACED VALUES IN [0,2π] SPACE\n",
    "    x = np.random.uniform(0,2*np.pi,N)\n",
    "    # SINCE THE NP.RANDOM.NORMAL TAKES THE STANDARD DEVIATION WE \n",
    "    t = np.random.normal(loc=np.sin(x),scale=sigma)\n",
    "    return x,t\n",
    "N = 9\n",
    "x,t = gen_sinusoidal2(N)\n",
    "plt.scatter(x,t,color='blue',alpha=1,s=45,facecolors='none')\n",
    "plt.title('Scatter plot of the toy sin function with N=%s data points'%(N));"
   ]
  },
  {
   "cell_type": "markdown",
   "metadata": {},
   "source": [
    "### 2.2 Compute Posterior (15 points)\n",
    "\n",
    "You're going to implement a Bayesian linear regression model, and fit it to the sinusoidal data. Your regression model has a zero-mean isotropic Gaussian prior over the parameters, governed by a single (scalar) precision parameter $\\alpha$, i.e.:\n",
    "\n",
    "$$p(\\bw \\;|\\; \\alpha) = \\mathcal{N}(\\bw \\;|\\; 0, \\alpha^{-1} \\bI)$$\n",
    "\n",
    "The covariance and mean of the posterior are given by:\n",
    "\n",
    "$$\\bS_N= \\left( \\alpha \\bI + \\beta \\bPhi^T \\bPhi \\right)^{-1} $$\n",
    "$$\\bm_N = \\beta\\; \\bS_N \\bPhi^T \\bt$$\n",
    "\n",
    "where $\\alpha$ is the precision of the predictive distribution, and $\\beta$ is the noise precision. \n",
    "See MLPR chapter 3.3 for background.\n",
    "\n",
    "Write a method `fit_polynomial_bayes(x, t, M, alpha, beta)` that returns the mean $\\bm_N$ and covariance $\\bS_N$ of the posterior for a $M$-th order polynomial, given a dataset, where `x`, `t` and `M` have the same meaning as in question 1.2."
   ]
  },
  {
   "cell_type": "code",
   "execution_count": 302,
   "metadata": {
    "collapsed": false
   },
   "outputs": [
    {
     "name": "stdout",
     "output_type": "stream",
     "text": [
      "generating sin polynomial data\n",
      "data points 9 polynomial size: 3\n",
      "[[ 30.122 -36.42   12.26   -1.245]\n",
      " [-36.42   51.241 -19.344   2.156]\n",
      " [ 12.26  -19.344   8.202  -1.002]\n",
      " [ -1.245   2.156  -1.002   0.131]] [ 0.698  0.791 -0.433  0.039]\n"
     ]
    }
   ],
   "source": [
    "def fit_polynomial_bayes(x, t, M, alpha, beta):\n",
    "    N = x.shape[0]\n",
    "    print 'data points',N,'polynomial size:',M\n",
    "    phi = np.zeros((N,M+1))\n",
    "    for i in range(M+1):\n",
    "        phi[:,i] = np.power(x,i)\n",
    "    \n",
    "    cov = np.linalg.inv(alpha*np.eye(M+1)+ beta*np.dot(phi.T,phi))\n",
    "    mu  = beta*np.dot(cov,phi.T).dot(t)\n",
    "    return cov,mu,phi\n",
    "\n",
    "x,t = gen_sinusoidal2(9)\n",
    "cov,mu,poly_x = fit_polynomial_bayes(x,t,3,0.01,25)\n",
    "print cov,mu"
   ]
  },
  {
   "cell_type": "markdown",
   "metadata": {},
   "source": [
    "### 2.3 Prediction (10 points)\n",
    "\n",
    "The predictive distribution of Bayesian linear regression is:\n",
    "\n",
    "$$ p(t \\;|\\; \\bx, \\bt, \\alpha, \\beta) = \\mathcal{N}(t \\;|\\; \\bm_N^T \\phi(\\bx), \\sigma_N^2(\\bx))$$\n",
    "\n",
    "$$ \\sigma_N^2 = \\frac{1}{\\beta} + \\phi(\\bx)^T \\bS_N \\phi(\\bx) $$\n",
    "\n",
    "where $\\phi(\\bx)$ are the computed features for a new datapoint $\\bx$, and $t$ is the predicted variable for datapoint $\\bx$. \n",
    "\n",
    "Write a function that `predict_polynomial_bayes(x, m, S, beta)` that returns the predictive mean and variance given a new datapoint `x`, posterior mean `m`, posterior variance `S` and a choice of model variance `beta`."
   ]
  },
  {
   "cell_type": "code",
   "execution_count": 18,
   "metadata": {
    "collapsed": false
   },
   "outputs": [],
   "source": [
    "def predict_polynomial_bayes(x,m,S,beta):\n",
    "    \n",
    "    M = mu.shape[0]\n",
    "    N = x.shape[0]\n",
    "    phi = np.zeros((N,M+1))\n",
    "    for i in range(M+1):\n",
    "        phi[:,i] = np.power(x,i)\n",
    "    new_s = 1/beta + np.dot(phi.T,S).dot(phi)\n",
    "    \n",
    "    \n",
    "    "
   ]
  },
  {
   "cell_type": "markdown",
   "metadata": {},
   "source": [
    "### 2.4 Plot predictive distribution (10 points)\n",
    "\n",
    "a) (5 points) Generate 7 datapoints with `gen_sinusoidal2(7)`. Compute the posterior mean and covariance for a Bayesian polynomial regression model with $M=5$, $\\alpha=\\frac{1}{2}$ and $\\beta=\\frac{1}{0.2^2}$.\n",
    "Plot the Bayesian predictive distribution, where you plot (for $x$ between 0 and $2 \\pi$) $t$'s predictive mean and a 1-sigma predictive variance using `plt.fill_between(..., alpha=0.1)` (the alpha argument induces transparency).\n",
    "\n",
    "Include the datapoints in your plot.\n",
    "\n",
    "b) (5 points) For a second plot, draw 100 samples from the parameters' posterior distribution. Each of these samples is a certain choice of parameters for 5-th order polynomial regression. \n",
    "Display each of these 100 polynomials."
   ]
  },
  {
   "cell_type": "code",
   "execution_count": null,
   "metadata": {
    "collapsed": false
   },
   "outputs": [],
   "source": []
  },
  {
   "cell_type": "markdown",
   "metadata": {},
   "source": [
    "### 2.5 Additional questions (10 points)\n",
    "\n",
    "a) (5 points) Why is $\\beta=\\frac{1}{0.2^2}$ the best choice of $\\beta$ in section 2.4?\n",
    "\n",
    "b) (5 points) In the case of Bayesian linear regression, both the posterior of the parameters $p(\\bw \\;|\\; \\bt, \\alpha, \\beta)$ and the predictive distribution $p(t \\;|\\; \\bw, \\beta)$ are Gaussian. In consequence (and conveniently), $p(t \\;|\\; \\bt, \\alpha, \\beta)$ is also Gaussian (See Bishop's book section 3.3.2 and homework 2 question 4). This is actually one of the (rare) cases where we can make Bayesian predictions without resorting to approximative methods.\n",
    "\n",
    "Suppose you have to work with some model $p(t\\;|\\;x,\\bw)$ with parameters $\\bw$, where the posterior distribution $p(\\bw\\;|\\;\\mathcal{D})$ given dataset $\\mathcal{D}$ can not be integrated out when making predictions, but where you can still generate samples from the posterior distribution of the parameters. Explain how you can still make approximate Bayesian predictions using samples from the parameters' posterior distribution."
   ]
  },
  {
   "cell_type": "markdown",
   "metadata": {
    "collapsed": false
   },
   "source": [
    "a) If beta = 1 / 0.2^2, then we assume a sigma = 0.2. Since the toy data has been generated with exactly this sigma, the aasumption is accurate.\n",
    "\n",
    "b) In case we cannot generate predictions analytically, we can use sampling methods where we calculate the average likelihood. Similarly, we can calculate the variance by using the sampled points."
   ]
  }
 ],
 "metadata": {
  "kernelspec": {
   "display_name": "Python 2",
   "language": "python",
   "name": "python2"
  },
  "language_info": {
   "codemirror_mode": {
    "name": "ipython",
    "version": 2
   },
   "file_extension": ".py",
   "mimetype": "text/x-python",
   "name": "python",
   "nbconvert_exporter": "python",
   "pygments_lexer": "ipython2",
   "version": "2.7.11"
  }
 },
 "nbformat": 4,
 "nbformat_minor": 0
}
