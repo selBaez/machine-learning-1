{
 "cells": [
  {
   "cell_type": "markdown",
   "metadata": {},
   "source": [
    "# Lab 1: Linear Regression and Overfitting\n",
    "\n",
    "### Machine Learning and Pattern Recognition, September 2016\n",
    "\n",
    "* The lab exercises should be made in groups of two people.\n",
    "* The deadline is sunday September 25, 23:59.\n",
    "* Assignment should be sent to your teaching assistant. The subject line of your email should be \"\\#lab\\_lastname1\\_lastname2\\_lastname3\".\n",
    "* Put your and your teammates' names in the body of the email\n",
    "* Attach the .IPYNB (IPython Notebook) file containing your code and answers. Naming of the file follows the same rule as the subject line. For example, if the subject line is \"lab01\\_Kingma\\_Hu\", the attached file should be \"lab01\\_Kingma\\_Hu.ipynb\". Only use underscores (\"\\_\") to connect names, otherwise the files cannot be parsed.\n",
    "* Make sure we can run your notebook / scripts!\n",
    "\n",
    "Notes on implementation:\n",
    "\n",
    "* You should write your code and answers in this IPython Notebook: http://ipython.org/notebook.html. If you have problems, please contact your teaching assistant.\n",
    "* Please write your answers right below the questions.\n",
    "* Among the first lines of your notebook should be \"%pylab inline\". This imports all required modules, and your plots will appear inline.\n",
    "* Refer to last week's lab notes, i.e. http://docs.scipy.org/doc/, if you are unsure about what function to use. There are different correct ways to implement each problem!\n",
    "* For this lab, your regression solutions should be in closed form, i.e., should not perform iterative gradient-based optimization but find the exact optimum directly."
   ]
  },
  {
   "cell_type": "code",
   "execution_count": 364,
   "metadata": {
    "collapsed": false
   },
   "outputs": [
    {
     "name": "stdout",
     "output_type": "stream",
     "text": [
      "Populating the interactive namespace from numpy and matplotlib\n"
     ]
    }
   ],
   "source": [
    "%pylab inline\n",
    "from sklearn.metrics import mean_squared_error\n",
    "def create_polyval(x,M):\n",
    "    N = x.shape[0]\n",
    "    print 'data points',N,'polynomial size:',M\n",
    "    phi = np.zeros((N, M+1))\n",
    "    for i in range(M+1):            \n",
    "        phi[:,i] = np.power(x,i)\n",
    "        \n",
    "    #print phi\n",
    "    return phi\n",
    "\n",
    "def rmse(prd,t):\n",
    "    rms = np.sqrt(mean_squared_error(y_actual, y_predicted))\n",
    "    \n",
    "\n",
    "        \n",
    "\n",
    "def fit_model(x, t, M, lamb=0.0):\n",
    "    \"\"\" \n",
    "    INPUT: x vector, t values to fit with Mth order polynomial, regularized by lamb\n",
    "    OUTPUT: w vector of weights, and phi basis functions\n",
    "    This function fits a model according to regularized or unregularized polynomials\n",
    "    \"\"\"\n",
    "    \n",
    "    weights = []\n",
    "    poly_xes = []\n",
    "    \n",
    "    for i in np.arange(M.shape[0]):\n",
    "        if lamb == 0.0:\n",
    "            poly_w = fit_polynomial(x,t,M[i])\n",
    "            \n",
    "            weights.append(poly_w)\n",
    "            #poly_xes.append(poly_x)\n",
    "        else:\n",
    "            poly_w = fit_polynomial_reg(x,t,M[i],lamb)\n",
    "            weights.append(poly_w)\n",
    "            #poly_xes.append(poly_x)\n",
    "            \n",
    "    #print len(weights) , ' the number of weights vectors'\n",
    "    #print len(poly_xes) , ' the number of models'\n",
    "    \n",
    "    return weights\n",
    "\n",
    "\n"
   ]
  },
  {
   "cell_type": "markdown",
   "metadata": {},
   "source": [
    "$\\newcommand{\\bPhi}{\\mathbf{\\Phi}}$\n",
    "$\\newcommand{\\bx}{\\mathbf{x}}$\n",
    "$\\newcommand{\\bw}{\\mathbf{w}}$\n",
    "$\\newcommand{\\bt}{\\mathbf{t}}$\n",
    "$\\newcommand{\\by}{\\mathbf{y}}$\n",
    "$\\newcommand{\\bm}{\\mathbf{m}}$\n",
    "$\\newcommand{\\bS}{\\mathbf{S}}$\n",
    "$\\newcommand{\\bI}{\\mathbf{I}}$\n",
    "\n",
    "## Part 1: Polynomial Regression"
   ]
  },
  {
   "cell_type": "markdown",
   "metadata": {},
   "source": [
    "### 1.1. Generate sinusoidal data (5 points)\n",
    "Write a method `gen_sinusoidal(N)` that generates toy data like in fig 1.2 of Bishop's book. The method should have a parameter $N$, and should return $N$-dimensional vectors $\\bx$ and $\\bt$, where $\\bx$ contains evenly spaced values from 0 to (including) 2$\\pi$, and the elements $t_i$ of $\\bt$ are distributed according to:\n",
    "\n",
    "$$t_i \\sim \\mathcal{N}(\\mu_i, \\sigma^2)$$\n",
    "\n",
    "where $x_i$ is the $i$-th elements of $\\bf{x}$, the mean $\\mu_i = sin(x_i)$ and the standard deviation $\\sigma = 0.2$.\n"
   ]
  },
  {
   "cell_type": "code",
   "execution_count": 365,
   "metadata": {
    "collapsed": false
   },
   "outputs": [],
   "source": [
    "def gen_sinusoidal(N):\n",
    "    \"\"\" \n",
    "    INPUT: N as the number of observations, \n",
    "    OUTPUT: vectors x and t\n",
    "    This function creates data that follows a normal distribution with \n",
    "    mean = sin(x) and sigma = 0.2\n",
    "    \"\"\"\n",
    "    \n",
    "    print 'Generating sin polynomial data'\n",
    "    sigma = 0.2\n",
    "    \n",
    "    # CREATE EVENLY SPACED VALUES IN [0,2π] SPACE\n",
    "    x = np.linspace(0, 2*np.pi, N)\n",
    "    \n",
    "    # NP.RANDOM.NORMAL TAKES IN THE MEAN AS LOC AND STANDARD DEVIATION\n",
    "    # AS SCALE\n",
    "    t = np.random.normal(loc=np.sin(x), scale=sigma)\n",
    "    \n",
    "    return x, t\n",
    "\n",
    "# Test function\n",
    "# N = 4\n",
    "# x, t = gen_sinusoidal(N)\n",
    "# print x, \"\\n\", t"
   ]
  },
  {
   "cell_type": "markdown",
   "metadata": {},
   "source": [
    "### 1.2 Polynomial regression (15 points)\n",
    "\n",
    "Write a method `fit_polynomial(x, t, M)` that finds the maximum-likelihood solution of an _unregularized_ $M$-th order polynomial for some dataset `x`. The error function to minimize w.r.t. $\\bw$ is:\n",
    "\n",
    "$E(\\bw) = \\frac{1}{2} (\\bPhi\\bw - \\bt)^T(\\bPhi\\bw - \\bt)$\n",
    "\n",
    "where $\\bPhi$ is the _feature matrix_ (or _design matrix_) as explained in Bishop's book at section 3.1.1, $\\bt$ is the vector of target values. Your method should return a vector $\\bw$ with the maximum-likelihood parameter estimates. "
   ]
  },
  {
   "cell_type": "code",
   "execution_count": 366,
   "metadata": {
    "collapsed": false
   },
   "outputs": [],
   "source": [
    "def fit_polynomial(x, t, M, verbose=False, iters=2):\n",
    "    \"\"\" \n",
    "    INPUT: x vector, t values to fit with Mth order polynomial, \n",
    "    OUTPUT: w vector of weights\n",
    "    This function fits a polynomial to the given data using Normal equations\n",
    "    \"\"\"\n",
    "    phi = create_polyval(x,M)\n",
    "    \n",
    "    w = np.dot(np.linalg.inv(np.dot(phi.T,phi)),np.dot(phi.T,t)) \n",
    "\n",
    "    return w\n",
    "\n",
    "# TEST FUNCTION\n",
    "# M = 2\n",
    "# w, phi = fit_polynomial(x, t, M)\n",
    "\n",
    "# print \"x: \\n\", x, \"\\nM: \\n\", M, \"\\nweights: \\n\", w, \"\\nfeature matrix: \\n\", phi"
   ]
  },
  {
   "cell_type": "markdown",
   "metadata": {},
   "source": [
    "### 1.3 Plot (5 points)\n",
    "Sample a dataset with $N=9$, and fit four polynomials with $M \\in (0, 1, 3, 9)$.\n",
    "For each value of $M$, plot the prediction function, along with the data and the original sine function. The resulting figure should look similar to fig 1.4 of the Bishop's book. Note that you can use matplotlib's `plt.pyplot(.)` functionality for creating grids of figures."
   ]
  },
  {
   "cell_type": "code",
   "execution_count": 367,
   "metadata": {
    "collapsed": false
   },
   "outputs": [
    {
     "name": "stdout",
     "output_type": "stream",
     "text": [
      "Generating sin polynomial data\n"
     ]
    },
    {
     "data": {
      "image/png": "[encoded data removed]",
      "text/plain": [
       "<matplotlib.figure.Figure at 0x7feb5c2fcb10>"
      ]
     },
     "metadata": {},
     "output_type": "display_data"
    }
   ],
   "source": [
    "# PRODUCE SAMPLE DATA SET N = 9\n",
    "N = 9\n",
    "np.set_printoptions(precision=3)\n",
    "x,t = gen_sinusoidal(N)\n",
    "\n",
    "# Toy visualization\n",
    "plt.scatter(x, t, color='green', alpha=1, s=45, facecolors='none')\n",
    "plt.title('Scatter plot of the toy sin function with N =%s datapoints'%(N));\n"
   ]
  },
  {
   "cell_type": "code",
   "execution_count": 368,
   "metadata": {
    "collapsed": false
   },
   "outputs": [
    {
     "name": "stdout",
     "output_type": "stream",
     "text": [
      "data points 9 polynomial size: 0\n",
      "data points 9 polynomial size: 1\n",
      "data points 9 polynomial size: 3\n",
      "data points 9 polynomial size: 9\n",
      "data points 629 polynomial size: 0\n",
      "data points 629 polynomial size: 1\n",
      "data points 629 polynomial size: 3\n",
      "data points 629 polynomial size: 9\n"
     ]
    },
    {
     "data": {
      "image/png": "[encoded data removed]",
      "text/plain": [
       "<matplotlib.figure.Figure at 0x7feb70b3b110>"
      ]
     },
     "metadata": {},
     "output_type": "display_data"
    }
   ],
   "source": [
    "M = np.array([0,1,3,9])\n",
    "def plot_prediction(poly_w, x, t):\n",
    "    \"\"\" \n",
    "    INPUT: weights and x values of polynomial, x and t values to fit \n",
    "    OUTPUT: plots 4 polynomial fit\n",
    "    This function plots 4 polynomial fits, each in a subplot\n",
    "    \"\"\"\n",
    "    \n",
    "    # CREATE AND MANAGE 4 SUBAXES\n",
    "    axes = []\n",
    "    f, ((ax1, ax2), (ax3, ax4)) = plt.subplots(2, 2, sharex='col')\n",
    "    axes.append(ax1)\n",
    "    axes.append(ax2)\n",
    "    axes.append(ax3)\n",
    "    axes.append(ax4)\n",
    "    \n",
    "    # PLOT IN EACH AXIS\n",
    "    for i in np.arange(len(axes)):\n",
    "        \n",
    "        # PLOT REAL SIN(X) FUNCTION\n",
    "        axes[i].plot(x, np.sin(x), color='lightgreen')\n",
    "        # PLOT TOY DATA SIN(X) WITH NORMAL NOISE\n",
    "        axes[i].plot(x,t,'ro')\n",
    "        # PLOT POLYNOMIAL FIT\n",
    "        xnew = np.arange(min(x),max(x),.01)\n",
    "        poly_xnew = create_polyval(xnew,M[i])\n",
    "        #ynew = np.polyval(poly_w[i],xnew)\n",
    "        axes[i].plot(xnew,poly_xnew.dot(poly_w[i]) ,color='red')\n",
    "        # NAME THE PLOT\n",
    "        axes[i].set_title('Polynomial fit for M=%u'%(M[i]))\n",
    "        \n",
    "\n",
    "        \n",
    "weights = fit_model(x,t,M)\n",
    "plot_prediction(weights, x, t)\n"
   ]
  },
  {
   "cell_type": "markdown",
   "metadata": {},
   "source": [
    "### 1.4 Regularized linear regression (10 points)\n",
    "\n",
    "Write a method `fit_polynomial_reg(x, t, M, lamb)` that fits a _regularized_ $M$-th order polynomial to the sinusoidal data, as discussed in the lectures, where `lamb` is the regularization term _lambda_. (Note that 'lambda' cannot be used as a variable name in Python since it has a special meaning). The error function to minimize w.r.t. $\\bw$:\n",
    "\n",
    "$E(\\bw) = \\frac{1}{2} (\\bPhi\\bw - \\bt)^T(\\bPhi\\bw - \\bt) + \\frac{\\lambda}{2} \\mathbf{w}^T \\mathbf{w}$\n",
    "\n",
    "For background, see section 3.1.4 of Bishop's book."
   ]
  },
  {
   "cell_type": "code",
   "execution_count": 362,
   "metadata": {
    "collapsed": false
   },
   "outputs": [
    {
     "name": "stdout",
     "output_type": "stream",
     "text": [
      "data points 9 polynomial size: 2\n"
     ]
    }
   ],
   "source": [
    "def fit_polynomial_reg(x,t,M,lamb):\n",
    "    \"\"\" \n",
    "    INPUT: x vector, t values to fit with Mth order polynomial, regularized by lamb\n",
    "    OUTPUT: w vector of weights\n",
    "    This function fits a polynomial, using regularization, to the given data using Normal equations\n",
    "    \"\"\"    \n",
    "    \n",
    "    phi = create_polyval(x,M)\n",
    "    \n",
    "    w = np.dot(np.linalg.inv(lamb*np.eye(M+1)+np.dot(phi.T,phi)),np.dot(phi.T,t))    \n",
    "    \n",
    "    return w,phi\n",
    "\n",
    "\n"
   ]
  },
  {
   "cell_type": "code",
   "execution_count": 369,
   "metadata": {
    "collapsed": false
   },
   "outputs": [
    {
     "name": "stdout",
     "output_type": "stream",
     "text": [
      "data points 9 polynomial size: 2\n",
      "data points 9 polynomial size: 0\n",
      "data points 9 polynomial size: 1\n",
      "data points 9 polynomial size: 3\n",
      "data points 9 polynomial size: 9\n",
      "data points 629 polynomial size: 0\n"
     ]
    },
    {
     "ename": "ValueError",
     "evalue": "setting an array element with a sequence.",
     "output_type": "error",
     "traceback": [
      "\u001b[1;31m---------------------------------------------------------------------------\u001b[0m",
      "\u001b[1;31mValueError\u001b[0m                                Traceback (most recent call last)",
      "\u001b[1;32m<ipython-input-369-71b6aa9fc1ab>\u001b[0m in \u001b[0;36m<module>\u001b[1;34m()\u001b[0m\n\u001b[0;32m      3\u001b[0m \u001b[0mw\u001b[0m \u001b[1;33m=\u001b[0m \u001b[0mfit_polynomial_reg\u001b[0m\u001b[1;33m(\u001b[0m\u001b[0mx\u001b[0m\u001b[1;33m,\u001b[0m \u001b[0mt\u001b[0m\u001b[1;33m,\u001b[0m \u001b[1;36m2\u001b[0m\u001b[1;33m,\u001b[0m \u001b[0mlamb\u001b[0m\u001b[1;33m)\u001b[0m\u001b[1;33m\u001b[0m\u001b[0m\n\u001b[0;32m      4\u001b[0m \u001b[0mpoly_w_reg\u001b[0m \u001b[1;33m=\u001b[0m \u001b[0mfit_model\u001b[0m\u001b[1;33m(\u001b[0m\u001b[0mx\u001b[0m\u001b[1;33m,\u001b[0m\u001b[0mt\u001b[0m\u001b[1;33m,\u001b[0m\u001b[0mM\u001b[0m\u001b[1;33m,\u001b[0m\u001b[0mlamb\u001b[0m\u001b[1;33m=\u001b[0m\u001b[1;36m0.01\u001b[0m\u001b[1;33m)\u001b[0m\u001b[1;33m\u001b[0m\u001b[0m\n\u001b[1;32m----> 5\u001b[1;33m \u001b[0mplot_prediction\u001b[0m\u001b[1;33m(\u001b[0m\u001b[0mpoly_w_reg\u001b[0m\u001b[1;33m,\u001b[0m\u001b[0mx\u001b[0m\u001b[1;33m,\u001b[0m\u001b[0mt\u001b[0m\u001b[1;33m)\u001b[0m\u001b[1;33m\u001b[0m\u001b[0m\n\u001b[0m",
      "\u001b[1;32m<ipython-input-368-04abc88f866a>\u001b[0m in \u001b[0;36mplot_prediction\u001b[1;34m(poly_w, x, t)\u001b[0m\n\u001b[0;32m     26\u001b[0m         \u001b[0mpoly_xnew\u001b[0m \u001b[1;33m=\u001b[0m \u001b[0mcreate_polyval\u001b[0m\u001b[1;33m(\u001b[0m\u001b[0mxnew\u001b[0m\u001b[1;33m,\u001b[0m\u001b[0mM\u001b[0m\u001b[1;33m[\u001b[0m\u001b[0mi\u001b[0m\u001b[1;33m]\u001b[0m\u001b[1;33m)\u001b[0m\u001b[1;33m\u001b[0m\u001b[0m\n\u001b[0;32m     27\u001b[0m         \u001b[1;31m#ynew = np.polyval(poly_w[i],xnew)\u001b[0m\u001b[1;33m\u001b[0m\u001b[1;33m\u001b[0m\u001b[0m\n\u001b[1;32m---> 28\u001b[1;33m         \u001b[0maxes\u001b[0m\u001b[1;33m[\u001b[0m\u001b[0mi\u001b[0m\u001b[1;33m]\u001b[0m\u001b[1;33m.\u001b[0m\u001b[0mplot\u001b[0m\u001b[1;33m(\u001b[0m\u001b[0mxnew\u001b[0m\u001b[1;33m,\u001b[0m\u001b[0mpoly_xnew\u001b[0m\u001b[1;33m.\u001b[0m\u001b[0mdot\u001b[0m\u001b[1;33m(\u001b[0m\u001b[0mpoly_w\u001b[0m\u001b[1;33m[\u001b[0m\u001b[0mi\u001b[0m\u001b[1;33m]\u001b[0m\u001b[1;33m)\u001b[0m \u001b[1;33m,\u001b[0m\u001b[0mcolor\u001b[0m\u001b[1;33m=\u001b[0m\u001b[1;34m'red'\u001b[0m\u001b[1;33m)\u001b[0m\u001b[1;33m\u001b[0m\u001b[0m\n\u001b[0m\u001b[0;32m     29\u001b[0m         \u001b[1;31m# NAME THE PLOT\u001b[0m\u001b[1;33m\u001b[0m\u001b[1;33m\u001b[0m\u001b[0m\n\u001b[0;32m     30\u001b[0m         \u001b[0maxes\u001b[0m\u001b[1;33m[\u001b[0m\u001b[0mi\u001b[0m\u001b[1;33m]\u001b[0m\u001b[1;33m.\u001b[0m\u001b[0mset_title\u001b[0m\u001b[1;33m(\u001b[0m\u001b[1;34m'Polynomial fit for M=%u'\u001b[0m\u001b[1;33m%\u001b[0m\u001b[1;33m(\u001b[0m\u001b[0mM\u001b[0m\u001b[1;33m[\u001b[0m\u001b[0mi\u001b[0m\u001b[1;33m]\u001b[0m\u001b[1;33m)\u001b[0m\u001b[1;33m)\u001b[0m\u001b[1;33m\u001b[0m\u001b[0m\n",
      "\u001b[1;31mValueError\u001b[0m: setting an array element with a sequence."
     ]
    },
    {
     "data": {
      "image/png": "[encoded data removed]",
      "text/plain": [
       "<matplotlib.figure.Figure at 0x7feb5e4d42d0>"
      ]
     },
     "metadata": {},
     "output_type": "display_data"
    }
   ],
   "source": [
    "# PRODUCE PLOTS FOR REGULARIZED FITTING\n",
    "poly_w_reg = fit_model(x,t,M,lamb=0.001)\n",
    "plot_prediction(poly_w_reg,x,t)"
   ]
  },
  {
   "cell_type": "markdown",
   "metadata": {},
   "source": [
    "\n",
    "\n",
    "\n",
    "\n",
    "\n",
    "### 1.5 Model selection by cross-validation (10 points)\n",
    "Use cross-validation to find a good choice of $M$ and $\\lambda$, given a dataset of $N=9$ datapoints generated with `gen_sinusoidal(9)`. You should write a function that tries (loops over) a reasonable range of choices of $M$ and $\\lambda$, and returns the choice with the best cross-validation error. In this case you can use $K=9$ folds, corresponding to _leave-one-out_ crossvalidation.\n",
    "\n",
    "You can let $M \\in (0, 1, ..., 10)$, and let $\\lambda \\in (e^{-10}, e^{-9}, ..., e^{0})$.\n",
    "\n",
    "To get you started, here's a method you can use to generate indices of cross-validation folds."
   ]
  },
  {
   "cell_type": "code",
   "execution_count": 322,
   "metadata": {
    "collapsed": false
   },
   "outputs": [],
   "source": [
    "def kfold_indices(N, k):\n",
    "    all_indices = np.arange(N,dtype=int)\n",
    "    np.random.shuffle(all_indices)\n",
    "    idx = np.floor(np.linspace(0,N,k+1))\n",
    "    train_folds = []\n",
    "    valid_folds = []\n",
    "    for fold in range(k):\n",
    "        valid_indices = all_indices[idx[fold]:idx[fold+1]]\n",
    "        valid_folds.append(valid_indices)\n",
    "        train_folds.append(np.setdiff1d(all_indices, valid_indices))\n",
    "    return train_folds, valid_folds"
   ]
  },
  {
   "cell_type": "markdown",
   "metadata": {},
   "source": [
    "Create a comprehensible plot of the cross-validation error for each choice of $M$ and $\\lambda$. Highlight the best choice. \n",
    "\n",
    "_Question_: Explain over-fitting and underfitting, illuminated by your plot. Explain the relationship with model bias and model variance."
   ]
  },
  {
   "cell_type": "markdown",
   "metadata": {},
   "source": [
    "Answer:"
   ]
  },
  {
   "cell_type": "code",
   "execution_count": 323,
   "metadata": {
    "collapsed": false
   },
   "outputs": [
    {
     "name": "stdout",
     "output_type": "stream",
     "text": [
      "total number of models: 99\n"
     ]
    },
    {
     "name": "stderr",
     "output_type": "stream",
     "text": [
      "/home/cts/anaconda2/lib/python2.7/site-packages/ipykernel/__main__.py:8: VisibleDeprecationWarning: using a non-integer number instead of an integer will result in an error in the future\n"
     ]
    }
   ],
   "source": [
    "M_fold = np.linspace(0,10,11).astype(int)\n",
    "l_fold = np.exp(np.linspace(-10,0,11))\n",
    "N = 9\n",
    "K = 9\n",
    "x_ind,t_ind =  kfold_indices(N,K)\n",
    "weights_k_fold = []\n",
    "poly_x_k_fold = []\n",
    "x_folds = []\n",
    "t_folds = []\n",
    "v_folds = []\n",
    "for k in range(K):\n",
    "    \n",
    "    x_fold = x[x_ind[k]]\n",
    "    t_fold = t[x_ind[k]]\n",
    "    v_fold = t[t_ind[k]]\n",
    "    x_folds.append(x_fold)\n",
    "    t_folds.append(t_fold)\n",
    "    v_folds.append(v_fold)\n",
    "    #M = np.array([M_fold[k]]).astype(int)\n",
    "    #lamb = np.array([l_fold[k]])\n",
    "    for j in range(M_fold.shape[0]):\n",
    "        weights,poly_x = fit_model(x_fold,t_fold,M_fold,l_fold[j])\n",
    "        \n",
    "        weights_k_fold.append(weights)\n",
    "        poly_x_k_fold.append(poly_x)\n",
    "print 'total number of models:', len(weights_k_fold)"
   ]
  },
  {
   "cell_type": "markdown",
   "metadata": {},
   "source": [
    "### 1.6 Plot best cross-validated fit (5 points)\n",
    "\n",
    "For some dataset with $N = 9$, plot the model with the optimal $M$ and $\\lambda$ according to the cross-validation error, using the method you just wrote. Let the plot make clear which $M$ and $\\lambda$ were found."
   ]
  },
  {
   "cell_type": "code",
   "execution_count": 324,
   "metadata": {
    "collapsed": false
   },
   "outputs": [
    {
     "name": "stdout",
     "output_type": "stream",
     "text": [
      "[ 2.093 -0.993  0.096]\n",
      "99\n",
      "[array([ 0.441]), array([ 0.33]), array([-0.841]), array([ 0.913]), array([ 0.141]), array([ 1.042]), array([-0.711]), array([-0.907]), array([ 0.756])]\n"
     ]
    },
    {
     "ename": "IndexError",
     "evalue": "list index out of range",
     "output_type": "error",
     "traceback": [
      "\u001b[1;31m---------------------------------------------------------------------------\u001b[0m",
      "\u001b[1;31mIndexError\u001b[0m                                Traceback (most recent call last)",
      "\u001b[1;32m<ipython-input-324-0aca8708f050>\u001b[0m in \u001b[0;36m<module>\u001b[1;34m()\u001b[0m\n\u001b[0;32m     34\u001b[0m \u001b[1;32mprint\u001b[0m \u001b[0mv_folds\u001b[0m\u001b[1;33m\u001b[0m\u001b[0m\n\u001b[0;32m     35\u001b[0m \u001b[1;32mfor\u001b[0m \u001b[0mk\u001b[0m \u001b[1;32min\u001b[0m \u001b[0mrange\u001b[0m\u001b[1;33m(\u001b[0m\u001b[0mlen\u001b[0m\u001b[1;33m(\u001b[0m\u001b[0mweights_k_fold\u001b[0m\u001b[1;33m)\u001b[0m\u001b[1;33m)\u001b[0m\u001b[1;33m:\u001b[0m\u001b[1;33m\u001b[0m\u001b[0m\n\u001b[1;32m---> 36\u001b[1;33m     \u001b[1;32mprint\u001b[0m \u001b[0mrmse\u001b[0m\u001b[1;33m(\u001b[0m\u001b[0mv_folds\u001b[0m\u001b[1;33m[\u001b[0m\u001b[0mj\u001b[0m\u001b[1;33m]\u001b[0m\u001b[1;33m,\u001b[0m\u001b[0mnp\u001b[0m\u001b[1;33m.\u001b[0m\u001b[0marray\u001b[0m\u001b[1;33m(\u001b[0m\u001b[0mweights_k_fold\u001b[0m\u001b[1;33m[\u001b[0m\u001b[0mj\u001b[0m\u001b[1;33m]\u001b[0m\u001b[1;33m)\u001b[0m\u001b[1;33m.\u001b[0m\u001b[0mdot\u001b[0m\u001b[1;33m(\u001b[0m\u001b[0mnp\u001b[0m\u001b[1;33m.\u001b[0m\u001b[0marray\u001b[0m\u001b[1;33m(\u001b[0m\u001b[0mpoly_x_k_fold\u001b[0m\u001b[1;33m[\u001b[0m\u001b[0mj\u001b[0m\u001b[1;33m]\u001b[0m\u001b[1;33m)\u001b[0m\u001b[1;33m)\u001b[0m\u001b[1;33m)\u001b[0m\u001b[1;33m\u001b[0m\u001b[0m\n\u001b[0m\u001b[0;32m     37\u001b[0m     \u001b[1;31m#plot_prediction_cv(weights_k_fold[j],poly_x_k_fold[j],x_folds[j],t_folds[j],M_fold)\u001b[0m\u001b[1;33m\u001b[0m\u001b[1;33m\u001b[0m\u001b[0m\n",
      "\u001b[1;31mIndexError\u001b[0m: list index out of range"
     ]
    }
   ],
   "source": [
    "pylab.rcParams['figure.figsize'] = (15, 15)\n",
    "def plot_prediction_cv(poly_w,poly_x,x,t,M):\n",
    "    axes = []\n",
    "    f, ((ax1, ax2,ax3, ax4,ax5),(ax6,ax7,ax8,ax9,ax10)) = plt.subplots(2,5 , sharex='col')\n",
    "    axes.append(ax1)\n",
    "    axes.append(ax2)\n",
    "    axes.append(ax3)\n",
    "    axes.append(ax4)\n",
    "    axes.append(ax5)\n",
    "    axes.append(ax6)\n",
    "    axes.append(ax7)\n",
    "    axes.append(ax8)\n",
    "    axes.append(ax9)\n",
    "    axes.append(ax10)\n",
    "    # print poly_xes\n",
    "    # print polynomials\n",
    "    poly_w = np.array(poly_w)\n",
    "    for i in np.arange(M.shape[0]-1):\n",
    "        #print M[i]\n",
    "        plt.tight_layout()\n",
    "        axes[i].plot(x,np.sin(x),color='lightgreen')\n",
    "        axes[i].scatter(x,t,facecolor='none')\n",
    "        xnew = np.arange(min(x),max(x),.01)\n",
    "        poly_xnew = create_polyval(xnew,M[i])\n",
    "        #ynew = np.polyval(poly_w[i],xnew)\n",
    "        axes[i].plot(xnew,poly_xnew.dot(poly_w[i]) ,color='red')\n",
    "        # NAME THE PLOT\n",
    "        axes[i].set_title('Polynomial fit for M=%u'%(M[i]))\n",
    "    \n",
    "#print weights_k_fold[0]\n",
    "\n",
    "print (weights_k_fold[1][2])\n",
    "print len(poly_x_k_fold)\n",
    "print v_folds\n",
    "for k in range(len(weights_k_fold)):\n",
    "    print rmse(v_folds[j],np.array(weights_k_fold[j]).dot(np.array(poly_x_k_fold[j])))\n",
    "    #plot_prediction_cv(weights_k_fold[j],poly_x_k_fold[j],x_folds[j],t_folds[j],M_fold)\n"
   ]
  },
  {
   "cell_type": "markdown",
   "metadata": {},
   "source": [
    "## Part 2: Bayesian Linear (Polynomial) Regression\n",
    "\n",
    "### 2.1 Sinusoidal data 2 (5 points)\n",
    "\n",
    "Write a function `gen_sinusoidal2(N)` that behaves identically to `gen_sinusoidal(N)` except that the generated values $x_i$ are not linearly spaced, but drawn from a uniform distribution between $0$ and $2 \\pi$."
   ]
  },
  {
   "cell_type": "code",
   "execution_count": 331,
   "metadata": {
    "collapsed": false
   },
   "outputs": [
    {
     "name": "stdout",
     "output_type": "stream",
     "text": [
      "generating sin polynomial data\n"
     ]
    },
    {
     "data": {
      "image/png": "[encoded data removed]",
      "text/plain": [
       "<matplotlib.figure.Figure at 0x7feb5dfbc990>"
      ]
     },
     "metadata": {},
     "output_type": "display_data"
    }
   ],
   "source": [
    "pylab.rcParams['figure.figsize'] = (10, 6)\n",
    "def gen_sinusoidal2(N):\n",
    "    print 'generating sin polynomial data'\n",
    "    sigma = 0.2\n",
    "    #CREATE EVENLY SPACED VALUES IN [0,2π] SPACE\n",
    "    x = np.random.uniform(0,2*np.pi,N)\n",
    "    # SINCE THE NP.RANDOM.NORMAL TAKES THE STANDARD DEVIATION WE \n",
    "    t = np.random.normal(loc=np.sin(x),scale=sigma)\n",
    "    return x,t\n"
   ]
  },
  {
   "cell_type": "markdown",
   "metadata": {},
   "source": [
    "### 2.2 Compute Posterior (15 points)\n",
    "\n",
    "You're going to implement a Bayesian linear regression model, and fit it to the sinusoidal data. Your regression model has a zero-mean isotropic Gaussian prior over the parameters, governed by a single (scalar) precision parameter $\\alpha$, i.e.:\n",
    "\n",
    "$$p(\\bw \\;|\\; \\alpha) = \\mathcal{N}(\\bw \\;|\\; 0, \\alpha^{-1} \\bI)$$\n",
    "\n",
    "The covariance and mean of the posterior are given by:\n",
    "\n",
    "$$\\bS_N= \\left( \\alpha \\bI + \\beta \\bPhi^T \\bPhi \\right)^{-1} $$\n",
    "$$\\bm_N = \\beta\\; \\bS_N \\bPhi^T \\bt$$\n",
    "\n",
    "where $\\alpha$ is the precision of the predictive distribution, and $\\beta$ is the noise precision. \n",
    "See MLPR chapter 3.3 for background.\n",
    "\n",
    "Write a method `fit_polynomial_bayes(x, t, M, alpha, beta)` that returns the mean $\\bm_N$ and covariance $\\bS_N$ of the posterior for a $M$-th order polynomial, given a dataset, where `x`, `t` and `M` have the same meaning as in question 1.2."
   ]
  },
  {
   "cell_type": "code",
   "execution_count": 340,
   "metadata": {
    "collapsed": false
   },
   "outputs": [],
   "source": [
    "def fit_polynomial_bayes(x, t, M, alpha, beta):\n",
    "  \n",
    "    phi = create_polyval(x,M)\n",
    "    \n",
    "    cov = np.linalg.inv(alpha*np.eye(M+1)+ beta*np.dot(phi.T,phi))\n",
    "    mu  = beta*np.dot(cov,phi.T).dot(t)\n",
    "    return cov,mu\n"
   ]
  },
  {
   "cell_type": "markdown",
   "metadata": {},
   "source": [
    "### 2.3 Prediction (10 points)\n",
    "\n",
    "The predictive distribution of Bayesian linear regression is:\n",
    "\n",
    "$$ p(t \\;|\\; \\bx, \\bt, \\alpha, \\beta) = \\mathcal{N}(t \\;|\\; \\bm_N^T \\phi(\\bx), \\sigma_N^2(\\bx))$$\n",
    "\n",
    "$$ \\sigma_N^2 = \\frac{1}{\\beta} + \\phi(\\bx)^T \\bS_N \\phi(\\bx) $$\n",
    "\n",
    "where $\\phi(\\bx)$ are the computed features for a new datapoint $\\bx$, and $t$ is the predicted variable for datapoint $\\bx$. \n",
    "\n",
    "Write a function that `predict_polynomial_bayes(x, m, S, beta)` that returns the predictive mean and variance given a new datapoint `x`, posterior mean `m`, posterior variance `S` and a choice of model variance `beta`."
   ]
  },
  {
   "cell_type": "code",
   "execution_count": 337,
   "metadata": {
    "collapsed": false
   },
   "outputs": [
    {
     "name": "stdout",
     "output_type": "stream",
     "text": [
      "[[ 0.004]] [0, 1, 3, 9]\n",
      "(1,)\n",
      "0.284139598598\n"
     ]
    }
   ],
   "source": [
    "\n",
    "def predict_polynomial_bayes(x, m, S, beta,M):\n",
    "    phi=np.zeros(M+1)\n",
    "    print phi.shape\n",
    "    for i in range(M+1):\n",
    "        phi[i]=np.power(x[i],i)\n",
    "    pred_m=np.dot(m.T,phi)\n",
    "    pred_S=1/beta+ np.dot( np.dot(phi.T,S),phi)\n",
    "    return pred_S, pred_m"
   ]
  },
  {
   "cell_type": "markdown",
   "metadata": {},
   "source": [
    "### 2.4 Plot predictive distribution (10 points)\n",
    "\n",
    "a) (5 points) Generate 7 datapoints with `gen_sinusoidal2(7)`. Compute the posterior mean and covariance for a Bayesian polynomial regression model with $M=5$, $\\alpha=\\frac{1}{2}$ and $\\beta=\\frac{1}{0.2^2}$.\n",
    "Plot the Bayesian predictive distribution, where you plot (for $x$ between 0 and $2 \\pi$) $t$'s predictive mean and a 1-sigma predictive variance using `plt.fill_between(..., alpha=0.1)` (the alpha argument induces transparency).\n",
    "\n",
    "Include the datapoints in your plot.\n",
    "\n",
    "b) (5 points) For a second plot, draw 100 samples from the parameters' posterior distribution. Each of these samples is a certain choice of parameters for 5-th order polynomial regression. \n",
    "Display each of these 100 polynomials."
   ]
  },
  {
   "cell_type": "code",
   "execution_count": 341,
   "metadata": {
    "collapsed": false
   },
   "outputs": [
    {
     "name": "stdout",
     "output_type": "stream",
     "text": [
      "generating sin polynomial data\n"
     ]
    },
    {
     "data": {
      "image/png": "[encoded data removed]",
      "text/plain": [
       "<matplotlib.figure.Figure at 0x7feb6241e710>"
      ]
     },
     "metadata": {},
     "output_type": "display_data"
    }
   ],
   "source": [
    "N = 7\n",
    "beta = 1/0.2**2\n",
    "alpha = 1/2\n",
    "M = 5\n",
    "N = 7\n",
    "x,t = gen_sinusoidal2(N)\n",
    "plt.scatter(x,t,color='blue',alpha=1,s=45,facecolors='none')\n",
    "plt.title('Scatter plot of the toy sin function with N=%s data points'%(N));\n"
   ]
  },
  {
   "cell_type": "markdown",
   "metadata": {},
   "source": [
    "### 2.5 Additional questions (10 points)\n",
    "\n",
    "a) (5 points) Why is $\\beta=\\frac{1}{0.2^2}$ the best choice of $\\beta$ in section 2.4?\n",
    "\n",
    "b) (5 points) In the case of Bayesian linear regression, both the posterior of the parameters $p(\\bw \\;|\\; \\bt, \\alpha, \\beta)$ and the predictive distribution $p(t \\;|\\; \\bw, \\beta)$ are Gaussian. In consequence (and conveniently), $p(t \\;|\\; \\bt, \\alpha, \\beta)$ is also Gaussian (See Bishop's book section 3.3.2 and homework 2 question 4). This is actually one of the (rare) cases where we can make Bayesian predictions without resorting to approximative methods.\n",
    "\n",
    "Suppose you have to work with some model $p(t\\;|\\;x,\\bw)$ with parameters $\\bw$, where the posterior distribution $p(\\bw\\;|\\;\\mathcal{D})$ given dataset $\\mathcal{D}$ can not be integrated out when making predictions, but where you can still generate samples from the posterior distribution of the parameters. Explain how you can still make approximate Bayesian predictions using samples from the parameters' posterior distribution."
   ]
  },
  {
   "cell_type": "markdown",
   "metadata": {
    "collapsed": false
   },
   "source": [
    "a) If beta = 1 / 0.2^2, then we assume a sigma = 0.2. Since the toy data has been generated with exactly this sigma, the aasumption is accurate.\n",
    "\n",
    "b) In case we cannot generate predictions analytically, we can use sampling methods where we calculate the average likelihood. Similarly, we can calculate the variance by using the sampled points."
   ]
  }
 ],
 "metadata": {
  "kernelspec": {
   "display_name": "Python [Root]",
   "language": "python",
   "name": "Python [Root]"
  },
  "language_info": {
   "codemirror_mode": {
    "name": "ipython",
    "version": 2
   },
   "file_extension": ".py",
   "mimetype": "text/x-python",
   "name": "python",
   "nbconvert_exporter": "python",
   "pygments_lexer": "ipython2",
   "version": "2.7.12"
  }
 },
 "nbformat": 4,
 "nbformat_minor": 0
}
