{
 "cells": [
  {
   "cell_type": "markdown",
   "metadata": {},
   "source": [
    "# Lab 2: Classification\n",
    "\n",
    "### Machine Learning 1, September 2015\n",
    "\n",
    "* The lab exercises should be made in groups of two, three or four people.\n",
    "* The deadline is October 4th (Sunday) 23:59.\n",
    "* Assignment should be sent to Philip Versteeg (p.j.j.p.versteeg@uva.nl). The subject line of your email should be \"lab\\#\\_lastname1\\_lastname2\\_lastname3\".\n",
    "* Put your and your teammates' names in the body of the email\n",
    "* Attach the .IPYNB (IPython Notebook) file containing your code and answers. Naming of the file follows the same rule as the subject line. For example, if the subject line is \"lab01\\_Kingma\\_Hu\", the attached file should be \"lab01\\_Kingma\\_Hu.ipynb\". Only use underscores (\"\\_\") to connect names, otherwise the files cannot be parsed.\n",
    "\n",
    "Notes on implementation:\n",
    "\n",
    "* For this notebook you need to answer a few theory questions, add them in the Markdown cell's below the question. Note: you can use Latex-style code in here.\n",
    "* Focus on Part 1 the first week, and Part 2 the second week!\n",
    "* You should write your code and answers below the questions in this IPython Notebook.\n",
    "* Among the first lines of your notebook should be \"%pylab inline\". This imports all required modules, and your plots will appear inline.\n",
    "* If you have questions outside of the labs, post them on blackboard or email me.\n",
    "* NOTE: Make sure we can run your notebook / scripts!\n",
    "\n",
    "$\\newcommand{\\bx}{\\mathbf{x}}$\n",
    "$\\newcommand{\\bw}{\\mathbf{w}}$\n",
    "$\\newcommand{\\bt}{\\mathbf{t}}$\n",
    "$\\newcommand{\\by}{\\mathbf{y}}$\n",
    "$\\newcommand{\\bm}{\\mathbf{m}}$\n",
    "$\\newcommand{\\bb}{\\mathbf{b}}$\n",
    "$\\newcommand{\\bS}{\\mathbf{S}}$\n",
    "$\\newcommand{\\ba}{\\mathbf{a}}$\n",
    "$\\newcommand{\\bz}{\\mathbf{z}}$\n",
    "$\\newcommand{\\bv}{\\mathbf{v}}$\n",
    "$\\newcommand{\\bq}{\\mathbf{q}}$\n",
    "$\\newcommand{\\bp}{\\mathbf{p}}$\n",
    "$\\newcommand{\\bh}{\\mathbf{h}}$\n",
    "$\\newcommand{\\bI}{\\mathbf{I}}$\n",
    "$\\newcommand{\\bX}{\\mathbf{X}}$\n",
    "$\\newcommand{\\bT}{\\mathbf{T}}$\n",
    "$\\newcommand{\\bPhi}{\\mathbf{\\Phi}}$\n",
    "$\\newcommand{\\bW}{\\mathbf{W}}$\n",
    "$\\newcommand{\\bV}{\\mathbf{V}}$"
   ]
  },
  {
   "cell_type": "code",
   "execution_count": 1,
   "metadata": {
    "collapsed": false
   },
   "outputs": [
    {
     "name": "stdout",
     "output_type": "stream",
     "text": [
      "Populating the interactive namespace from numpy and matplotlib\n"
     ]
    }
   ],
   "source": [
    "%pylab inline\n",
    "import gzip, cPickle\n",
    "import matplotlib.pyplot as plt\n",
    "import numpy as np\n",
    "import heapq"
   ]
  },
  {
   "cell_type": "markdown",
   "metadata": {},
   "source": [
    "# Part 1. Multiclass logistic regression\n",
    "\n",
    "Scenario: you have a friend with one big problem: she's completely blind. You decided to help her: she has a special smartphone for blind people, and you are going to develop a mobile phone app that can do _machine vision_ using the mobile camera: converting a picture (from the camera) to the meaning of the image. You decide to start with an app that can read handwritten digits, i.e. convert an image of handwritten digits to text (e.g. it would enable her to read precious handwritten phone numbers).\n",
    "\n",
    "A key building block for such an app would be a function `predict_digit(x)` that returns the digit class of an image patch $\\bx$. Since hand-coding this function is highly non-trivial, you decide to solve this problem using machine learning, such that the internal parameters of this function are automatically learned using machine learning techniques.\n",
    "\n",
    "The dataset you're going to use for this is the MNIST handwritten digits dataset (`http://yann.lecun.com/exdb/mnist/`). You can load the data from `mnist.pkl.gz` we provided, using: "
   ]
  },
  {
   "cell_type": "code",
   "execution_count": 2,
   "metadata": {
    "collapsed": false
   },
   "outputs": [],
   "source": [
    "def load_mnist():\n",
    "    f = gzip.open('mnist.pkl.gz', 'rb')\n",
    "    data = cPickle.load(f)\n",
    "    f.close()\n",
    "    return data\n",
    "\n",
    "(x_train, t_train), (x_valid, t_valid), (x_test, t_test) = load_mnist()"
   ]
  },
  {
   "cell_type": "markdown",
   "metadata": {},
   "source": [
    "The tuples represent train, validation and test sets. The first element (`x_train`, `x_valid`, `x_test`) of each tuple is a $N \\times M$ matrix, where $N$ is the number of datapoints and $M = 28^2 = 784$ is the dimensionality of the data. The second element (`t_train`, `t_valid`, `t_test`) of each tuple is the corresponding $N$-dimensional vector of integers, containing the true class labels.\n",
    "\n",
    "Here's a visualisation of the first 8 digits of the trainingset:"
   ]
  },
  {
   "cell_type": "code",
   "execution_count": 4,
   "metadata": {
    "collapsed": false
   },
   "outputs": [
    {
     "data": {
      "image/png": "[encoded data removed]",
      "text/plain": [
       "<matplotlib.figure.Figure at 0x7fdca8c21150>"
      ]
     },
     "metadata": {},
     "output_type": "display_data"
    }
   ],
   "source": [
    "def plot_digits(data, numcols, shape=(28,28)):\n",
    "    numdigits = data.shape[0]\n",
    "    numrows = int(numdigits/numcols)\n",
    "    for i in range(numdigits):\n",
    "        plt.subplot(numrows, numcols, i+1)\n",
    "        plt.axis('off')\n",
    "        plt.imshow(data[i].reshape(shape), interpolation='nearest', cmap='Greys')\n",
    "    plt.show()\n",
    "    \n",
    "plot_digits(x_train[0:8], numcols=4)"
   ]
  },
  {
   "cell_type": "markdown",
   "metadata": {},
   "source": [
    "In _multiclass_ logistic regression, the conditional probability of class label $j$ given the image $\\bx$ for some datapoint is given by:\n",
    "\n",
    "$ \\log p(t = j \\;|\\; \\bx, \\bb, \\bW) = \\log q_j - \\log Z$\n",
    "\n",
    "where $\\log q_j = \\bw_j^T \\bx + b_j$ (the log of the unnormalized probability of the class $j$), and $Z = \\sum_k q_k$ is the normalizing factor. $\\bw_j$ is the $j$-th column of $\\bW$ (a matrix of size $784 \\times 10$) corresponding to the class label, $b_j$ is the $j$-th element of $\\bb$.\n",
    "\n",
    "Given an input image, the multiclass logistic regression model first computes the intermediate vector $\\log \\bq$ (of size $10 \\times 1$), using $\\log q_j = \\bw_j^T \\bx + b_j$, containing the unnormalized log-probabilities per class. \n",
    "\n",
    "The unnormalized probabilities are then normalized by $Z$ such that $\\sum_j p_j = \\sum_j \\exp(\\log p_j) = 1$. This is done by $\\log p_j = \\log q_j - \\log Z$ where $Z = \\sum_j \\exp(\\log q_j)$. This is known as the _softmax_ transformation, and is also used as a last layer of many classifcation neural network models, to ensure that the output of the network is a normalized distribution, regardless of the values of second-to-last layer ($\\log \\bq$)\n",
    "\n",
    "Warning: when computing $\\log Z$, you are likely to encounter numerical problems. Save yourself countless hours of debugging and learn the [log-sum-exp trick](https://hips.seas.harvard.edu/blog/2013/01/09/computing-log-sum-exp/ \"Title\").\n",
    "\n",
    "The network's output $\\log \\bp$ of size $10 \\times 1$ then contains the conditional log-probabilities $\\log p(t = j \\;|\\; \\bx, \\bb, \\bW)$ for each digit class $j$. In summary, the computations are done in this order:\n",
    "\n",
    "$\\bx \\rightarrow \\log \\bq \\rightarrow Z \\rightarrow \\log \\bp$\n",
    "\n",
    "Given some dataset with $N$ independent, identically distributed datapoints, the log-likelihood is given by:\n",
    "\n",
    "$ \\mathcal{L}(\\bb, \\bW) = \\sum_{n=1}^N \\mathcal{L}^{(n)}$\n",
    "\n",
    "where we use $\\mathcal{L}^{(n)}$ to denote the partial log-likelihood evaluated over a single datapoint. It is important to see that the log-probability of the class label $t^{(n)}$ given the image, is given by the $t^{(n)}$-th element of the network's output $\\log \\bp$, denoted by $\\log p_{t^{(n)}}$:\n",
    "\n",
    "$\\mathcal{L}^{(n)} = \\log p(t = t^{(n)} \\;|\\; \\bx = \\bx^{(n)}, \\bb, \\bW) = \\log p_{t^{(n)}} = \\log q_{t^{(n)}} - \\log Z^{(n)}$\n",
    "\n",
    "where $\\bx^{(n)}$ and $t^{(n)}$ are the input (image) and class label (integer) of the $n$-th datapoint, and $Z^{(n)}$ is the normalizing constant for the distribution over $t^{(n)}$.\n"
   ]
  },
  {
   "cell_type": "markdown",
   "metadata": {},
   "source": [
    "## 1.1 Gradient-based stochastic optimization\n",
    "\n",
    "### 1.1.1 Derive gradient equations (20 points)\n",
    "\n",
    "Derive the equations for computing the (first) partial derivatives of the log-likelihood w.r.t. all the parameters, evaluated at a _single_ datapoint $n$.\n",
    "\n",
    "You should start deriving the equations for $\\frac{\\partial \\mathcal{L}^{(n)}}{\\partial \\log q_j}$ for each $j$. For clarity, we'll use the shorthand $\\delta^q_j = \\frac{\\partial \\mathcal{L}^{(n)}}{\\partial \\log q_j}$.\n",
    "\n",
    "For $j = t^{(n)}$:\n",
    "$\n",
    "\\delta^q_j\n",
    "= \\frac{\\partial \\mathcal{L}^{(n)}}{\\partial \\log p_j}\n",
    "\\frac{\\partial \\log p_j}{\\partial \\log q_j}\n",
    "+ \\frac{\\partial \\mathcal{L}^{(n)}}{\\partial \\log Z}\n",
    "\\frac{\\partial \\log Z}{\\partial Z} \n",
    "\\frac{\\partial Z}{\\partial \\log q_j} \n",
    "= 1 \\cdot 1 - \\frac{\\partial \\log Z}{\\partial Z} \n",
    "\\frac{\\partial Z}{\\partial \\log q_j}\n",
    "= 1 - \\frac{\\partial \\log Z}{\\partial Z} \n",
    "\\frac{\\partial Z}{\\partial \\log q_j}\n",
    "$\n",
    "\n",
    "For $j \\neq t^{(n)}$:\n",
    "$\n",
    "\\delta^q_j\n",
    "= \\frac{\\partial \\mathcal{L}^{(n)}}{\\partial \\log Z}\n",
    "\\frac{\\partial \\log Z}{\\partial Z} \n",
    "\\frac{\\partial Z}{\\partial \\log q_j} \n",
    "= - \\frac{\\partial \\log Z}{\\partial Z} \n",
    "\\frac{\\partial Z}{\\partial \\log q_j}\n",
    "$\n",
    "\n",
    "Complete the above derivations for $\\delta^q_j$ by furtherly developing $\\frac{\\partial \\log Z}{\\partial Z}$ and $\\frac{\\partial Z}{\\partial \\log q_j}$. Both are quite simple. For these it doesn't matter whether $j = t^{(n)}$ or not.\n",
    "\n",
    "Given your equations for computing the gradients $\\delta^q_j$ it should be quite straightforward to derive the equations for the gradients of the parameters of the model, $\\frac{\\partial \\mathcal{L}^{(n)}}{\\partial W_{ij}}$ and $\\frac{\\partial \\mathcal{L}^{(n)}}{\\partial b_j}$. The gradients for the biases $\\bb$ are given by:\n",
    "\n",
    "$\n",
    "\\frac{\\partial \\mathcal{L}^{(n)}}{\\partial b_j}\n",
    "= \\frac{\\partial \\mathcal{L}^{(n)}}{\\partial \\log q_j}\n",
    "\\frac{\\partial \\log q_j}{\\partial b_j}\n",
    "= \\delta^q_j\n",
    "\\cdot 1\n",
    "= \\delta^q_j\n",
    "$\n",
    "\n",
    "The equation above gives the derivative of $\\mathcal{L}^{(n)}$ w.r.t. a single element of $\\bb$, so the vector $\\nabla_\\bb \\mathcal{L}^{(n)}$ with all derivatives of $\\mathcal{L}^{(n)}$ w.r.t. the bias parameters $\\bb$ is: \n",
    "\n",
    "$\n",
    "\\nabla_\\bb \\mathcal{L}^{(n)} = \\mathbf{\\delta}^q\n",
    "$\n",
    "\n",
    "where $\\mathbf{\\delta}^q$ denotes the vector of size $10 \\times 1$ with elements $\\mathbf{\\delta}_j^q$.\n",
    "\n",
    "The (not fully developed) equation for computing the derivative of $\\mathcal{L}^{(n)}$ w.r.t. a single element $W_{ij}$ of $\\bW$ is:\n",
    "\n",
    "$\n",
    "\\frac{\\partial \\mathcal{L}^{(n)}}{\\partial W_{ij}} =\n",
    "\\frac{\\partial \\mathcal{L}^{(n)}}{\\partial \\log q_j}\n",
    "\\frac{\\partial \\log q_j}{\\partial W_{ij}}\n",
    "= \\mathbf{\\delta}_j^q\n",
    "\\frac{\\partial \\log q_j}{\\partial W_{ij}}\n",
    "$\n",
    "\n",
    "What is $\\frac{\\partial \\log q_j}{\\partial W_{ij}}$? Complete the equation above.\n",
    "\n",
    "If you want, you can give the resulting equation in vector format ($\\nabla_{\\bw_j} \\mathcal{L}^{(n)} = ...$), like we did for $\\nabla_\\bb \\mathcal{L}^{(n)}$.\n",
    "\n",
    "#####Answer: "
   ]
  },
  {
   "cell_type": "markdown",
   "metadata": {},
   "source": [
    "$\\frac{\\partial \\log Z}{\\partial Z} = \\frac{1}{Z}$\n",
    "\n",
    "$\\frac{\\partial Z}{\\partial \\log q_j} = \\exp(log q_j)$\n",
    "\n",
    "$\\frac{\\partial log Z}{\\partial Z} \\frac{\\partial Z}{\\partial log q_j} = \\exp(log q_j - log Z)$\n",
    "\n",
    "For $j = t^{(n)}$:\n",
    "$\n",
    "\\delta^q_j\n",
    "= 1 - \\exp(log q_j - log Z)$\n",
    "\n",
    "For $j \\neq t^{(n)}$:\n",
    "$\n",
    "\\delta^q_j\n",
    "= - \\exp(log q_j - log Z)$\n",
    "\n",
    "$\\frac{\\partial log q_j}{\\partial \\bW_{ij}} = x_i$\n",
    "\n",
    "$\\nabla_{\\bw_j} \\mathcal{L}^{(n)} = \\sum_i\\mathbf{\\delta}_j^q x_i$"
   ]
  },
  {
   "cell_type": "markdown",
   "metadata": {},
   "source": [
    "### 1.1.2 Implement gradient computations (10 points)\n",
    "\n",
    "Implement the gradient calculations you derived in the previous question. Write a function `logreg_gradient(x, t, w, b)` that returns the gradients $\\nabla_{\\bw_j} \\mathcal{L}^{(n)}$ (for each $j$) and $\\nabla_{\\bb} \\mathcal{L}^{(n)}$, i.e. the first partial derivatives of the log-likelihood w.r.t. the parameters $\\bW$ and $\\bb$, evaluated at a single datapoint (`x`, `t`).\n",
    "The computation will contain roughly the following intermediate variables:\n",
    "\n",
    "$\n",
    "\\log \\bq \\rightarrow Z \\rightarrow \\log \\bp \\rightarrow \\mathbf{\\delta}^q\n",
    "$\n",
    "\n",
    "followed by computation of the gradient vectors $\\nabla_{\\bw_j} \\mathcal{L}^{(n)}$ (contained in a $784 \\times 10$ matrix) and $\\nabla_{\\bb} \\mathcal{L}^{(n)}$ (a $10 \\times 1$ vector).\n"
   ]
  },
  {
   "cell_type": "code",
   "execution_count": 5,
   "metadata": {
    "collapsed": false
   },
   "outputs": [],
   "source": [
    "def calc_logq(x, w, b):\n",
    "    logq = np.zeros(10)\n",
    "    for j in range(10):\n",
    "        logq[j] = np.dot(np.transpose(w)[j], x) + b[j]\n",
    "    return logq\n",
    "\n",
    "\n",
    "def calc_logZ(logq):\n",
    "    a = np.max(logq)\n",
    "\n",
    "    Z = 0\n",
    "    for i in range(len(logq)):\n",
    "        Z += np.exp(logq[i] - a)\n",
    "    logZ = a + np.log(Z)\n",
    "    return logZ\n",
    "\n",
    "\n",
    "def calc_logp(logq, logZ):\n",
    "    p = np.zeros(10)\n",
    "\n",
    "    for j in range(10):\n",
    "        p[j] = logq[j] - logZ\n",
    "    return p\n",
    "\n",
    "\n",
    "def logreg_gradient(x, t, w, b):\n",
    "    logq = calc_logq(x, w, b)\n",
    "    logZ = calc_logZ(logq)\n",
    "    logp = calc_logp(logq, logZ)\n",
    "    Lb = np.zeros(10)\n",
    "    for j in range(10):\n",
    "        if j == t:\n",
    "            Lb[j] = 1 - np.exp(logq[j] - logZ)\n",
    "        else:\n",
    "            Lb[j] = - np.exp(logq[j] - logZ)\n",
    "    Lw = np.zeros([784, 10])\n",
    "    for i in range(784):\n",
    "        Lw[i][t] = Lb[t] * x[i]\n",
    "\n",
    "    return Lw, Lb, logp\n",
    "\n"
   ]
  },
  {
   "cell_type": "markdown",
   "metadata": {},
   "source": [
    "\n",
    "### 1.1.3 Stochastic gradient descent (10 points)\n",
    "\n",
    "Write a function `sgd_iter(x_train, t_train, w, b)` that performs one iteration of stochastic gradient descent (SGD), and returns the new weights. It should go through the trainingset once in randomized order, call `logreg_gradient(x, t, w, b)` for each datapoint to get the gradients, and update the parameters using a small learning rate (e.g. `1E-4`). Note that in this case we're maximizing the likelihood function, so we should actually performing gradient ___ascent___... For more information about SGD, see Bishop 5.2.4 or an online source (i.e. https://en.wikipedia.org/wiki/Stochastic_gradient_descent)"
   ]
  },
  {
   "cell_type": "code",
   "execution_count": 6,
   "metadata": {
    "collapsed": false
   },
   "outputs": [],
   "source": [
    "def sgd_iter(x_train, t_train, w, b):\n",
    "    learning_rate = 0.0001\n",
    "    indexes = np.arange(0, len(x_train))\n",
    "    np.random.shuffle(indexes)\n",
    "    logps = []\n",
    "    for i in indexes:\n",
    "        x = x_train[i]\n",
    "        t = t_train[i]\n",
    "        Lw, Lb, logp = logreg_gradient(x, t, w, b)\n",
    "        w += learning_rate * Lw\n",
    "        b += learning_rate * Lb\n",
    "        logps.append(logp)\n",
    "\n",
    "    return w, b, logps\n"
   ]
  },
  {
   "cell_type": "markdown",
   "metadata": {},
   "source": [
    "## 1.2. Train\n",
    "\n",
    "### 1.2.1 Train (10 points)\n",
    "Perform a handful of training iterations through the trainingset. Plot (in one graph) the conditional log-probability of the trainingset and validation set after each iteration.\n"
   ]
  },
  {
   "cell_type": "code",
   "execution_count": 7,
   "metadata": {
    "collapsed": false
   },
   "outputs": [
    {
     "data": {
      "image/png": "[encoded data removed]",
      "text/plain": [
       "<matplotlib.figure.Figure at 0x7fdca871cdd0>"
      ]
     },
     "metadata": {},
     "output_type": "display_data"
    }
   ],
   "source": [
    "b = np.zeros(10)\n",
    "w = np.zeros([784, 10])\n",
    "\n",
    "w, b, logps = sgd_iter(x_train, t_train, w, b)\n",
    "plt.figure(1, figsize=(8, 6))\n",
    "plt.clf()\n",
    "plt.plot(np.arange(0, len(logps)), logps, lw=2)\n",
    "plt.show()\n"
   ]
  },
  {
   "cell_type": "markdown",
   "metadata": {},
   "source": [
    "### 1.2.2 Visualize weights (10 points)\n",
    "Visualize the resulting parameters $\\bW$ after a few iterations through the training set, by treating each column of $\\bW$ as an image. If you want, you can use or edit the `plot_digits(...)` above."
   ]
  },
  {
   "cell_type": "code",
   "execution_count": 10,
   "metadata": {
    "collapsed": false
   },
   "outputs": [
    {
     "data": {
      "image/png": "[encoded data removed]",
      "text/plain": [
       "<matplotlib.figure.Figure at 0x7fdca7e3c690>"
      ]
     },
     "metadata": {},
     "output_type": "display_data"
    }
   ],
   "source": [
    "plot_digits(np.transpose(w), numcols=5)"
   ]
  },
  {
   "cell_type": "markdown",
   "metadata": {},
   "source": [
    "### 1.2.3. Visualize the 8 hardest and 8 easiest digits (10 points)\n",
    "Visualize the 8 digits in the validation set with the highest probability of the true class label under the model.\n",
    "Also plot the 8 digits that were assigned the lowest probability.\n",
    "Ask yourself if these results make sense."
   ]
  },
  {
   "cell_type": "code",
   "execution_count": 8,
   "metadata": {
    "collapsed": false
   },
   "outputs": [
    {
     "name": "stdout",
     "output_type": "stream",
     "text": [
      "Hardest Numbers:\n"
     ]
    },
    {
     "data": {
      "image/png": "[encoded data removed]",
      "text/plain": [
       "<matplotlib.figure.Figure at 0x7fdca8259590>"
      ]
     },
     "metadata": {},
     "output_type": "display_data"
    },
    {
     "name": "stdout",
     "output_type": "stream",
     "text": [
      "Easiest Numbers:\n"
     ]
    },
    {
     "data": {
      "image/png": "[encoded data removed]",
      "text/plain": [
       "<matplotlib.figure.Figure at 0x7fdca8afbf90>"
      ]
     },
     "metadata": {},
     "output_type": "display_data"
    }
   ],
   "source": [
    "def validiate(x_valid, t_valid, w, b):\n",
    "    logps = []\n",
    "    for i in range(len(x_valid)):\n",
    "        x = x_valid[i]\n",
    "        t = t_valid[i]\n",
    "        Lw, Lb, logp = logreg_gradient(x, t, w, b)\n",
    "        current = logp[t]\n",
    "        logps.append((x_valid[i], current))\n",
    "    hardest = heapq.nsmallest(8, logps, key=lambda e: e[1])\n",
    "    easiest = heapq.nlargest(8, logps, key=lambda e: e[1])\n",
    "    for i in range(8):\n",
    "        hardest[i] = hardest[i][0]\n",
    "        easiest[i] = easiest[i][0]\n",
    "    return hardest, easiest\n",
    "\n",
    "hardest, easiest = validiate(x_valid, t_valid, w, b)\n",
    "\n",
    "print \"Hardest Numbers:\"\n",
    "hardest_numbers = np.asarray(hardest)\n",
    "plot_digits(hardest_numbers, numcols=4)\n",
    "\n",
    "print \"Easiest Numbers:\"\n",
    "easiest_numbers = np.asarray(easiest)\n",
    "plot_digits(easiest_numbers, numcols=4)"
   ]
  },
  {
   "cell_type": "markdown",
   "metadata": {},
   "source": [
    "# Part 2. Multilayer perceptron\n",
    "\n",
    "\n",
    "You discover that the predictions by the logistic regression classifier are not good enough for your application: the model is too simple. You want to increase the accuracy of your predictions by using a better model. For this purpose, you're going to use a multilayer perceptron (MLP), a simple kind of neural network. The perceptron wil have a single hidden layer $\\bh$ with $L$ elements. The parameters of the model are $\\bV$ (connections between input $\\bx$ and hidden layer $\\bh$), $\\ba$ (the biases/intercepts of $\\bh$), $\\bW$ (connections between $\\bh$ and $\\log q$) and $\\bb$ (the biases/intercepts of $\\log q$.\n",
    "\n",
    "The conditional probability of the class label $j$ is given by:\n",
    "\n",
    "$\\log p(t = j \\;|\\; \\bx, \\bb, \\bW) = \\log q_j - \\log Z$\n",
    "\n",
    "where $q_j$ are again the unnormalized probabilities per class, and $Z = \\sum_j q_j$ is again the probability normalizing factor. Each $q_j$ is computed using:\n",
    "\n",
    "$\\log q_j = \\bw_j^T \\bh + b_j$\n",
    "\n",
    "where $\\bh$ is a $L \\times 1$ vector with the hidden layer activations (of a hidden layer with size $L$), and $\\bw_j$ is the $j$-th column of $\\bW$ (a $L \\times 10$ matrix). Each element of the hidden layer is computed from the input vector $\\bx$ using:\n",
    "\n",
    "$h_j = \\sigma(\\bv_j^T \\bx + a_j)$\n",
    "\n",
    "where $\\bv_j$ is the $j$-th column of $\\bV$ (a $784 \\times L$ matrix), $a_j$ is the $j$-th element of $\\ba$, and $\\sigma(.)$ is the so-called sigmoid activation function, defined by:\n",
    "\n",
    "$\\sigma(x) = \\frac{1}{1 + \\exp(-x)}$\n",
    "\n",
    "Note that this model is almost equal to the multiclass logistic regression model, but with an extra 'hidden layer' $\\bh$. The activations of this hidden layer can be viewed as features computed from the input, where the feature transformation ($\\bV$ and $\\ba$) is learned.\n",
    "\n",
    "## 2.1 Derive gradient equations (20 points)\n",
    "\n",
    "State (shortly) why $\\nabla_{\\bb} \\mathcal{L}^{(n)}$ is equal to the earlier (multiclass logistic regression) case, and why $\\nabla_{\\bw_j} \\mathcal{L}^{(n)}$ is almost equal to the earlier case.\n",
    "\n",
    "Like in multiclass logistic regression, you should use intermediate variables $\\mathbf{\\delta}_j^q$. In addition, you should use intermediate variables $\\mathbf{\\delta}_j^h = \\frac{\\partial \\mathcal{L}^{(n)}}{\\partial h_j}$.\n",
    "\n",
    "Given an input image, roughly the following intermediate variables should be computed:\n",
    "\n",
    "$\n",
    "\\log \\bq \\rightarrow Z \\rightarrow \\log \\bp \\rightarrow \\mathbf{\\delta}^q \\rightarrow \\mathbf{\\delta}^h\n",
    "$\n",
    "\n",
    "where $\\mathbf{\\delta}_j^h = \\frac{\\partial \\mathcal{L}^{(n)}}{\\partial \\bh_j}$.\n",
    "\n",
    "Give the equations for computing $\\mathbf{\\delta}^h$, and for computing the derivatives of $\\mathcal{L}^{(n)}$ w.r.t. $\\bW$, $\\bb$, $\\bV$ and $\\ba$. \n",
    "\n",
    "You can use the convenient fact that $\\frac{\\partial}{\\partial x} \\sigma(x) = \\sigma(x) (1 - \\sigma(x))$.\n",
    "\n",
    "#####Answer: "
   ]
  },
  {
   "cell_type": "markdown",
   "metadata": {},
   "source": [
    "\\begin{align*}\n",
    "    \\mathbf{\\delta}^h = \\sum_j \\mathbf{\\delta}_j^h &= \\sum_j \\frac{\\partial \\mathcal{L}^{(n)}}{\\partial \\bh_j} \\\\\n",
    "    &= \\sum_j \\mathbf{\\delta}^q_j \\frac{\\partial log q_j}{\\partial \\bh_j} \\\\\n",
    "    &= \\sum_j \\mathbf{\\delta}^q_j \\bW_{ij} \\\\\n",
    "    &= \\mathbf{\\delta}^q \\bW \\\\    \n",
    "    \\nabla_{\\bw_j} \\mathcal{L}^{(n)} &= \\sum_i \\mathbf{\\delta}^q_j \\frac{\\partial log q_j}{\\partial \\bW_{ij}} \\\\\n",
    "    &= \\sum_i \\mathbf{\\delta}^q_j h_i \\\\    \n",
    "    \\nabla_{\\bb} \\mathcal{L}^{(n)} &= \\sum_j \\mathbf{\\delta}^q_j \\\\\n",
    "    j = t^{(n)}: \\delta^q_j &= 1 - \\exp(log q_j - log Z) \\\\\n",
    "    j \\neq t^{(n)}: \\delta^q_j &= - \\exp(log q_j - log Z) \\\\    \n",
    "    \\nabla_{\\bV} \\mathcal{L}^{(n)} &= \\sum_j \\mathbf{\\delta}^h_j \\frac{\\partial h_j}{\\partial \\bv_j} \\\\\n",
    "    &= \\sum_j \\mathbf{\\delta}^h_j \\bx (v_j^T\\bx + a_j)(1 - (v_j^T\\bx + a_j)) \\\\    \n",
    "    \\nabla_{\\ba} \\mathcal{L}^{(n)} &= \\sum_j \\mathbf{\\delta}^h_j \\frac{\\partial h_j}{\\partial \\ba_j} \\\\\n",
    "    &= \\sum_j \\mathbf{\\delta}^h_j (v_j^T\\bx + a_j)(1 - (v_j^T\\bx + a_j))\n",
    "\\end{align*}"
   ]
  },
  {
   "cell_type": "markdown",
   "metadata": {},
   "source": [
    "## 2.2 MAP optimization (10 points)\n",
    "\n",
    "You derived equations for finding the _maximum likelihood_ solution of the parameters. Explain, in a few sentences, how you could extend this approach so that it optimizes towards a _maximum a posteriori_ (MAP) solution of the parameters, with a Gaussian prior on the parameters. \n",
    "\n",
    "#####Answer: "
   ]
  },
  {
   "cell_type": "markdown",
   "metadata": {},
   "source": [
    "With the equations derived above we can calculate the log-likelihood. With a given Gaussian prior we can calculate the MAP by using Bayes' rule. MAP $=$ log-prior $+$ log-likelihood"
   ]
  },
  {
   "cell_type": "markdown",
   "metadata": {},
   "source": [
    "## 2.3. Implement and train a MLP (15 points)\n",
    "\n",
    "Implement a MLP model with a single hidden layer, and code to train the model."
   ]
  },
  {
   "cell_type": "code",
   "execution_count": 9,
   "metadata": {
    "collapsed": false
   },
   "outputs": [
    {
     "name": "stdout",
     "output_type": "stream",
     "text": [
      "Epoch 0\n",
      "Iteration 5000\n",
      "Tested 10000 numbers and did 6136 errors.\n",
      "This is an error ratio of 0.6136\n",
      "Iteration 10000\n",
      "Tested 10000 numbers and did 4359 errors.\n",
      "This is an error ratio of 0.4359\n",
      "Epoch 1\n",
      "Iteration 5000\n",
      "Tested 10000 numbers and did 2478 errors.\n",
      "This is an error ratio of 0.2478\n",
      "Iteration 10000\n",
      "Tested 10000 numbers and did 1832 errors.\n",
      "This is an error ratio of 0.1832\n",
      "Epoch 2\n",
      "Iteration 5000\n",
      "Tested 10000 numbers and did 1551 errors.\n",
      "This is an error ratio of 0.1551\n",
      "Iteration 10000\n",
      "Tested 10000 numbers and did 1283 errors.\n",
      "This is an error ratio of 0.1283\n",
      "Epoch 3\n",
      "Iteration 5000\n",
      "Tested 10000 numbers and did 1104 errors.\n",
      "This is an error ratio of 0.1104\n",
      "Iteration 10000\n",
      "Tested 10000 numbers and did 1170 errors.\n",
      "This is an error ratio of 0.117\n",
      "Epoch 4\n",
      "Iteration 5000\n",
      "Tested 10000 numbers and did 902 errors.\n",
      "This is an error ratio of 0.0902\n",
      "Iteration 10000\n",
      "Tested 10000 numbers and did 922 errors.\n",
      "This is an error ratio of 0.0922\n",
      "Epoch 5\n",
      "Iteration 5000\n",
      "Tested 10000 numbers and did 773 errors.\n",
      "This is an error ratio of 0.0773\n",
      "Iteration 10000\n",
      "Tested 10000 numbers and did 742 errors.\n",
      "This is an error ratio of 0.0742\n",
      "Epoch 6\n",
      "Iteration 5000\n",
      "Tested 10000 numbers and did 631 errors.\n",
      "This is an error ratio of 0.0631\n",
      "Iteration 10000\n",
      "Tested 10000 numbers and did 569 errors.\n",
      "This is an error ratio of 0.0569\n",
      "Epoch 7\n",
      "Iteration 5000\n",
      "Tested 10000 numbers and did 598 errors.\n",
      "This is an error ratio of 0.0598\n",
      "Iteration 10000\n",
      "Tested 10000 numbers and did 565 errors.\n",
      "This is an error ratio of 0.0565\n",
      "Epoch 8\n",
      "Iteration 5000\n",
      "Tested 10000 numbers and did 571 errors.\n",
      "This is an error ratio of 0.0571\n",
      "Iteration 10000\n",
      "Tested 10000 numbers and did 488 errors.\n",
      "This is an error ratio of 0.0488\n",
      "Epoch 9\n",
      "Iteration 5000\n",
      "Tested 10000 numbers and did 407 errors.\n",
      "This is an error ratio of 0.0407\n",
      "Iteration 10000\n",
      "Tested 10000 numbers and did 395 errors.\n",
      "This is an error ratio of 0.0395\n",
      "Epoch 10\n",
      "Iteration 5000\n",
      "Tested 10000 numbers and did 423 errors.\n",
      "This is an error ratio of 0.0423\n",
      "Iteration 10000\n",
      "Tested 10000 numbers and did 354 errors.\n",
      "This is an error ratio of 0.0354\n",
      "Epoch 11\n",
      "Iteration 5000\n",
      "Tested 10000 numbers and did 348 errors.\n",
      "This is an error ratio of 0.0348\n",
      "Iteration 10000\n",
      "Tested 10000 numbers and did 342 errors.\n",
      "This is an error ratio of 0.0342\n",
      "Epoch 12\n",
      "Iteration 5000\n",
      "Tested 10000 numbers and did 311 errors.\n",
      "This is an error ratio of 0.0311\n",
      "Iteration 10000\n",
      "Tested 10000 numbers and did 342 errors.\n",
      "This is an error ratio of 0.0342\n",
      "Epoch 13\n",
      "Iteration 5000\n",
      "Tested 10000 numbers and did 313 errors.\n",
      "This is an error ratio of 0.0313\n",
      "Iteration 10000\n",
      "Tested 10000 numbers and did 332 errors.\n",
      "This is an error ratio of 0.0332\n",
      "Epoch 14\n",
      "Iteration 5000\n",
      "Tested 10000 numbers and did 305 errors.\n",
      "This is an error ratio of 0.0305\n",
      "Iteration 10000\n",
      "Tested 10000 numbers and did 301 errors.\n",
      "This is an error ratio of 0.0301\n",
      "Epoch 15\n",
      "Iteration 5000\n",
      "Tested 10000 numbers and did 267 errors.\n",
      "This is an error ratio of 0.0267\n",
      "Iteration 10000\n",
      "Tested 10000 numbers and did 281 errors.\n",
      "This is an error ratio of 0.0281\n",
      "Epoch 16\n",
      "Iteration 5000\n",
      "Tested 10000 numbers and did 270 errors.\n",
      "This is an error ratio of 0.027\n",
      "Iteration 10000\n",
      "Tested 10000 numbers and did 298 errors.\n",
      "This is an error ratio of 0.0298\n",
      "Epoch 17\n",
      "Iteration 5000\n",
      "Tested 10000 numbers and did 254 errors.\n",
      "This is an error ratio of 0.0254\n",
      "Iteration 10000\n",
      "Tested 10000 numbers and did 283 errors.\n",
      "This is an error ratio of 0.0283\n",
      "Epoch 18\n",
      "Iteration 5000\n",
      "Tested 10000 numbers and did 408 errors.\n",
      "This is an error ratio of 0.0408\n",
      "Iteration 10000\n",
      "Tested 10000 numbers and did 223 errors.\n",
      "This is an error ratio of 0.0223\n",
      "Epoch 19\n",
      "Iteration 5000\n",
      "Tested 10000 numbers and did 237 errors.\n",
      "This is an error ratio of 0.0237\n",
      "Iteration 10000\n",
      "Tested 10000 numbers and did 221 errors.\n",
      "This is an error ratio of 0.0221\n",
      "Epoch 20\n",
      "Iteration 5000\n",
      "Tested 10000 numbers and did 262 errors.\n",
      "This is an error ratio of 0.0262\n",
      "Iteration 10000\n",
      "Tested 10000 numbers and did 250 errors.\n",
      "This is an error ratio of 0.025\n",
      "Epoch 21\n",
      "Iteration 5000\n",
      "Tested 10000 numbers and did 259 errors.\n",
      "This is an error ratio of 0.0259\n",
      "Iteration 10000\n",
      "Tested 10000 numbers and did 199 errors.\n",
      "This is an error ratio of 0.0199\n",
      "Epoch 22\n",
      "Iteration 5000\n",
      "Tested 10000 numbers and did 263 errors.\n",
      "This is an error ratio of 0.0263\n",
      "Iteration 10000\n",
      "Tested 10000 numbers and did 221 errors.\n",
      "This is an error ratio of 0.0221\n",
      "Epoch 23\n",
      "Iteration 5000\n",
      "Tested 10000 numbers and did 187 errors.\n",
      "This is an error ratio of 0.0187\n",
      "Iteration 10000\n",
      "Tested 10000 numbers and did 200 errors.\n",
      "This is an error ratio of 0.02\n",
      "Epoch 24\n",
      "Iteration 5000\n",
      "Tested 10000 numbers and did 185 errors.\n",
      "This is an error ratio of 0.0185\n",
      "Iteration 10000\n",
      "Tested 10000 numbers and did 173 errors.\n",
      "This is an error ratio of 0.0173\n",
      "Epoch 25\n",
      "Iteration 5000\n",
      "Tested 10000 numbers and did 182 errors.\n",
      "This is an error ratio of 0.0182\n",
      "Iteration 10000\n",
      "Tested 10000 numbers and did 168 errors.\n",
      "This is an error ratio of 0.0168\n",
      "Epoch 26\n",
      "Iteration 5000\n",
      "Tested 10000 numbers and did 182 errors.\n",
      "This is an error ratio of 0.0182\n",
      "Iteration 10000\n",
      "Tested 10000 numbers and did 195 errors.\n",
      "This is an error ratio of 0.0195\n",
      "Epoch 27\n",
      "Iteration 5000\n",
      "Tested 10000 numbers and did 154 errors.\n",
      "This is an error ratio of 0.0154\n",
      "Iteration 10000\n",
      "Tested 10000 numbers and did 183 errors.\n",
      "This is an error ratio of 0.0183\n",
      "Epoch 28\n",
      "Iteration 5000\n",
      "Tested 10000 numbers and did 181 errors.\n",
      "This is an error ratio of 0.0181\n",
      "Iteration 10000\n",
      "Tested 10000 numbers and did 172 errors.\n",
      "This is an error ratio of 0.0172\n",
      "Epoch 29\n",
      "Iteration 5000\n",
      "Tested 10000 numbers and did 179 errors.\n",
      "This is an error ratio of 0.0179\n",
      "Iteration 10000\n",
      "Tested 10000 numbers and did 169 errors.\n",
      "This is an error ratio of 0.0169\n"
     ]
    },
    {
     "data": {
      "image/png": "[encoded data removed]",
      "text/plain": [
       "<matplotlib.figure.Figure at 0xba9f748>"
      ]
     },
     "metadata": {},
     "output_type": "display_data"
    }
   ],
   "source": [
    "L = 100\n",
    "L2 = 30\n",
    "lamb = 0.0001\n",
    "\n",
    "def sigmoid(a):\n",
    "    return 1.0 / (1 + np.exp(-a))\n",
    "\n",
    "\n",
    "def sigmoid_prime(a):\n",
    "    return sigmoid(a) * (1 - sigmoid(a))\n",
    "\n",
    "\n",
    "def calc_h(x, v, a):\n",
    "    return sigmoid(np.dot(np.transpose(v), x) + a + lamb / 2 * np.linalg.norm(v) ** 2)\n",
    "\n",
    "\n",
    "def calc_logq2(h, w, b):\n",
    "    return np.dot(np.transpose(w), h) + b + lamb / 2 * np.linalg.norm(w) ** 2\n",
    "\n",
    "\n",
    "def calc_logZ2(logq):\n",
    "    a = np.max(logq)\n",
    "\n",
    "    Z = 0\n",
    "    for i in range(len(logq)):\n",
    "        Z += np.exp(logq[i] - a)\n",
    "    logZ = a + np.log(Z)\n",
    "    return logZ\n",
    "\n",
    "\n",
    "def calc_logp2(logq, logZ):\n",
    "    p = np.zeros(10)\n",
    "\n",
    "    for j in range(10):\n",
    "        p[j] = logq[j] - logZ\n",
    "    return p\n",
    "\n",
    "\n",
    "def cost_derivative(output_activations, y):\n",
    "    y_vector = np.zeros(10)\n",
    "    y_vector[y] = 1\n",
    "    return (output_activations - y_vector)\n",
    "\n",
    "\n",
    "def logreg_gradient2(x, t, v, w, a, b, c, u):\n",
    "    h = calc_h(x, v, a)\n",
    "    k = calc_h(h, u, c)\n",
    "    logq = calc_logq2(k, w, b)\n",
    "    Lb = cost_derivative(sigmoid(logq), t) * sigmoid_prime(logq)\n",
    "    Lw = np.outer(k, Lb) + lamb * w\n",
    "\n",
    "    Lc = np.dot(w, Lb) * sigmoid_prime(np.dot(np.transpose(u), h) + c + lamb / 2 * np.linalg.norm(u) ** 2)\n",
    "    Lu = np.outer(h, Lc) + lamb * u\n",
    "\n",
    "    La = np.dot(u, Lc) * sigmoid_prime(np.dot(np.transpose(v), x) + a + lamb / 2 * np.linalg.norm(v) ** 2)\n",
    "    Lv = np.outer(x, La) + lamb * v\n",
    "    return Lv, Lw, La, Lb, Lc, Lu\n",
    "\n",
    "\n",
    "def sgd_iter2(x_train, t_train, v, w, a, b, c, u):\n",
    "    learning_rate = 0.1\n",
    "    indexes = np.arange(0, len(x_train))\n",
    "    np.random.shuffle(indexes)\n",
    "    iter = 0\n",
    "    Lv = np.zeros([784, L])\n",
    "    La = np.zeros(L)\n",
    "    Lw = np.zeros([L2, 10])\n",
    "    Lb = np.zeros(10)\n",
    "    Lc = np.zeros(L2)\n",
    "    Lu = np.zeros([L, L2])\n",
    "    for i in indexes:\n",
    "        iter += 1\n",
    "        x = x_train[i]\n",
    "        t = t_train[i]\n",
    "        LLv, LLw, LLa, LLb, LLc, LLu = logreg_gradient2(x, t, v, w, a, b, c, u)\n",
    "        Lv += LLv\n",
    "        Lw += LLw\n",
    "        La += LLa\n",
    "        Lb += LLb\n",
    "        Lc += LLc\n",
    "        Lu += LLu\n",
    "        if iter % 10 == 0:\n",
    "            v -= learning_rate * (Lv)\n",
    "            w -= learning_rate * (Lw)\n",
    "            a -= learning_rate * (La)\n",
    "            b -= learning_rate * (Lb)\n",
    "            c -= learning_rate * (Lc)\n",
    "            u -= learning_rate * (Lu)\n",
    "            Lv = np.zeros([784, L])\n",
    "            La = np.zeros(L)\n",
    "            Lw = np.zeros([L2, 10])\n",
    "            Lb = np.zeros(10)\n",
    "            Lc = np.zeros(L2)\n",
    "            Lu = np.zeros([L, L2])\n",
    "        if iter % 5000 == 0:\n",
    "            print \"Iteration\", iter\n",
    "            test(x_test, t_test, v, w, a, b, c, u)\n",
    "\n",
    "    return v, w, a, b, c, u\n",
    "\n",
    "\n",
    "def feedforward(x, v, w, a, b, c, u):\n",
    "    y = np.copy(x)\n",
    "    y = sigmoid(np.dot(np.transpose(v), y) + a)\n",
    "    y = sigmoid(np.dot(np.transpose(u), y) + c)\n",
    "    y = sigmoid(np.dot(np.transpose(w), y) + b)\n",
    "    return y\n",
    "\n",
    "\n",
    "def test(x_test, t_test, v, w, a, b, c, u):\n",
    "    test_results = [(np.argmax(feedforward(x, v, w, a, b, c, u)), t)\n",
    "                    for (x, t) in zip(x_test, t_test)]\n",
    "    tested = len(x_test)\n",
    "    error = sum(int(x != y) for (x, y) in test_results)\n",
    "    print \"Tested\", tested, \"numbers and did\", error, \"errors.\"\n",
    "    print \"This is an error ratio of\", 1.0 * error / tested\n",
    "\n",
    "\n",
    "a = np.random.randn(1, L)[0]\n",
    "v = np.random.randn(784, L)\n",
    "\n",
    "c = np.random.randn(1, L2)[0]\n",
    "u = np.random.randn(L, L2)\n",
    "\n",
    "b = np.random.randn(1, 10)[0]\n",
    "w = np.random.randn(L2, 10)\n",
    "\n",
    "for i in range(30):\n",
    "    print \"Epoch\", i\n",
    "    v, w, a, b, c, u = sgd_iter2(x_test, t_test, v, w, a, b, c, u)\n",
    "\n",
    "plot_digits(np.transpose(np.dot(np.dot(v, u), w)), numcols=5)\n",
    "\n",
    "\n",
    "\n"
   ]
  },
  {
   "cell_type": "markdown",
   "metadata": {},
   "source": [
    "### 2.3.1. Less than 250 misclassifications on the test set (10 bonus points)\n",
    "\n",
    "You receive an additional 10 bonus points if you manage to train a model with very high accuracy: at most 2.5% misclasified digits on the test set. Note that the test set contains 10000 digits, so you model should misclassify at most 250 digits. This should be achievable with a MLP model with one hidden layer. See results of various models at : `http://yann.lecun.com/exdb/mnist/index.html`. To reach such a low accuracy, you probably need to have a very high $L$ (many hidden units), probably $L > 200$, and apply a strong Gaussian prior on the weights. In this case you are allowed to use the validation set for training.\n",
    "You are allowed to add additional layers, and use convolutional networks, although that is probably not required to reach 2.5% misclassifications."
   ]
  },
  {
   "cell_type": "code",
   "execution_count": 10,
   "metadata": {
    "collapsed": false
   },
   "outputs": [
    {
     "name": "stdout",
     "output_type": "stream",
     "text": [
      "Tested 10000 numbers and did 169 errors.\n",
      "This is an error ratio of 0.0169\n"
     ]
    }
   ],
   "source": [
    "# We managed to misclassify less than 250 digits by using 2 hidden layers with L1=100 and L2=30\n",
    "# and regularization constant lambda = 0.0001. It took approximately 20 epoches to achieve this error rate.\n",
    "\n",
    "test(x_test, t_test, v, w, a, b, c, u)"
   ]
  }
 ],
 "metadata": {
  "kernelspec": {
   "display_name": "Python 2",
   "language": "python",
   "name": "python2"
  },
  "language_info": {
   "codemirror_mode": {
    "name": "ipython",
    "version": 2
   },
   "file_extension": ".py",
   "mimetype": "text/x-python",
   "name": "python",
   "nbconvert_exporter": "python",
   "pygments_lexer": "ipython2",
   "version": "2.7.11"
  }
 },
 "nbformat": 4,
 "nbformat_minor": 0
}
