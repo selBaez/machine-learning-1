{
 "cells": [
  {
   "cell_type": "markdown",
   "metadata": {},
   "source": [
    "# Lab 2: Classification\n",
    "\n",
    "### Machine Learning 1, September 2016\n",
    "\n",
    "* The lab exercises should be made in groups of two people.\n",
    "* The deadline is October 9th (Sunday) 23:59.\n",
    "* Assignment should be sent to your teaching assistant. The subject line of your email should be \"lab\\#\\_lastname1\\_lastname2\\_lastname3\".\n",
    "* Put your and your teammates' names in the body of the email.\n",
    "* Attach the .IPYNB (IPython Notebook) file containing your code and answers. Naming of the file follows the same rule as the subject line. For example, if the subject line is \"lab01\\_Kingma\\_Hu\", the attached file should be \"lab01\\_Kingma\\_Hu.ipynb\". Only use underscores (\"\\_\") to connect names, otherwise the files cannot be parsed.\n",
    "\n",
    "Notes on implementation:\n",
    "\n",
    "* For this notebook you need to answer a few theory questions, add them in the Markdown cell's below the question. Note: you can use Latex-style code in here.\n",
    "* Focus on Part 1 the first week, and Part 2 the second week!\n",
    "* You should write your code and answers below the questions in this IPython Notebook.\n",
    "* Among the first lines of your notebook should be \"%pylab inline\". This imports all required modules, and your plots will appear inline.\n",
    "* If you have questions outside of the labs, post them on blackboard or email me.\n",
    "* NOTE: Make sure we can run your notebook / scripts!\n",
    "\n",
    "$\\newcommand{\\bx}{\\mathbf{x}}$\n",
    "$\\newcommand{\\bw}{\\mathbf{w}}$\n",
    "$\\newcommand{\\bt}{\\mathbf{t}}$\n",
    "$\\newcommand{\\by}{\\mathbf{y}}$\n",
    "$\\newcommand{\\bm}{\\mathbf{m}}$\n",
    "$\\newcommand{\\bb}{\\mathbf{b}}$\n",
    "$\\newcommand{\\bS}{\\mathbf{S}}$\n",
    "$\\newcommand{\\ba}{\\mathbf{a}}$\n",
    "$\\newcommand{\\bz}{\\mathbf{z}}$\n",
    "$\\newcommand{\\bv}{\\mathbf{v}}$\n",
    "$\\newcommand{\\bq}{\\mathbf{q}}$\n",
    "$\\newcommand{\\bp}{\\mathbf{p}}$\n",
    "$\\newcommand{\\bh}{\\mathbf{h}}$\n",
    "$\\newcommand{\\bI}{\\mathbf{I}}$\n",
    "$\\newcommand{\\bX}{\\mathbf{X}}$\n",
    "$\\newcommand{\\bT}{\\mathbf{T}}$\n",
    "$\\newcommand{\\bPhi}{\\mathbf{\\Phi}}$\n",
    "$\\newcommand{\\bW}{\\mathbf{W}}$\n",
    "$\\newcommand{\\bV}{\\mathbf{V}}$"
   ]
  },
  {
   "cell_type": "code",
   "execution_count": 2,
   "metadata": {
    "collapsed": false
   },
   "outputs": [
    {
     "name": "stdout",
     "output_type": "stream",
     "text": [
      "Populating the interactive namespace from numpy and matplotlib\n"
     ]
    }
   ],
   "source": [
    "%pylab inline\n",
    "import gzip, cPickle\n",
    "from sklearn.metrics import mean_squared_error"
   ]
  },
  {
   "cell_type": "code",
   "execution_count": 3,
   "metadata": {
    "collapsed": false
   },
   "outputs": [],
   "source": [
    "# HELPER FUNCTIONS\n",
    "\n",
    "def rmse(prd,t):\n",
    "    \"\"\" Calculates the root mean squared error between predictions and target values \"\"\"\n",
    "    rms = np.sqrt(mean_squared_error(t, prd))\n",
    "    return rms\n",
    "\n",
    "\n",
    "def softmax(z):\n",
    "    ''' Compute softmax , implementing with the log-sum-exp trick'''\n",
    "    return np.exp(z-np.max(z))/np.sum(np.exp(z-np.max(z)))\n",
    "\n",
    "\n",
    "def sigmoid(z):\n",
    "    ''' Sigmoid function (without logsumexp)'''\n",
    "    return 1/(1+np.exp(-z))\n",
    "\n",
    "\n",
    "def dwsigmoid(z):\n",
    "    ''' 1st order derivative of the sigmoid '''\n",
    "    return sigmoid(z)*(1-sigmoid(z))\n",
    "\n",
    "\n",
    "def cost(inpt,outpt,w,b):\n",
    "    s = calculate_log_q(inpt, outpt, w, b)\n",
    "    cost = outpt*np.log(s)+(1-outpt)*np.log(1-s) \n",
    "    return cost\n",
    "\n",
    "\n",
    "def calc_logq(inpt,w,b):\n",
    "    ''' dot product calculation'''\n",
    "    a = np.dot(inpt,w) + b.T       \n",
    "    return a\n",
    "\n",
    "def calc_logz(log_q):\n",
    "    ''' Normalization constant '''\n",
    "    a = np.max(log_q)\n",
    "    Z = np.sum(exp(log_q-a))\n",
    "    return a + np.log(Z)\n",
    "\n",
    "def calc_logp(log_q,log_Z):\n",
    "    ''' Calculate normalized log-likelihood '''\n",
    "    return log_q-log_Z"
   ]
  },
  {
   "cell_type": "markdown",
   "metadata": {},
   "source": [
    "# Part 1. Multiclass logistic regression\n",
    "\n",
    "Scenario: you have a friend with one big problem: she's completely blind. You decided to help her: she has a special smartphone for blind people, and you are going to develop a mobile phone app that can do _machine vision_ using the mobile camera: converting a picture (from the camera) to the meaning of the image. You decide to start with an app that can read handwritten digits, i.e. convert an image of handwritten digits to text (e.g. it would enable her to read precious handwritten phone numbers).\n",
    "\n",
    "A key building block for such an app would be a function `predict_digit(x)` that returns the digit class of an image patch $\\bx$. Since hand-coding this function is highly non-trivial, you decide to solve this problem using machine learning, such that the internal parameters of this function are automatically learned using machine learning techniques.\n",
    "\n",
    "The dataset you're going to use for this is the MNIST handwritten digits dataset (`http://yann.lecun.com/exdb/mnist/`). You can load the data from `mnist.pkl.gz` we provided, using: "
   ]
  },
  {
   "cell_type": "code",
   "execution_count": 4,
   "metadata": {
    "collapsed": false
   },
   "outputs": [],
   "source": [
    "def load_mnist():\n",
    "    f = gzip.open('mnist.pkl.gz', 'rb')\n",
    "    data = cPickle.load(f)\n",
    "    f.close()\n",
    "    return data\n",
    "\n",
    "(x_train, t_train), (x_valid, t_valid), (x_test, t_test) = load_mnist()\n",
    "\n",
    "# shuffle data sets\n",
    "idx = np.arange(0,x_train.shape[0])\n",
    "np.random.shuffle(idx)\n",
    "\n",
    "x_shuffle = x_train[idx]\n",
    "t_shuffle = t_train[idx]\n"
   ]
  },
  {
   "cell_type": "markdown",
   "metadata": {},
   "source": [
    "The tuples represent train, validation and test sets. The first element (`x_train`, `x_valid`, `x_test`) of each tuple is a $N \\times M$ matrix, where $N$ is the number of datapoints and $M = 28^2 = 784$ is the dimensionality of the data. The second element (`t_train`, `t_valid`, `t_test`) of each tuple is the corresponding $N$-dimensional vector of integers, containing the true class labels.\n",
    "\n",
    "Here's a visualisation of the first 8 digits of the trainingset:"
   ]
  },
  {
   "cell_type": "code",
   "execution_count": 5,
   "metadata": {
    "collapsed": false
   },
   "outputs": [
    {
     "data": {
      "image/png": "[encoded data removed]",
      "text/plain": [
       "<matplotlib.figure.Figure at 0x3124670>"
      ]
     },
     "metadata": {},
     "output_type": "display_data"
    }
   ],
   "source": [
    "def plot_digits(data, numcols, shape=(28,28)):\n",
    "    numdigits = data.shape[0]\n",
    "    pylab.rcParams['figure.figsize'] = (10, 8)\n",
    "    numrows = int(numdigits/numcols)\n",
    "    for i in range(numdigits):\n",
    "        plt.subplot(numrows, numcols, i+1)\n",
    "        plt.axis('off')\n",
    "        plt.imshow(data[i].reshape(shape), interpolation='nearest', cmap='Greys')\n",
    "    plt.suptitle(\"%u digits\"%(numdigits),fontsize=20)\n",
    "    plt.show()\n",
    "    \n",
    "    \n",
    "plot_digits(x_shuffle[0:100,:], numcols=10)"
   ]
  },
  {
   "cell_type": "markdown",
   "metadata": {},
   "source": [
    "In _multiclass_ logistic regression, the conditional probability of class label $j$ given the image $\\bx$ for some datapoint is given by:\n",
    "\n",
    "$ \\log p(t = j \\;|\\; \\bx, \\bb, \\bW) = \\log q_j - \\log Z$\n",
    "\n",
    "where $\\log q_j = \\bw_j^T \\bx + b_j$ (the log of the unnormalized probability of the class $j$), and $Z = \\sum_k q_k$ is the normalizing factor. $\\bw_j$ is the $j$-th column of $\\bW$ (a matrix of size $784 \\times 10$) corresponding to the class label, $b_j$ is the $j$-th element of $\\bb$.\n",
    "\n",
    "Given an input image, the multiclass logistic regression model first computes the intermediate vector $\\log \\bq$ (of size $10 \\times 1$), using $\\log q_j = \\bw_j^T \\bx + b_j$, containing the unnormalized log-probabilities per class. \n",
    "\n",
    "The unnormalized probabilities are then normalized by $Z$ such that $\\sum_j p_j = \\sum_j \\exp(\\log p_j) = 1$. This is done by $\\log p_j = \\log q_j - \\log Z$ where $Z = \\sum_j \\exp(\\log q_j)$. This is known as the _softmax_ transformation, and is also used as a last layer of many classifcation neural network models, to ensure that the output of the network is a normalized distribution, regardless of the values of second-to-last layer ($\\log \\bq$)\n",
    "\n",
    "Warning: when computing $\\log Z$, you are likely to encounter numerical problems. Save yourself countless hours of debugging and learn the [log-sum-exp trick](https://hips.seas.harvard.edu/blog/2013/01/09/computing-log-sum-exp/ \"Title\").\n",
    "\n",
    "The network's output $\\log \\bp$ of size $10 \\times 1$ then contains the conditional log-probabilities $\\log p(t = j \\;|\\; \\bx, \\bb, \\bW)$ for each digit class $j$. In summary, the computations are done in this order:\n",
    "\n",
    "$\\bx \\rightarrow \\log \\bq \\rightarrow Z \\rightarrow \\log \\bp$\n",
    "\n",
    "Given some dataset with $N$ independent, identically distributed datapoints, the log-likelihood is given by:\n",
    "\n",
    "$ \\mathcal{L}(\\bb, \\bW) = \\sum_{n=1}^N \\mathcal{L}^{(n)}$\n",
    "\n",
    "where we use $\\mathcal{L}^{(n)}$ to denote the partial log-likelihood evaluated over a single datapoint. It is important to see that the log-probability of the class label $t^{(n)}$ given the image, is given by the $t^{(n)}$-th element of the network's output $\\log \\bp$, denoted by $\\log p_{t^{(n)}}$:\n",
    "\n",
    "$\\mathcal{L}^{(n)} = \\log p(t = t^{(n)} \\;|\\; \\bx = \\bx^{(n)}, \\bb, \\bW) = \\log p_{t^{(n)}} = \\log q_{t^{(n)}} - \\log Z^{(n)}$\n",
    "\n",
    "where $\\bx^{(n)}$ and $t^{(n)}$ are the input (image) and class label (integer) of the $n$-th datapoint, and $Z^{(n)}$ is the normalizing constant for the distribution over $t^{(n)}$.\n"
   ]
  },
  {
   "cell_type": "markdown",
   "metadata": {},
   "source": [
    "## 1.1 Gradient-based stochastic optimization\n",
    "\n",
    "### 1.1.1 Derive gradient equations (20 points)\n",
    "\n",
    "Derive the equations for computing the (first) partial derivatives of the log-likelihood w.r.t. all the parameters, evaluated at a _single_ datapoint $n$.\n",
    "\n",
    "You should start deriving the equations for $\\frac{\\partial \\mathcal{L}^{(n)}}{\\partial \\log q_j}$ for each $j$. For clarity, we'll use the shorthand $\\delta^q_j = \\frac{\\partial \\mathcal{L}^{(n)}}{\\partial \\log q_j}$.\n",
    "\n",
    "For $j = t^{(n)}$:\n",
    "$\n",
    "\\delta^q_j\n",
    "= \\frac{\\partial \\mathcal{L}^{(n)}}{\\partial \\log p_j}\n",
    "\\frac{\\partial \\log p_j}{\\partial \\log q_j}\n",
    "+ \\frac{\\partial \\mathcal{L}^{(n)}}{\\partial \\log Z}\n",
    "\\frac{\\partial \\log Z}{\\partial Z} \n",
    "\\frac{\\partial Z}{\\partial \\log q_j} \n",
    "= 1 \\cdot 1 - \\frac{\\partial \\log Z}{\\partial Z} \n",
    "\\frac{\\partial Z}{\\partial \\log q_j}\n",
    "= 1 - \\frac{\\partial \\log Z}{\\partial Z} \n",
    "\\frac{\\partial Z}{\\partial \\log q_j}\n",
    "$\n",
    "\n",
    "For $j \\neq t^{(n)}$:\n",
    "$\n",
    "\\delta^q_j\n",
    "= \\frac{\\partial \\mathcal{L}^{(n)}}{\\partial \\log Z}\n",
    "\\frac{\\partial \\log Z}{\\partial Z} \n",
    "\\frac{\\partial Z}{\\partial \\log q_j} \n",
    "= - \\frac{\\partial \\log Z}{\\partial Z} \n",
    "\\frac{\\partial Z}{\\partial \\log q_j}\n",
    "$\n",
    "\n",
    "Complete the above derivations for $\\delta^q_j$ by furtherly developing $\\frac{\\partial \\log Z}{\\partial Z}$ and $\\frac{\\partial Z}{\\partial \\log q_j}$. Both are quite simple. For these it doesn't matter whether $j = t^{(n)}$ or not.\n",
    "\n",
    "Given your equations for computing the gradients $\\delta^q_j$ it should be quite straightforward to derive the equations for the gradients of the parameters of the model, $\\frac{\\partial \\mathcal{L}^{(n)}}{\\partial W_{ij}}$ and $\\frac{\\partial \\mathcal{L}^{(n)}}{\\partial b_j}$. The gradients for the biases $\\bb$ are given by:\n",
    "\n",
    "$\n",
    "\\frac{\\partial \\mathcal{L}^{(n)}}{\\partial b_j}\n",
    "= \\frac{\\partial \\mathcal{L}^{(n)}}{\\partial \\log q_j}\n",
    "\\frac{\\partial \\log q_j}{\\partial b_j}\n",
    "= \\delta^q_j\n",
    "\\cdot 1\n",
    "= \\delta^q_j\n",
    "$\n",
    "\n",
    "The equation above gives the derivative of $\\mathcal{L}^{(n)}$ w.r.t. a single element of $\\bb$, so the vector $\\nabla_\\bb \\mathcal{L}^{(n)}$ with all derivatives of $\\mathcal{L}^{(n)}$ w.r.t. the bias parameters $\\bb$ is: \n",
    "\n",
    "$\n",
    "\\nabla_\\bb \\mathcal{L}^{(n)} = \\mathbf{\\delta}^q\n",
    "$\n",
    "\n",
    "where $\\mathbf{\\delta}^q$ denotes the vector of size $10 \\times 1$ with elements $\\mathbf{\\delta}_j^q$.\n",
    "\n",
    "The (not fully developed) equation for computing the derivative of $\\mathcal{L}^{(n)}$ w.r.t. a single element $W_{ij}$ of $\\bW$ is:\n",
    "\n",
    "$\n",
    "\\frac{\\partial \\mathcal{L}^{(n)}}{\\partial W_{ij}} =\n",
    "\\frac{\\partial \\mathcal{L}^{(n)}}{\\partial \\log q_j}\n",
    "\\frac{\\partial \\log q_j}{\\partial W_{ij}}\n",
    "= \\mathbf{\\delta}_j^q\n",
    "\\frac{\\partial \\log q_j}{\\partial W_{ij}}\n",
    "$\n",
    "\n",
    "What is $\\frac{\\partial \\log q_j}{\\partial W_{ij}}$? Complete the equation above.\n",
    "\n",
    "If you want, you can give the resulting equation in vector format ($\\nabla_{\\bw_j} \\mathcal{L}^{(n)} = ...$), like we did for $\\nabla_\\bb \\mathcal{L}^{(n)}$.\n",
    "\n",
    "#####Answer: "
   ]
  },
  {
   "cell_type": "markdown",
   "metadata": {},
   "source": [
    "* $\\frac{\\partial \\log Z}{\\partial Z} = \\frac{1}{Z}$\n",
    "\n",
    "\n",
    "* $\\frac{\\partial Z}{\\partial \\log q_j} = \\frac{\\partial (\\sum_j \\exp(\\log q_j))}{\\partial \\log q_j} = \\exp(\\log q_j) = q_j $\n",
    "\n",
    "\n",
    "* $\\frac{\\partial \\log q_j}{\\partial W_{ij}} = \\frac{\\partial (\\bw_{ij}^T \\bx_{i} + b_j)}{\\partial W_{ij}} = \\bx_{i} $\n",
    "\n",
    "\n",
    "Hence, the partial derivatives of the log-likelihood w.r.t. to all the parameters are\n",
    "\n",
    "* $ \\nabla_\\bb \\mathcal{L}^{(n)} = \\mathbf{\\delta}^q \n",
    "= [j = t^{(n)}] - \\frac{\\partial \\log Z}{\\partial Z} \n",
    "\\frac{\\partial Z}{\\partial \\log q_j}\n",
    "= [j = t^{(n)}] - (\\frac{1}{Z}) * (q_j)\n",
    "= [j = t^{(n)}] - \\frac{q_j}{Z}\n",
    "= [j = t^{(n)}] - p_j\n",
    "$\n",
    "\n",
    "\n",
    "* $\\nabla_{\\bw_j} \\mathcal{L}^{(n)} \n",
    "= \\mathbf{\\delta}^q \\frac{\\partial \\log q_j}{\\partial W_{ij}}\n",
    "= \\left([j = t^{(n)}] -  p_j \\right) \\mathbf{x}^{(n)}\n",
    "$"
   ]
  },
  {
   "cell_type": "markdown",
   "metadata": {},
   "source": [
    "\n",
    "\n",
    "### 1.1.2 Implement gradient computations (10 points)\n",
    "\n",
    "Implement the gradient calculations you derived in the previous question. Write a function `logreg_gradient(x, t, w, b)` that returns the gradients $\\nabla_{\\bw_j} \\mathcal{L}^{(n)}$ (for each $j$) and $\\nabla_{\\bb} \\mathcal{L}^{(n)}$, i.e. the first partial derivatives of the log-likelihood w.r.t. the parameters $\\bW$ and $\\bb$, evaluated at a single datapoint (`x`, `t`).\n",
    "The computation will contain roughly the following intermediate variables:\n",
    "\n",
    "$\n",
    "\\log \\bq \\rightarrow Z \\rightarrow \\log \\bp\\,,\\, \\mathbf{\\delta}^q\n",
    "$\n",
    "\n",
    "followed by computation of the gradient vectors $\\nabla_{\\bw_j} \\mathcal{L}^{(n)}$ (contained in a $784 \\times 10$ matrix) and $\\nabla_{\\bb} \\mathcal{L}^{(n)}$ (a $10 \\times 1$ vector).\n"
   ]
  },
  {
   "cell_type": "code",
   "execution_count": 6,
   "metadata": {
    "collapsed": false
   },
   "outputs": [],
   "source": [
    "def logreg_gradient(x,t,w,b):\n",
    "    ''' Compute gradients for bias and weights '''\n",
    "    # Follow steps for getting log-likelihood\n",
    "    logq = calc_logq(x,w,b)\n",
    "    logz = calc_logz(logq)\n",
    "    logp = calc_logp(logq,logz)\n",
    "    \n",
    "    # Arrays for gradients\n",
    "    nablaB = np.zeros(b.shape)\n",
    "    nablaW = np.zeros(w.shape)\n",
    "    \n",
    "    # Calculate gradient over bias\n",
    "    for j in range(b.shape[0]):\n",
    "        # Calculate p_j\n",
    "        p_j = np.exp(logq[:,j]-logz)\n",
    "        \n",
    "        if j == t:\n",
    "            nablaB[j] = 1 - p_j\n",
    "        else:\n",
    "            nablaB[j] = - p_j\n",
    "   \n",
    "    # Calculate gradient over weights\n",
    "    x = np.reshape(x,(-1,1))\n",
    "    nablaW = nablaB.dot(x.T)\n",
    "    \n",
    "    return nablaB,nablaW,logp\n",
    "\n",
    "\n",
    "# TEST FUNCTION\n",
    "tmp = np.random.randint(10,size=(1,784))\n",
    "tmpb = np.random.randint(10,size=(10,1))\n",
    "tmpw = np.random.randint(10,size=(784,10))\n",
    "tmpt = 3\n",
    "\n",
    "lb,lw,lp = logreg_gradient(tmp,tmpt,tmpw,tmpb)"
   ]
  },
  {
   "cell_type": "markdown",
   "metadata": {},
   "source": [
    "\n",
    "### 1.1.3 Stochastic gradient descent (10 points)\n",
    "\n",
    "Write a function `sgd_iter(x_train, t_train, w, b)` that performs one iteration of stochastic gradient descent (SGD), and returns the new weights. It should go through the trainingset once in randomized order, call `logreg_gradient(x, t, w, b)` for each datapoint to get the gradients, and update the parameters using a small learning rate (e.g. `1E-4`). Note that in this case we're maximizing the likelihood function, so we should actually performing gradient ___ascent___... For more information about SGD, see Bishop 5.2.4 or an online source (i.e. https://en.wikipedia.org/wiki/Stochastic_gradient_descent)"
   ]
  },
  {
   "cell_type": "code",
   "execution_count": 7,
   "metadata": {
    "collapsed": false,
    "scrolled": true
   },
   "outputs": [],
   "source": [
    "def sgd_iter(x_train, t_train, w, b, eta):\n",
    "    ''' Calculate new parameters based on gradients '''\n",
    "    logps = []\n",
    "    \n",
    "    # Iterate through all x_train\n",
    "    for i in range(x_train.shape[0]):\n",
    "        db, dw,logp = logreg_gradient(x_train[i],t_train[i],w,b)\n",
    "        #print db.shape\n",
    "        \n",
    "        # Save log-lokelihood for this sample\n",
    "        logps.append(logp)\n",
    "       \n",
    "        # Calculate new weights and bias\n",
    "        w += eta*dw.T\n",
    "        b += eta*db  \n",
    "        \n",
    "    return w, b, logps"
   ]
  },
  {
   "cell_type": "markdown",
   "metadata": {},
   "source": [
    "## 1.2. Train\n",
    "\n",
    "### 1.2.1 Train (10 points)\n",
    "Perform a handful of training iterations through the trainingset. Plot (in one graph) the conditional log-probability of the trainingset and validation set after each iteration.\n"
   ]
  },
  {
   "cell_type": "code",
   "execution_count": 8,
   "metadata": {
    "collapsed": true
   },
   "outputs": [],
   "source": [
    "def predict(x,w,b):\n",
    "    \"\"\"Compute loglikelihood and select the class with highest probability\"\"\"\n",
    "    # Loglikelihood\n",
    "    logq = calc_logq(x,w,b)\n",
    "    logz = calc_logz(logq)\n",
    "    logp = calc_logp(logq,logz)\n",
    "    \n",
    "    # Prediction and its probability\n",
    "    prediction = np.argmax(logp, axis = 1)\n",
    "    prediction_probability = np.amax(logp, axis=1)\n",
    "\n",
    "    return prediction, prediction_probability\n",
    "\n",
    "\n",
    "def correct_class_probability(x,w,b,t):\n",
    "    \"\"\"Compute loglikelihood and select the probability for prediction the correct class\"\"\"\n",
    "    # Loglikelihood\n",
    "    logq = calc_logq(x,w,b)\n",
    "    logz = calc_logz(logq)\n",
    "    logp = calc_logp(logq,logz)\n",
    "    \n",
    "    # Select logp of correct class\n",
    "    # correct_probability = np.take(logp, t, axis=1)\n",
    "    correct_probability = np.zeros(x.shape[0])\n",
    "    for n in range(x.shape[0]):\n",
    "        t_temp = t[n]\n",
    "        logp_temp = logp[n]\n",
    "        \n",
    "        correct_probability[n] = logp_temp[t_temp]\n",
    "\n",
    "    return correct_probability"
   ]
  },
  {
   "cell_type": "code",
   "execution_count": 9,
   "metadata": {
    "collapsed": false
   },
   "outputs": [
    {
     "name": "stdout",
     "output_type": "stream",
     "text": [
      "eta:  \t0.00010\n",
      "iteration: \t1, rmse error: \t5.30580814 mean loglikelihood training: \t-11.87486039 mean loglikelihood validation: \t-10.19940233\n",
      "iteration: \t2, rmse error: \t1.70699736 mean loglikelihood training: \t-12.09769574 mean loglikelihood validation: \t-10.39332346\n",
      "iteration: \t3, rmse error: \t1.58743189 mean loglikelihood training: \t-12.33602456 mean loglikelihood validation: \t-10.61225287\n",
      "iteration: \t4, rmse error: \t1.51743204 mean loglikelihood training: \t-12.54607289 mean loglikelihood validation: \t-10.81007100\n",
      "iteration: \t5, rmse error: \t1.47907403 mean loglikelihood training: \t-12.73016088 mean loglikelihood validation: \t-10.98696014\n",
      "iteration: \t6, rmse error: \t1.44716274 mean loglikelihood training: \t-12.89353034 mean loglikelihood validation: \t-11.14665771\n",
      "iteration: \t7, rmse error: \t1.42320764 mean loglikelihood training: \t-13.04050533 mean loglikelihood validation: \t-11.29245723\n",
      "iteration: \t8, rmse error: \t1.40792045 mean loglikelihood training: \t-13.17432906 mean loglikelihood validation: \t-11.42688378\n",
      "iteration: \t9, rmse error: \t1.39028774 mean loglikelihood training: \t-13.29741517 mean loglikelihood validation: \t-11.55183915\n",
      "iteration: \t10, rmse error: \t1.37477271 mean loglikelihood training: \t-13.41158168 mean loglikelihood validation: \t-11.66876908\n"
     ]
    }
   ],
   "source": [
    "# INPUT DETAILS\n",
    "img_shape = (28,28)\n",
    "num_classes = np.max(t_train)+1\n",
    "num_dims = x_train.shape[1]\n",
    "sigma = 0.01\n",
    "\n",
    "# INITIALIZE RANDOM WEIGHTS AND BIAS\n",
    "#b = np.random.normal(0,np.ones(num_classes)*sigma)\n",
    "#b = np.reshape(b,(-1,1))\n",
    "#w = np.random.normal(0,np.ones((num_dims,num_classes))*sigma)\n",
    "b = np.zeros((num_classes,1))\n",
    "w = np.zeros((num_dims,num_classes))\n",
    "# MODEL PARAMETERS\n",
    "maxiter = 10\n",
    "eta = 10**-4          # learning rate\n",
    "print \"eta:  \\t%0.5f\"%(eta)\n",
    "\n",
    "rmse_error = np.zeros(maxiter)\n",
    "ypreds = np.zeros(x_shuffle.shape[0])\n",
    "logp_correct = np.zeros((maxiter, 2))\n",
    "\n",
    "# HANDFUL OF TRAINING ITERATIONS\n",
    "for i in range(maxiter):    \n",
    "    # make predictions with current weights\n",
    "    ypreds, _, = predict(x_shuffle,w,b)\n",
    "    \n",
    "    # update weights, bias and get likelihood\n",
    "    w, b,logp_train = sgd_iter(x_shuffle, t_shuffle, w, b, eta)\n",
    "    _, _, logp_valid = sgd_iter(x_valid, t_valid, w, b, eta)\n",
    "   \n",
    "    # calculate error of predictions\n",
    "    rmse_error[i] = rmse(ypreds,t_shuffle)\n",
    "    \n",
    "    # get the probability of correct classes\n",
    "    logprobability_correct_train = correct_class_probability(x_shuffle,w,b,t_shuffle)\n",
    "    logprobability_correct_valid = correct_class_probability(x_valid,w,b,t_valid)\n",
    "    \n",
    "    # save loglikelihoods\n",
    "    logp_correct[i] = (np.mean(logprobability_correct_train), np.mean(logprobability_correct_valid))\n",
    "    print \"iteration: \\t%d, rmse error: \\t%0.8f mean loglikelihood training: \\t%0.8f mean loglikelihood validation: \\t%0.8f\"%(i+1, rmse_error[i], logp_correct[i][0], logp_correct[i][1])\n",
    "    #print \"iteration: \", i, \" eta: \", eta, \" rmse error:\", rmse_error[i], \" mean loglikelihood: \", logp_correct[i]"
   ]
  },
  {
   "cell_type": "code",
   "execution_count": 10,
   "metadata": {
    "collapsed": false
   },
   "outputs": [
    {
     "data": {
      "image/png": "[encoded data removed]",
      "text/plain": [
       "<matplotlib.figure.Figure at 0x64ff830>"
      ]
     },
     "metadata": {},
     "output_type": "display_data"
    }
   ],
   "source": [
    "# PLOT\n",
    "plt.plot(logp_correct[:, 0], label='Training data')\n",
    "plt.plot(logp_correct[:, 1], label='Validation data')\n",
    "\n",
    "plt.xlabel('Iteration')\n",
    "plt.ylabel('Loglikelihood')\n",
    "plt.title('Mean loglikelihood for the correct class as a function of sgd iterations')\n",
    "plt.legend(bbox_to_anchor=(1.05, 1), loc=2, borderaxespad=0.)\n",
    "\n",
    "plt.show()"
   ]
  },
  {
   "cell_type": "markdown",
   "metadata": {},
   "source": [
    "### 1.2.2 Visualize weights (10 points)\n",
    "Visualize the resulting parameters $\\bW$ after a few iterations through the training set, by treating each column of $\\bW$ as an image. If you want, you can use or edit the `plot_digits(...)` above."
   ]
  },
  {
   "cell_type": "code",
   "execution_count": 11,
   "metadata": {
    "collapsed": false
   },
   "outputs": [
    {
     "data": {
      "image/png": "[encoded data removed]",
      "text/plain": [
       "<matplotlib.figure.Figure at 0x1a9f10f0>"
      ]
     },
     "metadata": {},
     "output_type": "display_data"
    }
   ],
   "source": [
    "plot_digits(np.transpose(w), numcols=5)"
   ]
  },
  {
   "cell_type": "markdown",
   "metadata": {},
   "source": [
    "### 1.2.3. Visualize the 8 hardest and 8 easiest digits (10 points)\n",
    "Visualize the 8 digits in the validation set with the highest probability of the true class label under the model.\n",
    "Also plot the 8 digits that were assigned the lowest probability.\n",
    "Ask yourself if these results make sense."
   ]
  },
  {
   "cell_type": "code",
   "execution_count": 12,
   "metadata": {
    "collapsed": false
   },
   "outputs": [
    {
     "name": "stdout",
     "output_type": "stream",
     "text": [
      "Highest probability of true class:  [-4.50572635 -4.45497955 -4.33154918 -4.30517872 -4.16367693 -3.82074764\n",
      " -3.52136118 -2.78794104]\n"
     ]
    },
    {
     "data": {
      "image/png": "[encoded data removed]",
      "text/plain": [
       "<matplotlib.figure.Figure at 0x19fdf6f0>"
      ]
     },
     "metadata": {},
     "output_type": "display_data"
    },
    {
     "name": "stdout",
     "output_type": "stream",
     "text": [
      "Lowest probability of true class:  [-21.26789223 -20.72679176 -20.67956683 -20.67570574 -20.18990872\n",
      " -20.1831745  -20.00051311 -19.71667869]\n"
     ]
    },
    {
     "data": {
      "image/png": "[encoded data removed]",
      "text/plain": [
       "<matplotlib.figure.Figure at 0x8279930>"
      ]
     },
     "metadata": {},
     "output_type": "display_data"
    }
   ],
   "source": [
    "# get the probability of correct classes\n",
    "logprobability_correct_valid = correct_class_probability(x_valid,w,b,t_valid)\n",
    "\n",
    "# Sort by probability\n",
    "sorting_idx = np.argsort(logprobability_correct_valid)\n",
    "sorted_logp = logprobability_correct_valid[sorting_idx]\n",
    "sorted_digits = x_valid[sorting_idx]\n",
    "\n",
    "# Select hardest\n",
    "easiest_digits = sorted_digits[-8:]\n",
    "easiest_logp = sorted_logp[-8:]\n",
    "print \"Highest probability of true class: \", easiest_logp\n",
    "plot_digits(easiest_digits, numcols=8)\n",
    "\n",
    "# Select easiest\n",
    "hardest_digits = sorted_digits[0:8]\n",
    "hardest_logp = sorted_logp[0:8]\n",
    "print \"Lowest probability of true class: \", hardest_logp\n",
    "plot_digits(hardest_digits, numcols=8)"
   ]
  },
  {
   "cell_type": "markdown",
   "metadata": {},
   "source": [
    "# Part 2. Multilayer perceptron\n",
    "\n",
    "\n",
    "You discover that the predictions by the logistic regression classifier are not good enough for your application: the model is too simple. You want to increase the accuracy of your predictions by using a better model. For this purpose, you're going to use a multilayer perceptron (MLP), a simple kind of neural network. The perceptron wil have a single hidden layer $\\bh$ with $L$ elements. The parameters of the model are $\\bV$ (connections between input $\\bx$ and hidden layer $\\bh$), $\\ba$ (the biases/intercepts of $\\bh$), $\\bW$ (connections between $\\bh$ and $\\log q$) and $\\bb$ (the biases/intercepts of $\\log q$.\n",
    "\n",
    "The conditional probability of the class label $j$ is given by:\n",
    "\n",
    "$\\log p(t = j \\;|\\; \\bx, \\bb, \\bW) = \\log q_j - \\log Z$\n",
    "\n",
    "where $q_j$ are again the unnormalized probabilities per class, and $Z = \\sum_j q_j$ is again the probability normalizing factor. Each $q_j$ is computed using:\n",
    "\n",
    "$\\log q_j = \\bw_j^T \\bh + b_j$\n",
    "\n",
    "where $\\bh$ is a $L \\times 1$ vector with the hidden layer activations (of a hidden layer with size $L$), and $\\bw_j$ is the $j$-th column of $\\bW$ (a $L \\times 10$ matrix). Each element of the hidden layer is computed from the input vector $\\bx$ using:\n",
    "\n",
    "$h_j = \\sigma(\\bv_j^T \\bx + a_j)$\n",
    "\n",
    "where $\\bv_j$ is the $j$-th column of $\\bV$ (a $784 \\times L$ matrix), $a_j$ is the $j$-th element of $\\ba$, and $\\sigma(.)$ is the so-called sigmoid activation function, defined by:\n",
    "\n",
    "$\\sigma(x) = \\frac{1}{1 + \\exp(-x)}$\n",
    "\n",
    "Note that this model is almost equal to the multiclass logistic regression model, but with an extra 'hidden layer' $\\bh$. The activations of this hidden layer can be viewed as features computed from the input, where the feature transformation ($\\bV$ and $\\ba$) is learned.\n",
    "\n",
    "## 2.1 Derive gradient equations (20 points)\n",
    "\n",
    "State (shortly) why $\\nabla_{\\bb} \\mathcal{L}^{(n)}$ is equal to the earlier (multiclass logistic regression) case, and why $\\nabla_{\\bw_j} \\mathcal{L}^{(n)}$ is almost equal to the earlier case.\n",
    "\n",
    "Like in multiclass logistic regression, you should use intermediate variables $\\mathbf{\\delta}_j^q$. In addition, you should use intermediate variables $\\mathbf{\\delta}_j^h = \\frac{\\partial \\mathcal{L}^{(n)}}{\\partial h_j}$.\n",
    "\n",
    "Given an input image, roughly the following intermediate variables should be computed:\n",
    "\n",
    "$\n",
    "\\log \\bq \\rightarrow Z \\rightarrow \\log \\bp \\rightarrow \\mathbf{\\delta}^q \\rightarrow \\mathbf{\\delta}^h\n",
    "$\n",
    "\n",
    "where $\\mathbf{\\delta}_j^h = \\frac{\\partial \\mathcal{L}^{(n)}}{\\partial \\bh_j}$.\n",
    "\n",
    "Give the equations for computing $\\mathbf{\\delta}^h$, and for computing the derivatives of $\\mathcal{L}^{(n)}$ w.r.t. $\\bW$, $\\bb$, $\\bV$ and $\\ba$. \n",
    "\n",
    "You can use the convenient fact that $\\frac{\\partial}{\\partial x} \\sigma(x) = \\sigma(x) (1 - \\sigma(x))$.\n",
    "\n",
    "#####Answer: "
   ]
  },
  {
   "cell_type": "markdown",
   "metadata": {},
   "source": [
    "* $\\nabla_{\\bb} \\mathcal{L}^{(n)}$ stays the same because the variable $\\mathbf{b}$ is independent of all other parameters. $\\nabla_{\\bw_j} \\mathcal{L}^{(n)}$ only changes its dependency from $\\mathbf{x}$ to $\\mathbf{h}$. Hence, the $\\mathbf{x}$'s are switched with $\\mathbf{h}$'s.\n",
    "\n",
    "\n",
    "* Derivatives\n",
    "\n",
    "Let $\\mathbf{W}$ be defined as: \n",
    "\n",
    "$\\mathbf{W}$ = $\\begin{bmatrix}\n",
    "| & | & | \\\\ \n",
    "\\mathbf{w}_1 & \\dots & \\mathbf{w}_j \\\\ \n",
    "| & | & | \n",
    "\\end{bmatrix}$\n",
    "\n",
    "\n",
    "#### 1.\n",
    "$\\delta^h_{ij} = \\frac{\\partial \\mathcal{L}^{(n)}}{\\log q_j}  \\frac{\\log q_j}{\\partial h_i} = \\delta^q_j \\cdot \\mathbf{W}_{ij}$\n",
    "\n",
    "\n",
    "\n",
    "$\\delta^h_i = \\frac{\\partial \\mathcal{L}^{(n)}}{\\partial h_i} = {\\mathbf{W}_i} \\cdot \\delta^q$\n",
    "\n",
    "\n",
    "\n",
    "$\\delta^h = \\frac{\\partial \\mathcal{L}^{(n)}}{\\partial h} = \\mathbf{W} \\cdot \\delta^q$\n",
    "\n",
    "#### 2.\n",
    "$\\frac{\\partial \\mathcal{L}^{(n)}}{\\partial \\mathbf{w_j}} = \\delta^q_j \\mathbf{h}$\n",
    "\n",
    "\n",
    "\n",
    "$\\frac{\\partial \\mathcal{L}^{(n)}}{\\partial \\mathbf{W}} = \\mathbf{h} \\cdot {\\delta^q}^T$\n",
    "\n",
    "\n",
    "\n",
    "#### 3.\n",
    "$\\frac{\\partial \\mathcal{L}^{(n)}}{\\partial \\mathbf{b}} = \\delta^q$\n",
    "\n",
    "\n",
    "#### 4.\n",
    "$\\frac{\\partial \\mathcal{L}^{(n)}}{\\partial \\mathbf{v}_j} = \\delta^h_j \\sigma(\\mathbf{v}_j^T \\mathbf{x} + \\alpha_j) \\cdot (1 - \\sigma(\\mathbf{v}_j^T \\mathbf{x} + \\alpha_j)) \\mathbf{x}$\n",
    "\n",
    "\n",
    "#### 5.\n",
    "$\\frac{\\partial \\mathcal{L}^{(n)}}{\\partial a_j} = \\delta^h_j \\sigma(\\mathbf{v}_j^T \\mathbf{x} + \\alpha_j) \\cdot (1 - \\sigma(\\mathbf{v}_j^T \\mathbf{x} + \\alpha_j))$"
   ]
  },
  {
   "cell_type": "markdown",
   "metadata": {},
   "source": [
    "## 2.2 MAP optimization (10 points)\n",
    "\n",
    "You derived equations for finding the _maximum likelihood_ solution of the parameters. Explain, in a few sentences, how you could extend this approach so that it optimizes towards a _maximum a posteriori_ (MAP) solution of the parameters, with a Gaussian prior on the parameters. \n",
    "\n",
    "#####Answer: "
   ]
  },
  {
   "cell_type": "markdown",
   "metadata": {},
   "source": [
    "In order to do MAP optimization, we need to sample the weights from a Gaussian distribution as: $\\mathbf{v_j} \\sim \\mathcal{N}(\\mathbf{0} | \\alpha)$ and $\\mathbf{w_j} \\sim \\mathcal{N}(\\mathbf{0} | \\beta)$. from this we can calculate the log-prior.\n",
    "\n",
    "Furthermore, from the above steps we derived the log-likelihood. Thus, using Bayes rules we can derive the log-map as: log-MAP = log-likelihood + log-prior.\n",
    "\n",
    "We note that deriving the log-MAP has the consequence of adding a second term that regularizes the model. "
   ]
  },
  {
   "cell_type": "markdown",
   "metadata": {},
   "source": [
    "## 2.3. Implement and train a MLP (15 points)\n",
    "\n",
    "Implement a MLP model with a single hidden layer, and code to train the model."
   ]
  },
  {
   "cell_type": "code",
   "execution_count": 13,
   "metadata": {
    "collapsed": false
   },
   "outputs": [
    {
     "name": "stdout",
     "output_type": "stream",
     "text": [
      "784\n",
      "[[ 0.05841299  0.00487839 -0.05019558 ..., -0.07471471  0.05578242\n",
      "   0.07192577]\n",
      " [ 0.0464334   0.13064543 -0.03856334 ...,  0.03916136 -0.01364811\n",
      "   0.0153665 ]\n",
      " [ 0.14809802  0.03992674  0.16981513 ...,  0.06974149 -0.13285546\n",
      "   0.09608784]\n",
      " ..., \n",
      " [-0.03449171  0.04022399  0.02355093 ..., -0.07740156  0.07074637\n",
      "  -0.03714926]\n",
      " [-0.07186355 -0.08395395  0.16888054 ..., -0.03174087  0.00040101\n",
      "   0.02960102]\n",
      " [-0.01618914 -0.03701482  0.03071777 ..., -0.02105599  0.0004941\n",
      "  -0.15448857]]\n",
      "(50000, 784)\n",
      "Input: [[ 0.  0.  0. ...,  0.  0.  0.]\n",
      " [ 0.  0.  0. ...,  0.  0.  0.]\n",
      " [ 0.  0.  0. ...,  0.  0.  0.]\n",
      " ..., \n",
      " [ 0.  0.  0. ...,  0.  0.  0.]\n",
      " [ 0.  0.  0. ...,  0.  0.  0.]\n",
      " [ 0.  0.  0. ...,  0.  0.  0.]]\n",
      " Output: [[ 0.07180199  0.01536529  0.0957932  ..., -0.03713218  0.02959238\n",
      "  -0.15327114]\n",
      " [ 0.07180199  0.01536529  0.0957932  ..., -0.03713218  0.02959238\n",
      "  -0.15327114]\n",
      " [ 0.07180199  0.01536529  0.0957932  ..., -0.03713218  0.02959238\n",
      "  -0.15327114]\n",
      " ..., \n",
      " [ 0.07180199  0.01536529  0.0957932  ..., -0.03713218  0.02959238\n",
      "  -0.15327114]\n",
      " [ 0.07180199  0.01536529  0.0957932  ..., -0.03713218  0.02959238\n",
      "  -0.15327114]\n",
      " [ 0.07180199  0.01536529  0.0957932  ..., -0.03713218  0.02959238\n",
      "  -0.15327114]]\n"
     ]
    }
   ],
   "source": [
    "\n",
    "\n",
    "# Parameters of the model\n",
    "# h : hidden layer with L elements\n",
    "# V : connections between input x and hidden layer h\n",
    "# a : the biases/intercepts of h\n",
    "# W : connections between h and logq\n",
    "\n",
    "# Activation function = Sigmoid, call with sigmoid(z)\n",
    "\n",
    "class MLP:\n",
    "    \n",
    "    # class members\n",
    "    layerCount = 0\n",
    "    shape = None\n",
    "    weights = []\n",
    "    \n",
    "    # init function\n",
    "    def __init__(self, layerSize):\n",
    "        # Init the net\n",
    "        \n",
    "        # Layer info\n",
    "        self.layerCount = len(layerSize) - 1\n",
    "        self.shape = layerSize\n",
    "        \n",
    "        # Input/Output data from last run\n",
    "        \n",
    "        self._layerInput = []\n",
    "        self._layerOutput = []\n",
    "        \n",
    "        # Create the weights array for our 2 layers l1, l2\n",
    "        for (l1, l2) in zip(layerSize[:-1], layerSize[1:]):\n",
    "            self.weights.append(np.random.normal(scale = 0.1, size = (l2, l1 + 1)))\n",
    "         \n",
    "    #\n",
    "    # Run function, give inputs\n",
    "    #\n",
    "\n",
    "    def Run(self, inputData):\n",
    "        \n",
    "        print inputData.shape[1]\n",
    "        lnCases = inputData.shape[1]\n",
    "        \n",
    "        # Clear previously saved (Intermediate) value lists\n",
    "        self._layerInput = []\n",
    "        self._layerOutput = []\n",
    "\n",
    "        #\n",
    "        # Run\n",
    "        #\n",
    "\n",
    "        # For as many layers as you have :\n",
    "        for index in range(self.layerCount):\n",
    "            # Determine layer input\n",
    "            if index == 0:\n",
    "                # For the first layer, we need the first element of our weights matrix \n",
    "                # and a temporary extra columns for the bias, \n",
    "                # this is why we stack them with a np.ones matrix of the same size, \n",
    "                # also we transpose it to do the calculations\n",
    "                print self.weights[0]\n",
    "                print inputData.shape\n",
    "                \n",
    "                layerInput = self.weights[0].dot(np.vstack([inputData, np.ones([1, lnCases])]))\n",
    "            else:\n",
    "                # For each layer we append the the layer in the layerOutput matrix, so we use -1 to get the last layer and \n",
    "                layerInput = self.weights[index].dot(np.vstack([self._layerOutput[-1], np.ones([1, lnCases])]))\n",
    "\n",
    "            # Save the layer input\n",
    "            self._layerInput.append(layerInput)\n",
    "\n",
    "            # Apply the function to all input and that is the layer output\n",
    "            self._layerOutput.append(self.tanh(layerInput))\n",
    "\n",
    "\n",
    "        # Return the output from the last layer (re)transposed,\n",
    "        # so it has the same format going out as it goes in\n",
    "        return self._layerOutput[-1].T\n",
    "\n",
    "\n",
    "    # Activation function, tanh        \n",
    "    def tanh(self, x, Derivative = False):\n",
    "        if not Derivative:\n",
    "             return (np.exp(x) - np.exp(-x)) / (np.exp(x) + np.exp(-x))\n",
    "        else: \n",
    "            out = self.tanh(x)\n",
    "        \n",
    "        return (1 - out**2)\n",
    "\n",
    "\n",
    "\n",
    "        \n",
    "if __name__ == \"__main__\":\n",
    "        # init the dimensions of our data\n",
    "        D = x_train.shape[1]\n",
    "        N = x_train.shape[0]\n",
    "       \n",
    "        L1 = 3\n",
    "        T = np.max(t_train) + 1\n",
    "        \n",
    "        mlp = MLP(x_train.shape)\n",
    "        #print mlp.shape\n",
    "        #print mlp.weights\n",
    "        \n",
    "        Input = x_train\n",
    "        Output = mlp.Run(Input)\n",
    "        \n",
    "        print (\"Input: {0}\\n Output: {1}\".format(Input, Output))\n",
    "        "
   ]
  },
  {
   "cell_type": "markdown",
   "metadata": {},
   "source": [
    "### 2.3.1. Less than 250 misclassifications on the test set (10 bonus points)\n",
    "\n",
    "You receive an additional 10 bonus points if you manage to train a model with very high accuracy: at most 2.5% misclasified digits on the test set. Note that the test set contains 10000 digits, so you model should misclassify at most 250 digits. This should be achievable with a MLP model with one hidden layer. See results of various models at : `http://yann.lecun.com/exdb/mnist/index.html`. To reach such a low accuracy, you probably need to have a very high $L$ (many hidden units), probably $L > 200$, and apply a strong Gaussian prior on the weights. In this case you are allowed to use the validation set for training.\n",
    "You are allowed to add additional layers, and use convolutional networks, although that is probably not required to reach 2.5% misclassifications."
   ]
  },
  {
   "cell_type": "code",
   "execution_count": null,
   "metadata": {
    "collapsed": false
   },
   "outputs": [],
   "source": []
  }
 ],
 "metadata": {
  "anaconda-cloud": {},
  "kernelspec": {
   "display_name": "Python [Root]",
   "language": "python",
   "name": "Python [Root]"
  },
  "language_info": {
   "codemirror_mode": {
    "name": "ipython",
    "version": 2
   },
   "file_extension": ".py",
   "mimetype": "text/x-python",
   "name": "python",
   "nbconvert_exporter": "python",
   "pygments_lexer": "ipython2",
   "version": "2.7.12"
  }
 },
 "nbformat": 4,
 "nbformat_minor": 0
}
